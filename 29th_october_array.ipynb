{
 "cells": [
  {
   "cell_type": "markdown",
   "id": "22e88706-4fc4-4bf2-8b4d-6f5bf34aa55a",
   "metadata": {},
   "source": [
    "1. Given an array, check if it contains any duplicates or not.\n",
    "arr = [1, 2, 4, 2, 5, 9]\n",
    "Output = True"
   ]
  },
  {
   "cell_type": "code",
   "execution_count": 23,
   "id": "46bf31ef-1d68-4f1e-a15b-fbe5703e4f06",
   "metadata": {},
   "outputs": [
    {
     "data": {
      "text/plain": [
       "True"
      ]
     },
     "execution_count": 23,
     "metadata": {},
     "output_type": "execute_result"
    }
   ],
   "source": [
    "arr=[1,2,4,2,5,9]\n",
    "\n",
    "def contain_duplicates(arr):\n",
    "    seen=set()                     # we created a empty set to add element if it is not in seen\n",
    "    for element in arr:\n",
    "        if element in seen:        # check array element in seen set \n",
    "            return True\n",
    "        seen.add(element)          # if not in seen we add element in seen\n",
    "    return False\n",
    "\n",
    "contain_duplicates(arr)"
   ]
  },
  {
   "cell_type": "markdown",
   "id": "e3a76ce8-78cf-46cd-a694-435384ec2335",
   "metadata": {},
   "source": [
    "2. Given an array and an integer k, rotate the array to the right by k steps.\n",
    "arr = [1, 2, 3, 4, 5, 6, 7] k = 3\n",
    "Output = [5, 6, 7, 1, 2, 3, 4]"
   ]
  },
  {
   "cell_type": "code",
   "execution_count": 25,
   "id": "25c48afd-d616-46bd-940d-a204e5954bba",
   "metadata": {},
   "outputs": [
    {
     "data": {
      "text/plain": [
       "[5, 6, 7, 1, 2, 3, 4]"
      ]
     },
     "execution_count": 25,
     "metadata": {},
     "output_type": "execute_result"
    }
   ],
   "source": [
    "def rotate_array(arr,k):\n",
    "    if len(arr)<=1:\n",
    "        return arr\n",
    "    else:\n",
    "        return arr[-k:]+arr[:-k]\n",
    "\n",
    "arr=[1,2,3,4,5,6,7]\n",
    "k=3\n",
    "rotate_array(arr,k)"
   ]
  },
  {
   "cell_type": "markdown",
   "id": "f601d6f8-8fa5-46e6-9430-bbac4bc0f26f",
   "metadata": {},
   "source": [
    "3. Reverse the given array in-place, means without using any extra data structure.\n",
    "arr = [2, 4, 5, 7, 9, 12]\n",
    "Output = [12, 9, 7, 5, 4, 2]"
   ]
  },
  {
   "cell_type": "code",
   "execution_count": 26,
   "id": "ecad8c43-f96c-40c3-8a0e-82671851993b",
   "metadata": {},
   "outputs": [
    {
     "name": "stdout",
     "output_type": "stream",
     "text": [
      "[12, 9, 7, 5, 4, 2]\n"
     ]
    }
   ],
   "source": [
    "def reverse_array_in_place(arr):\n",
    "    start = 0\n",
    "    end = len(arr) - 1\n",
    "\n",
    "    while start < end:\n",
    "        # Swap elements at the start and end positions\n",
    "        arr[start], arr[end] = arr[end], arr[start]\n",
    "\n",
    "        # Move the pointers towards the center\n",
    "        start += 1\n",
    "        end -= 1\n",
    "\n",
    "# Given array\n",
    "arr = [2, 4, 5, 7, 9, 12]\n",
    "reverse_array_in_place(arr)\n",
    "print(arr)  # Output: [12, 9, 7, 5, 4, 2]\n"
   ]
  },
  {
   "cell_type": "markdown",
   "id": "cacf3a28-ea77-42dc-8e08-e1e6537dcee0",
   "metadata": {},
   "source": [
    "4. Given an array of integers, find the maximum element in an array\n",
    "arr = [10, 5, 20, 8, 15]\n",
    "Output = 20"
   ]
  },
  {
   "cell_type": "code",
   "execution_count": 27,
   "id": "78d98cfb-d9a5-45d8-b6bd-8bda365d3331",
   "metadata": {},
   "outputs": [
    {
     "data": {
      "text/plain": [
       "20"
      ]
     },
     "execution_count": 27,
     "metadata": {},
     "output_type": "execute_result"
    }
   ],
   "source": [
    "def maximum_element(arr):\n",
    "    return max(arr)\n",
    "\n",
    "arr=[10,5,20,8,15]\n",
    "maximum_element(arr)"
   ]
  },
  {
   "cell_type": "markdown",
   "id": "fe2fc970-c7af-4441-821f-e9c463039c1d",
   "metadata": {},
   "source": [
    "5. Given a sorted array, remove the duplicate element without using any extra data structure.\n",
    "arr = [1, 1, 2, 2, 2, 3, 3, 4, 4, 4, 5, 5]\n",
    "Output = [1, 2, 3, 4, 5]"
   ]
  },
  {
   "cell_type": "code",
   "execution_count": null,
   "id": "488cd8bc-113b-4792-9017-c8c32fd83adf",
   "metadata": {},
   "outputs": [],
   "source": [
    "def remove_duplicates(arr):\n",
    "    output=[]\n",
    "    for element in arr:\n",
    "        if element in output:\n",
    "            continue\n",
    "        else:\n",
    "            output.append(element)\n",
    "    return output\n",
    "\n",
    "remove_duplicates"
   ]
  }
 ],
 "metadata": {
  "kernelspec": {
   "display_name": "Python 3 (ipykernel)",
   "language": "python",
   "name": "python3"
  },
  "language_info": {
   "codemirror_mode": {
    "name": "ipython",
    "version": 3
   },
   "file_extension": ".py",
   "mimetype": "text/x-python",
   "name": "python",
   "nbconvert_exporter": "python",
   "pygments_lexer": "ipython3",
   "version": "3.10.8"
  }
 },
 "nbformat": 4,
 "nbformat_minor": 5
}
