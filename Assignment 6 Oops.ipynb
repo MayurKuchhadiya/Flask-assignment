{
 "cells": [
  {
   "cell_type": "markdown",
   "id": "cf45412f-6e21-4b65-ac4d-573d866b68a8",
   "metadata": {},
   "source": [
    "Problem 1: Bank Account Create a class representing a bank account with attributes like account number, account holder name, and balance. Implement methods to deposit and withdraw money from the account."
   ]
  },
  {
   "cell_type": "code",
   "execution_count": 21,
   "id": "8c4de4ce-cabc-4838-a435-078264bd4a1e",
   "metadata": {},
   "outputs": [
    {
     "name": "stdout",
     "output_type": "stream",
     "text": [
      "account holder name is : pwskills\n",
      "pwskills account number is 123456\n",
      "i want to deposite a amount: 5000\n",
      "i want to withdraw a amount: 2000\n"
     ]
    }
   ],
   "source": [
    "class bank_account:\n",
    "    \n",
    "    def account_detils(self,account_number,name):\n",
    "        print('account holder name is :',name)\n",
    "        print(f'{name} account number is {account_number}')\n",
    "        \n",
    "    def withdraw_money(self,amount):\n",
    "        print('i want to withdraw a amount:',amount)\n",
    "        \n",
    "    def deposite_money(self,amount):\n",
    "        print('i want to deposite a amount:',amount)\n",
    "        \n",
    "mayur=bank_account()\n",
    "mayur.account_detils(123456,'pwskills')\n",
    "mayur.deposite_money(5000)\n",
    "mayur.withdraw_money(2000)"
   ]
  },
  {
   "cell_type": "markdown",
   "id": "2ef1134d-f4eb-47a3-a89c-e0d54bfeb29e",
   "metadata": {},
   "source": [
    "Problem 2: Employee Management Create a class representing an employee with attributes like employee ID, name, and salary. Implement methods to calculate the yearly bonus and display employee details."
   ]
  },
  {
   "cell_type": "code",
   "execution_count": 22,
   "id": "10daa449-bab9-4df6-8d13-6dc02e4e8f58",
   "metadata": {},
   "outputs": [
    {
     "name": "stdout",
     "output_type": "stream",
     "text": [
      "Name of employee  : irfan\n",
      "Employee ID is    : 145123\n",
      "salary of employee: 25000\n",
      "yearly bonus is: 1250.0\n"
     ]
    }
   ],
   "source": [
    "class employee:\n",
    "    \n",
    "    def __init__(self,name,ID,salary):\n",
    "        self.name=name\n",
    "        self.employee_id=ID\n",
    "        self.salary=salary\n",
    "        \n",
    "    def yearly_bonus(self,bonus_percentage):\n",
    "        bonus=self.salary*bonus_percentage\n",
    "        print('yearly bonus is:',bonus)\n",
    "    \n",
    "    def employee_details(self):\n",
    "        print('Name of employee  :',self.name)\n",
    "        print('Employee ID is    :',self.employee_id)\n",
    "        print('salary of employee:',self.salary)\n",
    "        \n",
    "mayur=employee('irfan',145123,25000)\n",
    "mayur.employee_details()\n",
    "mayur.yearly_bonus(0.05)"
   ]
  },
  {
   "cell_type": "markdown",
   "id": "e10c6252-2723-4fd0-92e5-2361fdf68f31",
   "metadata": {},
   "source": [
    "Problem 3: Vehicle Rental Create a class representing a vehicle rental system. Implement methods to rent a vehicle, return a vehicle, and display available vehicles."
   ]
  },
  {
   "cell_type": "code",
   "execution_count": 38,
   "id": "3251417e-23aa-4870-8cb9-4dc6e16c9e6c",
   "metadata": {},
   "outputs": [
    {
     "ename": "IndentationError",
     "evalue": "unexpected indent (3365283854.py, line 30)",
     "output_type": "error",
     "traceback": [
      "\u001b[0;36m  Cell \u001b[0;32mIn[38], line 30\u001b[0;36m\u001b[0m\n\u001b[0;31m    rental_system.available_vehicles[1] = \"Car\"\u001b[0m\n\u001b[0m    ^\u001b[0m\n\u001b[0;31mIndentationError\u001b[0m\u001b[0;31m:\u001b[0m unexpected indent\n"
     ]
    }
   ],
   "source": [
    "class VehicleRentalSystem:\n",
    "    def __init__(self):\n",
    "        self.available_vehicles = {}\n",
    "\n",
    "    def rent_vehicle(self, vehicle_id, vehicle_type):\n",
    "       \n",
    "        if vehicle_id in self.available_vehicles:\n",
    "            rented_vehicle = self.available_vehicles.pop(vehicle_id)\n",
    "            print(f\"Rented {vehicle_type} with ID {vehicle_id}\")\n",
    "        else:\n",
    "            print(f\"No {vehicle_type} with ID {vehicle_id} available for rent.\")\n",
    "\n",
    "    def return_vehicle(self, vehicle_id, vehicle_type):\n",
    "       \n",
    "        self.available_vehicles[vehicle_id] = vehicle_type\n",
    "        print(f\"Returned {vehicle_type} with ID {vehicle_id}\")\n",
    "\n",
    "    def display_available_vehicles(self):\n",
    "       \n",
    "        if not self.available_vehicles:\n",
    "            print(\"No vehicles available for rent.\")\n",
    "        else:\n",
    "            print(\"Available Vehicles:\")\n",
    "            for vehicle_id, vehicle_type in self.available_vehicles.items():\n",
    "                print(f\"ID: {vehicle_id}, Type: {vehicle_type}\")\n",
    "                \n",
    "rental_system = VehicleRentalSystem()\n",
    "\n",
    "rental_system.available_vehicles[1] = \"Car\"\n",
    "rental_system.available_vehicles[2] = \"Bike\"\n",
    "rental_system.available_vehicles[3] = \"Scooter\"\n",
    "\n",
    "    rental_system.display_available_vehicles()\n",
    "\n",
    "    # Rent a vehicle\n",
    "    rental_system.rent_vehicle(1, \"Car\")\n",
    "\n",
    "    # Return a rented vehicle\n",
    "    rental_system.return_vehicle(2, \"Bike\")\n",
    "\n",
    "    # Display available vehicles again\n",
    "    rental_system.display_available_vehicles()\n",
    "\n"
   ]
  },
  {
   "cell_type": "markdown",
   "id": "8324f090-fa46-48b0-90cc-203220485aa8",
   "metadata": {},
   "source": [
    "Problem 4: Library Catalog Create classes representing a library and a book. Implement methods to add books to the library, borrow books, and display available books."
   ]
  },
  {
   "cell_type": "code",
   "execution_count": 23,
   "id": "7cac0e6a-1f1e-4885-8844-c476128d40d4",
   "metadata": {},
   "outputs": [
    {
     "name": "stdout",
     "output_type": "stream",
     "text": [
      "python is borrowed from library\n",
      "available book in library is: ['DSA', 'Data science', 'CV', 'flask']\n",
      "total available books in library is: ['DSA', 'Data science', 'CV', 'flask']\n",
      "python is added to library\n",
      "available book in library is: ['DSA', 'Data science', 'CV', 'flask', 'python']\n"
     ]
    }
   ],
   "source": [
    "class book:\n",
    "    \n",
    "    def __init__(self,book_list):\n",
    "        self.book_list=book_list\n",
    "        \n",
    "    def borrow_book(self,book):\n",
    "        if book in self.book_list:\n",
    "            self.book_list.remove(book)\n",
    "            print(f'{book} is borrowed from library')\n",
    "            print('available book in library is:',self.book_list)\n",
    "        else:\n",
    "            print(f'{book} is not available in library')\n",
    "    \n",
    "    def add_book(self,book):\n",
    "        if book not in self.book_list:\n",
    "            self.book_list.append(book)\n",
    "            print(f'{book} is added to library')\n",
    "            print('available book in library is:',self.book_list)\n",
    "        else:\n",
    "            print(f'{book} is already available in library')\n",
    "                  \n",
    "    def display_book(self):\n",
    "          print('total available books in library is:',self.book_list)\n",
    "                  \n",
    "                  \n",
    "book_list=['DSA','Data science','python','CV','flask']\n",
    "mayur=book(book_list)\n",
    "mayur.borrow_book('python')\n",
    "mayur.display_book()\n",
    "mayur.add_book('python')"
   ]
  },
  {
   "cell_type": "markdown",
   "id": "ffa752e1-c2e0-4b58-8df6-0ab53dc6fd9d",
   "metadata": {},
   "source": [
    "Problem 5: Product Inventory Create classes representing a product and an inventory system. Implement methods to add products to the inventory, update product quantity, and display available products."
   ]
  },
  {
   "cell_type": "code",
   "execution_count": 24,
   "id": "21a4787b-d13a-4dc1-890d-01f9a4d03a9f",
   "metadata": {},
   "outputs": [
    {
     "name": "stdout",
     "output_type": "stream",
     "text": [
      "body lotion is added to inventory\n",
      "quantity 6 is updated in body lotion\n",
      "avilable products in inventory are: dict_keys(['soap', 'shampoo', 'toothpaste', 'conditioner', 'body lotion'])\n"
     ]
    }
   ],
   "source": [
    "class product_inventory:\n",
    "    \n",
    "    def __init__(self,product_inv):\n",
    "        self.product_inv=product_inv\n",
    "        \n",
    "    def add_product(self,product):\n",
    "        self.product_inv[product]=1\n",
    "        print(f'{product} is added to inventory')\n",
    "        \n",
    "    def update_product_quantity(self,product,quantity):\n",
    "        self.product_inv.update({product:quantity})\n",
    "        print(f'quantity {quantity} is updated in {product}')\n",
    "        \n",
    "    def display_available(self):\n",
    "        print('avilable products in inventory are:',self.product_inv.keys())\n",
    "\n",
    "my_inventory={'soap':5,'shampoo':7,'toothpaste':3,'conditioner':9}\n",
    "mayur=product_inventory(my_inventory)\n",
    "mayur.add_product('body lotion')\n",
    "mayur.update_product_quantity('body lotion',6)\n",
    "mayur.display_available()"
   ]
  },
  {
   "cell_type": "markdown",
   "id": "f3f52572-b58f-4004-b7a4-bdcff4aa945f",
   "metadata": {},
   "source": [
    "Problem 6: Shape Calculation Create a class representing a shape with attributes like length, width, and height. Implement methods to calculate the area and perimeter of the shape."
   ]
  },
  {
   "cell_type": "code",
   "execution_count": 25,
   "id": "f58c908b-5aee-460d-9c29-2e779dff1ce2",
   "metadata": {},
   "outputs": [
    {
     "name": "stdout",
     "output_type": "stream",
     "text": [
      "Area of rectangle     : 20\n",
      "Perimeter of rectangle: 18\n",
      "Area of cuboid     : 94\n",
      "Perimeter of cuboid: 48\n"
     ]
    }
   ],
   "source": [
    "class shape:\n",
    "    \n",
    "    def __init__(self,length,width,height):\n",
    "        self.length=length\n",
    "        self.width=width\n",
    "        self.height=height\n",
    "        \n",
    "    def rectangele_shape(self):\n",
    "        print('Area of rectangle     :',self.length*self.width)\n",
    "        print('Perimeter of rectangle:',2*(self.length+self.width))\n",
    "        \n",
    "    def cuboid_shape(self):\n",
    "        print('Area of cuboid     :',2*(self.length*self.width+self.length*self.height+self.width*self.height))\n",
    "        print('Perimeter of cuboid:',4*(self.length+self.width+self.height))\n",
    "        \n",
    "mayur=shape(5,4,3)\n",
    "mayur.rectangele_shape()\n",
    "mayur.cuboid_shape()"
   ]
  },
  {
   "cell_type": "markdown",
   "id": "48bcee25-177f-498a-a735-7a0d90d5c283",
   "metadata": {},
   "source": [
    "Problem 7: Student Management Create a class representing a student with attributes like student ID, name, and grades. Implement methods to calculate the average grade and display student details."
   ]
  },
  {
   "cell_type": "code",
   "execution_count": 26,
   "id": "7d967d32-3182-4cf0-ac41-fa978ad9b1e0",
   "metadata": {},
   "outputs": [
    {
     "name": "stdout",
     "output_type": "stream",
     "text": [
      "average grade of mayur is 91.0\n",
      "name of student: mayur\n",
      "ID of student  : 145145\n"
     ]
    }
   ],
   "source": [
    "class student:\n",
    "    \n",
    "    def __init__(self,name,student_id,grades):\n",
    "        self.name=name\n",
    "        self.id=student_id\n",
    "        self.grades=grades\n",
    "        \n",
    "    def average_grade(self):\n",
    "        average=sum(self.grades)/len(self.grades)\n",
    "        print(f'average grade of {self.name} is {average}')\n",
    "        \n",
    "    def student_details(self):\n",
    "        print('name of student:',self.name)\n",
    "        print('ID of student  :',self.id)\n",
    "        \n",
    "        \n",
    "school=student('mayur',145145,[89,95,87,93])\n",
    "school.average_grade()\n",
    "school.student_details()"
   ]
  },
  {
   "cell_type": "markdown",
   "id": "9ad3c30a-604f-4d1d-be03-d6cc8ef55fe4",
   "metadata": {},
   "source": [
    "Problem 8: Email Management Create a class representing an email with attributes like sender, recipient, and subject. Implement methods to send an email and display email details."
   ]
  },
  {
   "cell_type": "code",
   "execution_count": 27,
   "id": "1befc75b-00a7-4639-a29f-807b8e5163d3",
   "metadata": {},
   "outputs": [
    {
     "name": "stdout",
     "output_type": "stream",
     "text": [
      "Email Details:\n",
      "From: mayur@gmail.com\n",
      "To: pwskills@gmail.com\n",
      "Subject: Feedback regarding teaching\n",
      "Message:\n",
      "Dear sudhanshu sir,your way of teaching is excellent\n",
      "Sending email...\n",
      "Email sent successfully.\n",
      "This email has already been sent.\n"
     ]
    }
   ],
   "source": [
    "class Email:\n",
    "    def __init__(self, sender, recipient, subject, message):\n",
    "        self.sender = sender\n",
    "        self.recipient = recipient\n",
    "        self.subject = subject\n",
    "        self.message = message\n",
    "        self.sent = False  # Track whether the email has been sent\n",
    "\n",
    "    def send_email(self):\n",
    "        \n",
    "        if not self.sent:\n",
    "            print('Sending email...')\n",
    "            self.sent = True\n",
    "            print('Email sent successfully.')\n",
    "        else:\n",
    "            print('This email has already been sent.')\n",
    "\n",
    "    def display_email_details(self):\n",
    "        \n",
    "        print('Email Details:')\n",
    "        print(f'From: {self.sender}')\n",
    "        print(f'To: {self.recipient}')\n",
    "        print(f'Subject: {self.subject}')\n",
    "        print('Message:')\n",
    "        print(self.message)\n",
    "\n",
    "sender='mayur@gmail.com'\n",
    "recipient='pwskills@gmail.com'\n",
    "subject='Feedback regarding teaching'\n",
    "message='Dear sudhanshu sir,your way of teaching is excellent' \n",
    "\n",
    "email = Email(sender, recipient, subject, message)\n",
    "\n",
    "email.display_email_details()\n",
    "email.send_email()\n",
    "email.send_email()  \n",
    "    "
   ]
  },
  {
   "cell_type": "markdown",
   "id": "8e199dca-d49b-43c3-80d6-2f71862c9f99",
   "metadata": {},
   "source": [
    "Problem 9: Social Media Profile Create a class representing a social media profile with attributes like username and posts. Implement methods to add posts, display posts, and search for posts by keyword."
   ]
  },
  {
   "cell_type": "code",
   "execution_count": 30,
   "id": "9ca3ed22-c8a8-4e51-a654-fc184590a1f4",
   "metadata": {},
   "outputs": [
    {
     "name": "stdout",
     "output_type": "stream",
     "text": [
      "Posts by mayur123:\n",
      "Post 1: Enjoying my full stack data science pro class\n",
      "Post 2: completing my assignment\n"
     ]
    },
    {
     "data": {
      "text/plain": [
       "['Enjoying my full stack data science pro class']"
      ]
     },
     "execution_count": 30,
     "metadata": {},
     "output_type": "execute_result"
    }
   ],
   "source": [
    "class social_media_profile:\n",
    "    \n",
    "    def __init__(self,username):\n",
    "        self.username=username\n",
    "        self.post=[]\n",
    "        \n",
    "    def add_post(self,post_content):\n",
    "        \n",
    "        self.post.append(post_content)\n",
    "        \n",
    "    def display_posts(self):\n",
    "        print(f'Posts by {self.username}:')\n",
    "        for i, post in enumerate(self.post, start=1):\n",
    "            print(f'Post {i}: {post}')\n",
    "            \n",
    "    def search_post(self,keyword):\n",
    "        result=[post for post in self.post if keyword in post]\n",
    "        return result\n",
    "\n",
    "username='mayur123'\n",
    "\n",
    "social=social_media_profile(username)\n",
    "social.add_post('Enjoying my full stack data science pro class')\n",
    "social.add_post('completing my assignment')\n",
    "social.display_posts()\n",
    "social.search_post('data')"
   ]
  },
  {
   "cell_type": "markdown",
   "id": "325b48c3-2756-49e1-9511-a28189ea07cb",
   "metadata": {},
   "source": [
    "Problem 10: ToDo List Create a class representing a ToDo list with attributes like tasks and due dates. Implement methods to add tasks, mark tasks as completed, and display pending tasks."
   ]
  },
  {
   "cell_type": "code",
   "execution_count": 36,
   "id": "4dc87c59-2712-489c-8f6a-eccf51aa4c25",
   "metadata": {},
   "outputs": [
    {
     "name": "stdout",
     "output_type": "stream",
     "text": [
      "Pending Tasks:\n",
      "Task: Buy groceries, Due Date: 2023-11-15\n",
      "Task: Complete project report, Due Date: 2023-11-30\n",
      "Task: Call John for a meeting, Due Date: 2023-11-10\n",
      "Task Buy groceries marked as completed.\n",
      "Pending Tasks:\n",
      "Task: Complete project report, Due Date: 2023-11-30\n",
      "Task: Call John for a meeting, Due Date: 2023-11-10\n"
     ]
    }
   ],
   "source": [
    "class ToDoList:\n",
    "    def __init__(self):\n",
    "        self.tasks = {}\n",
    "\n",
    "    def add_task(self, task, due_date):\n",
    "        self.tasks[task] = due_date\n",
    "\n",
    "    def mark_task_completed(self, task):\n",
    "        \n",
    "        if task in self.tasks:\n",
    "            del self.tasks[task]\n",
    "            print(f'Task {task} marked as completed.')\n",
    "        else:\n",
    "            print(f'Task {task} not found in the ToDo list.')\n",
    "\n",
    "    def display_pending_tasks(self):\n",
    "        \n",
    "        if not self.tasks:\n",
    "            print('No pending tasks in the ToDo list.')\n",
    "        else:\n",
    "            print('Pending Tasks:')\n",
    "            for task, due_date in self.tasks.items():\n",
    "                print(f'Task: {task}, Due Date: {due_date}')\n",
    "\n",
    "\n",
    "todo_list = ToDoList()\n",
    "\n",
    "todo_list.add_task(\"Buy groceries\", \"2023-11-15\")\n",
    "todo_list.add_task(\"Complete project report\", \"2023-11-30\")\n",
    "todo_list.add_task(\"Call John for a meeting\", \"2023-11-10\")\n",
    "\n",
    "todo_list.display_pending_tasks()\n",
    "\n",
    "task_to_mark_completed = \"Buy groceries\"\n",
    "todo_list.mark_task_completed(task_to_mark_completed)\n",
    "\n",
    "todo_list.display_pending_tasks()\n"
   ]
  },
  {
   "cell_type": "code",
   "execution_count": null,
   "id": "3b8dab38-2513-4801-945a-aa641ecb7d0f",
   "metadata": {},
   "outputs": [],
   "source": []
  }
 ],
 "metadata": {
  "kernelspec": {
   "display_name": "Python 3 (ipykernel)",
   "language": "python",
   "name": "python3"
  },
  "language_info": {
   "codemirror_mode": {
    "name": "ipython",
    "version": 3
   },
   "file_extension": ".py",
   "mimetype": "text/x-python",
   "name": "python",
   "nbconvert_exporter": "python",
   "pygments_lexer": "ipython3",
   "version": "3.10.8"
  }
 },
 "nbformat": 4,
 "nbformat_minor": 5
}
