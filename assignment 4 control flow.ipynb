{
 "cells": [
  {
   "cell_type": "markdown",
   "id": "b82310e1-ed63-4196-b6d2-a4730e37c7af",
   "metadata": {},
   "source": [
    "                                                  Basic if-else statement"
   ]
  },
  {
   "cell_type": "markdown",
   "id": "07109dc5-e342-410e-b999-608f17f20f6f",
   "metadata": {},
   "source": [
    "1. Write a Python program to check if a given number is positive or negative."
   ]
  },
  {
   "cell_type": "code",
   "execution_count": 2,
   "id": "3c28766f-f249-45e8-bb65-bb848f1abb89",
   "metadata": {},
   "outputs": [
    {
     "name": "stdin",
     "output_type": "stream",
     "text": [
      "enter a number = 45\n"
     ]
    },
    {
     "name": "stdout",
     "output_type": "stream",
     "text": [
      "number is positive\n"
     ]
    }
   ],
   "source": [
    "number=int(input('enter a number ='))\n",
    "if number>=0:\n",
    "    print('number is positive')\n",
    "else:\n",
    "        print('number is negative')"
   ]
  },
  {
   "cell_type": "markdown",
   "id": "3009ceb0-fd72-4cc3-8f75-a32f296c9385",
   "metadata": {},
   "source": [
    "2. Create a program that determines if a person is eligible to vote based on their age."
   ]
  },
  {
   "cell_type": "code",
   "execution_count": 3,
   "id": "43112c4b-36bf-4ddc-a108-194f39092e02",
   "metadata": {},
   "outputs": [
    {
     "name": "stdin",
     "output_type": "stream",
     "text": [
      "enter your age 17\n"
     ]
    },
    {
     "name": "stdout",
     "output_type": "stream",
     "text": [
      "person is not eligible to vote\n"
     ]
    }
   ],
   "source": [
    "age=int(input('enter your age'))\n",
    "if age>18:\n",
    "    print('person is eligible to vote')\n",
    "else:\n",
    "    print('person is not eligible to vote')"
   ]
  },
  {
   "cell_type": "markdown",
   "id": "28e06888-1660-407e-bbb4-58fc3e465b8e",
   "metadata": {},
   "source": [
    "3. Develop a program to find the maximum of two numbers using if-else statements."
   ]
  },
  {
   "cell_type": "code",
   "execution_count": 4,
   "id": "4a5fc8c9-3493-4f92-bbb7-86d49672e866",
   "metadata": {},
   "outputs": [
    {
     "name": "stdin",
     "output_type": "stream",
     "text": [
      "enter 1st number 12\n",
      "enter 2nd number 45\n"
     ]
    },
    {
     "name": "stdout",
     "output_type": "stream",
     "text": [
      "b is maximum\n"
     ]
    }
   ],
   "source": [
    "a=int(input('enter 1st number'))\n",
    "b=int(input('enter 2nd number'))\n",
    "if a>b:\n",
    "    print('a is maximum')\n",
    "else:\n",
    "    print('b is maximum')"
   ]
  },
  {
   "cell_type": "markdown",
   "id": "d110df59-e78d-4edf-b30a-3c8ec89af86b",
   "metadata": {},
   "source": [
    "4. Write a Python script to classify a given year as a leap year or not."
   ]
  },
  {
   "cell_type": "code",
   "execution_count": 7,
   "id": "d138a961-6fe3-41b9-bd95-a606b95b1999",
   "metadata": {},
   "outputs": [
    {
     "name": "stdin",
     "output_type": "stream",
     "text": [
      "enter a year to check 2020\n"
     ]
    },
    {
     "name": "stdout",
     "output_type": "stream",
     "text": [
      "yes,it is leap year\n"
     ]
    }
   ],
   "source": [
    "leap_year=int(input('enter a year to check'))\n",
    "if leap_year%4==0:\n",
    "    print('yes,it is leap year')\n",
    "else:\n",
    "    print('no,it is not leap year')"
   ]
  },
  {
   "cell_type": "markdown",
   "id": "809f0831-c17c-4aca-8a39-6701a1467196",
   "metadata": {},
   "source": [
    "5. Create a program that checks whether a character is a vowel or a consonant."
   ]
  },
  {
   "cell_type": "code",
   "execution_count": 8,
   "id": "88c8384a-6297-41a1-bc76-100214b466c7",
   "metadata": {},
   "outputs": [
    {
     "name": "stdin",
     "output_type": "stream",
     "text": [
      "enter a character m\n"
     ]
    },
    {
     "name": "stdout",
     "output_type": "stream",
     "text": [
      "it is consonant\n"
     ]
    }
   ],
   "source": [
    "character=input('enter a character')\n",
    "output=character.lower()\n",
    "vowel=['a','e','i','o','u']\n",
    "consonant=['b','c','d','f','g','h','j','k','l','m','n','p','q','r','s','t','v','w','x','y','z']\n",
    "if character in vowel:\n",
    "    print('it is vowel')\n",
    "elif character in consonant:\n",
    "    print('it is consonant')\n",
    "else:\n",
    "    print('it is not character')"
   ]
  },
  {
   "cell_type": "markdown",
   "id": "ba12c1e0-cd9f-4a37-8003-462cb5531500",
   "metadata": {},
   "source": [
    "6. Implement a program to determine whether a given number is even or odd."
   ]
  },
  {
   "cell_type": "code",
   "execution_count": 9,
   "id": "bfc4c429-1269-49e8-9e2b-d7719f40d653",
   "metadata": {},
   "outputs": [
    {
     "name": "stdin",
     "output_type": "stream",
     "text": [
      "enter a number 13\n"
     ]
    },
    {
     "name": "stdout",
     "output_type": "stream",
     "text": [
      "it is odd number\n"
     ]
    }
   ],
   "source": [
    "number=int(input('enter a number'))\n",
    "if number%2==0:\n",
    "    print('it is even number')\n",
    "else:\n",
    "    print('it is odd number')"
   ]
  },
  {
   "cell_type": "markdown",
   "id": "8ca41704-825a-4f4f-a71f-334e758aba18",
   "metadata": {},
   "source": [
    "7. Write a Python function to calculate the absolute value of a number without using the `abs()` function."
   ]
  },
  {
   "cell_type": "code",
   "execution_count": 14,
   "id": "c17591be-8086-452a-a3bc-737e02c0f3c8",
   "metadata": {},
   "outputs": [
    {
     "data": {
      "text/plain": [
       "68"
      ]
     },
     "execution_count": 14,
     "metadata": {},
     "output_type": "execute_result"
    }
   ],
   "source": [
    "def absolute(n):\n",
    "    if n<0:\n",
    "        return n-n*2\n",
    "    else:\n",
    "        return n\n",
    "    \n",
    "absolute(-68)"
   ]
  },
  {
   "cell_type": "markdown",
   "id": "3240c0e0-f5fb-4065-b2cb-9019aa1670c9",
   "metadata": {},
   "source": [
    "8. Develop a program that determines the largest of three given numbers using if-else statements."
   ]
  },
  {
   "cell_type": "code",
   "execution_count": 18,
   "id": "3670b0cc-35fc-4605-a66c-752db0e1a258",
   "metadata": {},
   "outputs": [
    {
     "name": "stdout",
     "output_type": "stream",
     "text": [
      "c is largest number\n"
     ]
    }
   ],
   "source": [
    "a=10\n",
    "b=20\n",
    "c=30\n",
    "if a>b and a>c:\n",
    "    print('a is largest number')\n",
    "elif b>a and b>c:\n",
    "    print('b is largest number')\n",
    "else:\n",
    "    print('c is largest number')"
   ]
  },
  {
   "cell_type": "markdown",
   "id": "f3075878-2718-4028-bdf3-4159b25ae77d",
   "metadata": {},
   "source": [
    "9. Create a program that checks if a given string is a palindrome"
   ]
  },
  {
   "cell_type": "code",
   "execution_count": 19,
   "id": "d11d8522-183a-48fa-8e48-35aa21c8554f",
   "metadata": {},
   "outputs": [
    {
     "name": "stdin",
     "output_type": "stream",
     "text": [
      "enter a string bananab\n"
     ]
    },
    {
     "name": "stdout",
     "output_type": "stream",
     "text": [
      "string is palindrome\n"
     ]
    }
   ],
   "source": [
    "string=str(input('enter a string'))\n",
    "if string==string[::-1]:\n",
    "    print('string is palindrome')\n",
    "else:\n",
    "    print('string is not palindrome')"
   ]
  },
  {
   "cell_type": "markdown",
   "id": "c51615c2-c172-4297-b3b3-b7ef47c32182",
   "metadata": {},
   "source": [
    "10. Write a Python program to calculate the grade based on a student's score."
   ]
  },
  {
   "cell_type": "code",
   "execution_count": 21,
   "id": "f1518882-354f-47fb-aa23-8b14905317a5",
   "metadata": {},
   "outputs": [
    {
     "name": "stdin",
     "output_type": "stream",
     "text": [
      "enter your score between 1 to 100 = 71\n"
     ]
    },
    {
     "name": "stdout",
     "output_type": "stream",
     "text": [
      "your grade is B\n"
     ]
    }
   ],
   "source": [
    "score=int(input('enter your score between 1 to 100 ='))\n",
    "if score<=30:\n",
    "    print('your grade is D')\n",
    "elif 30< score<=70:\n",
    "    print('your grade is C')\n",
    "elif 70<score<=90:\n",
    "    print('your grade is B')\n",
    "else:\n",
    "    print('your grade is A')"
   ]
  },
  {
   "cell_type": "markdown",
   "id": "0da414f9-574e-45af-9d28-e05c592814f8",
   "metadata": {},
   "source": [
    "                                     Nested if-else statement"
   ]
  },
  {
   "cell_type": "markdown",
   "id": "16ebae0b-4bf8-4642-8789-3a670853d004",
   "metadata": {},
   "source": [
    "11. Write a program to find the largest among three numbers using nested if-else statements."
   ]
  },
  {
   "cell_type": "code",
   "execution_count": 22,
   "id": "692dc975-a404-4f95-90ac-5162ec1b2a86",
   "metadata": {},
   "outputs": [
    {
     "name": "stdout",
     "output_type": "stream",
     "text": [
      "c is largest\n"
     ]
    }
   ],
   "source": [
    "a=10\n",
    "b=20\n",
    "c=30\n",
    "if a>c and b>c:\n",
    "    if a>b:\n",
    "        print('a is largest')\n",
    "    else:\n",
    "        print('b is largest')\n",
    "else:\n",
    "    print('c is largest')\n",
    "    "
   ]
  },
  {
   "cell_type": "markdown",
   "id": "e01c6cbf-900a-4234-b345-966fb166616c",
   "metadata": {},
   "source": [
    "12. Implement a program to determine if a triangle is equilateral, isosceles, or scalene."
   ]
  },
  {
   "cell_type": "code",
   "execution_count": 28,
   "id": "abadeb04-1ebc-4444-b6ac-b5956a5d14d0",
   "metadata": {},
   "outputs": [
    {
     "name": "stdin",
     "output_type": "stream",
     "text": [
      "enter triangle side 1 = 4\n",
      "enter triangle side 2 = 4\n",
      "enter triangle side 3 = 4\n"
     ]
    },
    {
     "name": "stdout",
     "output_type": "stream",
     "text": [
      "it is a equilateral triangle\n"
     ]
    }
   ],
   "source": [
    "triangle_side1=int(input('enter triangle side 1 ='))\n",
    "triangle_side2=int(input('enter triangle side 2 ='))\n",
    "triangle_side3=int(input('enter triangle side 3 ='))\n",
    "if triangle_side1==triangle_side2 or triangle_side1==triangle_side3 or triangle_side2==triangle_side3:\n",
    "    if triangle_side2==triangle_side3==triangle_side1:\n",
    "        print('it is a equilateral triangle')\n",
    "    else:\n",
    "        print('it is a isosceles triangle')\n",
    "else:\n",
    "    print('it is scalene triangle')\n"
   ]
  },
  {
   "cell_type": "markdown",
   "id": "9b7fb770-0615-499f-afcd-e4c26189d574",
   "metadata": {},
   "source": [
    "13. Develop a program that checks if a year is a leap year and also if it is a century year."
   ]
  },
  {
   "cell_type": "code",
   "execution_count": 7,
   "id": "0905a15b-ac48-449e-849c-2586ac5857b5",
   "metadata": {},
   "outputs": [
    {
     "name": "stdin",
     "output_type": "stream",
     "text": [
      "enter a year 2000\n"
     ]
    },
    {
     "name": "stdout",
     "output_type": "stream",
     "text": [
      "year is leap year and century year both\n"
     ]
    }
   ],
   "source": [
    "year=int(input('enter a year'))\n",
    "\n",
    "if year%4==0 or year%100==0:\n",
    "    if year%4==0 and year%100==0:\n",
    "        print('year is leap year and century year both')\n",
    "    elif year%4==0:\n",
    "        print('year is leap year')\n",
    "    else:\n",
    "        print('year is a century year')\n",
    "else:\n",
    "    print('year is not a leap year and also not century year')\n",
    "    "
   ]
  },
  {
   "cell_type": "markdown",
   "id": "3d8bab69-16e3-4cfa-aa2a-52f98b4700f9",
   "metadata": {},
   "source": [
    "14. Write a Python script to determine if a number is positive, negative, or zero."
   ]
  },
  {
   "cell_type": "code",
   "execution_count": 19,
   "id": "5606d865-eb52-4a13-995e-a64ac4630c65",
   "metadata": {},
   "outputs": [
    {
     "name": "stdin",
     "output_type": "stream",
     "text": [
      "enter a number -12\n"
     ]
    },
    {
     "name": "stdout",
     "output_type": "stream",
     "text": [
      "number is negative\n"
     ]
    }
   ],
   "source": [
    "number=int(input('enter a number'))\n",
    "\n",
    "if number>=0:\n",
    "    if number==0:\n",
    "        print('number is zero')\n",
    "    else:\n",
    "        print('number is positive')\n",
    "else:\n",
    "    print('number is negative')"
   ]
  },
  {
   "cell_type": "markdown",
   "id": "92c951e2-f92b-4800-8f2c-10b253ec1996",
   "metadata": {},
   "source": [
    "15. Create a program to check if a person is a teenager (between 13 and 19 years old)."
   ]
  },
  {
   "cell_type": "code",
   "execution_count": 21,
   "id": "03369d0e-c75e-44ac-8451-8b0ed0c1e7bf",
   "metadata": {},
   "outputs": [
    {
     "name": "stdin",
     "output_type": "stream",
     "text": [
      "enter your age = 21\n"
     ]
    },
    {
     "name": "stdout",
     "output_type": "stream",
     "text": [
      "person is not teenager\n"
     ]
    }
   ],
   "source": [
    "age=int(input('enter your age ='))\n",
    "if 13< age <19:\n",
    "    print('person is teenager')\n",
    "else:\n",
    "    print('person is not teenager')"
   ]
  },
  {
   "cell_type": "markdown",
   "id": "c7bfcea6-42b7-42ba-9e94-8777f0499794",
   "metadata": {},
   "source": [
    "16. Develop a program that determines the type of angle based on its measure (acute, obtuse, or right)."
   ]
  },
  {
   "cell_type": "code",
   "execution_count": 31,
   "id": "0fcfba9d-5ada-4a48-a83f-4b24b475084c",
   "metadata": {},
   "outputs": [
    {
     "name": "stdin",
     "output_type": "stream",
     "text": [
      "enter a triangle angle between 1 to 180 89\n"
     ]
    },
    {
     "name": "stdout",
     "output_type": "stream",
     "text": [
      "it is a acute triangle\n"
     ]
    }
   ],
   "source": [
    "angle=int(input('enter a triangle angle between 1 to 180'))\n",
    "\n",
    "if 90<=angle<180:\n",
    "    if angle==90:\n",
    "        print('it is a right angle')\n",
    "    else:\n",
    "        print('it is a obtuse angle')\n",
    "else:\n",
    "    print('it is a acute triangle')"
   ]
  },
  {
   "cell_type": "markdown",
   "id": "e40f2b70-e48d-4ac3-bfe0-73c757389107",
   "metadata": {},
   "source": [
    "17. Write a Python program to calculate the roots of a quadratic equation."
   ]
  },
  {
   "cell_type": "code",
   "execution_count": 7,
   "id": "ad5926e1-c225-4ecd-90ae-154bd5f75aaa",
   "metadata": {},
   "outputs": [
    {
     "name": "stdin",
     "output_type": "stream",
     "text": [
      "enter the coefficient of x^2 = 5\n",
      "enter the coefficient of x = 5\n",
      "enter the constant = 1\n"
     ]
    },
    {
     "name": "stdout",
     "output_type": "stream",
     "text": [
      "your roots are real and distinct = -6.9098300562505255 -18.090169943749473\n"
     ]
    }
   ],
   "source": [
    "from math import sqrt\n",
    "a=int(input('enter the coefficient of x^2 ='))\n",
    "b=int(input('enter the coefficient of x ='))\n",
    "c=int(input('enter the constant ='))\n",
    "d=b**2-4*a*c\n",
    "\n",
    "if d>0:\n",
    "    print('your roots are real and distinct =',(-b+sqrt(d))/2*a,(-b-sqrt(d))/2*a)\n",
    "elif d==0:\n",
    "    print('your roots are real and repeated =',-b/2*a,-b/2*a)\n",
    "else:\n",
    "    print('your roots are real and imaginary:',-b/2*a,'+','i',sqrt(-d)/2*a,'    ',-b/2*a,'-','i',sqrt(-d)/2*a)"
   ]
  },
  {
   "cell_type": "markdown",
   "id": "163310f1-104d-41e4-9647-68137c94d49a",
   "metadata": {},
   "source": [
    "18. Implement a program to determine the day of the week based on a user-provided number (1 for Monday, 2\n",
    "for Tuesday, etc.)."
   ]
  },
  {
   "cell_type": "code",
   "execution_count": 9,
   "id": "5b7131d3-9c07-454d-8988-3dee9be66a02",
   "metadata": {},
   "outputs": [
    {
     "name": "stdin",
     "output_type": "stream",
     "text": [
      "enter a number 5\n"
     ]
    },
    {
     "name": "stdout",
     "output_type": "stream",
     "text": [
      "day of week = friday\n"
     ]
    }
   ],
   "source": [
    "number=int(input('enter a number'))\n",
    "day=['monday','tuesday','wednesday','thursday','friday','saturday','sunday']\n",
    "\n",
    "day_of_week=print('day of week =',day[number-1])"
   ]
  },
  {
   "cell_type": "markdown",
   "id": "0fe6478a-a3e1-47ca-9769-8b5ad5989f91",
   "metadata": {},
   "source": [
    "19. Create a program that determines if a year is a leap year and also if it is evenly divisible by 400."
   ]
  },
  {
   "cell_type": "code",
   "execution_count": 11,
   "id": "9646a696-89d6-40f7-87f4-5605f1f5fd33",
   "metadata": {},
   "outputs": [
    {
     "name": "stdin",
     "output_type": "stream",
     "text": [
      "enter a year 2000\n"
     ]
    },
    {
     "name": "stdout",
     "output_type": "stream",
     "text": [
      "year is leap year and evenly divisible by 400\n"
     ]
    }
   ],
   "source": [
    "year=int(input('enter a year'))\n",
    "\n",
    "if year%4==0 or year%400==0:\n",
    "    if year%4==0 and year%400==0:\n",
    "        print('year is leap year and evenly divisible by 400')\n",
    "    elif year%4==0:\n",
    "        print('year is leap year')\n",
    "    else:\n",
    "        print('year is a divisible by 400')\n",
    "else:\n",
    "    print('year is not a leap year and not divisible by 400')"
   ]
  },
  {
   "cell_type": "markdown",
   "id": "7178f623-c242-49fa-a2d9-08fc598adc04",
   "metadata": {},
   "source": [
    "20. Develop a program that checks if a given number is prime or not using nested if-else statements."
   ]
  },
  {
   "cell_type": "code",
   "execution_count": 13,
   "id": "1bbc17c5-1002-48af-aac0-e0e3d3632a82",
   "metadata": {},
   "outputs": [
    {
     "name": "stdin",
     "output_type": "stream",
     "text": [
      "enter a number 24\n"
     ]
    },
    {
     "name": "stdout",
     "output_type": "stream",
     "text": [
      "24 is not a prime number.\n",
      "2 times 12 is 24\n"
     ]
    }
   ],
   "source": [
    "inputn=int(input('enter a number'))\n",
    "\n",
    "if inputn > 1:\n",
    "    for i in range(2,inputn):\n",
    "        if (inputn % i) == 0:\n",
    "            print(inputn,\"is not a prime number.\")\n",
    "            print(i,\"times\",inputn//i,\"is\",inputn)\n",
    "            break\n",
    "    else:\n",
    "        print(inputn,\"is a prime number.\")"
   ]
  },
  {
   "cell_type": "markdown",
   "id": "9468eedc-2e62-4900-ad23-cf589ef8f3ce",
   "metadata": {},
   "source": [
    "                                            Elif Statement"
   ]
  },
  {
   "cell_type": "markdown",
   "id": "f06d0d42-c02e-4a97-b18b-6071902b45c7",
   "metadata": {},
   "source": [
    "21. Write a Python program to assign grades based on different ranges of scores using elif statements."
   ]
  },
  {
   "cell_type": "code",
   "execution_count": 1,
   "id": "d1f19238-7bfc-4753-b287-aeaa334fb7d0",
   "metadata": {},
   "outputs": [
    {
     "name": "stdin",
     "output_type": "stream",
     "text": [
      "enter your score between 1 to 100 = 35\n"
     ]
    },
    {
     "name": "stdout",
     "output_type": "stream",
     "text": [
      "your grade is C\n"
     ]
    }
   ],
   "source": [
    "score=int(input('enter your score between 1 to 100 ='))\n",
    "if score<=30:\n",
    "    print('your grade is D')\n",
    "elif 30< score<=70:\n",
    "    print('your grade is C')\n",
    "elif 70<score<=90:\n",
    "    print('your grade is B')\n",
    "else:\n",
    "    print('your grade is A')\n",
    "    "
   ]
  },
  {
   "cell_type": "markdown",
   "id": "cf72f271-98b5-48fa-976e-5a418f3aa7fc",
   "metadata": {},
   "source": [
    "22. Implement a program to determine the type of a triangle based on its angles."
   ]
  },
  {
   "cell_type": "code",
   "execution_count": 2,
   "id": "922dbaad-372a-42e9-bd11-0980d2946a7a",
   "metadata": {},
   "outputs": [
    {
     "name": "stdin",
     "output_type": "stream",
     "text": [
      "enter a triangle angle between 1 to 180 67\n"
     ]
    },
    {
     "name": "stdout",
     "output_type": "stream",
     "text": [
      "it is a acute triangle\n"
     ]
    }
   ],
   "source": [
    "angle=int(input('enter a triangle angle between 1 to 180'))\n",
    "\n",
    "if angle==90:\n",
    "    print('it is a right angle')\n",
    "elif 90<angle<180:\n",
    "    print('it is a obtuse angle')\n",
    "else:\n",
    "    print('it is a acute triangle')"
   ]
  },
  {
   "cell_type": "markdown",
   "id": "394e17d3-940c-429a-ac36-4a0c95202f34",
   "metadata": {},
   "source": [
    "23. Develop a program to categorize a given person's BMI into underweight, normal, overweight, or obese using\n",
    "elif statements."
   ]
  },
  {
   "cell_type": "code",
   "execution_count": 6,
   "id": "b7abd62a-933f-499b-af7b-770a1351b2b3",
   "metadata": {},
   "outputs": [
    {
     "name": "stdin",
     "output_type": "stream",
     "text": [
      "enter your BMI = 23.1\n"
     ]
    },
    {
     "name": "stdout",
     "output_type": "stream",
     "text": [
      "you are in normal weight\n"
     ]
    }
   ],
   "source": [
    "BMI=float(input('enter your BMI ='))\n",
    "\n",
    "if BMI<18.5:\n",
    "    print('you are in underweight')\n",
    "elif 18.5<= BMI<=24.9:\n",
    "    print('you are in normal weight')\n",
    "elif 25<= BMI<=29.9:\n",
    "    print('you are in overweight')\n",
    "else:\n",
    "    print('you are in obese')"
   ]
  },
  {
   "cell_type": "markdown",
   "id": "65d66106-9c0f-416d-b0e8-ab6f0775bd0c",
   "metadata": {},
   "source": [
    "24. Create a program that determines whether a given number is positive, negative, or zero using elif\n",
    "statements."
   ]
  },
  {
   "cell_type": "code",
   "execution_count": 5,
   "id": "a8cf960c-593d-488e-98a6-07836f7e6972",
   "metadata": {},
   "outputs": [
    {
     "name": "stdin",
     "output_type": "stream",
     "text": [
      "enter a number = 5\n"
     ]
    },
    {
     "name": "stdout",
     "output_type": "stream",
     "text": [
      "number is positive\n"
     ]
    }
   ],
   "source": [
    "number=float(input('enter a number ='))\n",
    "\n",
    "if number<0:\n",
    "    print('number is negative')\n",
    "elif number>0:\n",
    "    print('number is positive')\n",
    "else:\n",
    "    print('number is zero')\n",
    "    "
   ]
  },
  {
   "cell_type": "markdown",
   "id": "995ded9a-e663-4813-a2a0-3b6e8a0b66ba",
   "metadata": {},
   "source": [
    "25. Write a Python script to determine the type of a character (uppercase, lowercase, or special) using elif\n",
    "statements.\n",
    "\n"
   ]
  },
  {
   "cell_type": "code",
   "execution_count": 10,
   "id": "de0fb5db-ddc0-451d-8160-ea6935e6443a",
   "metadata": {},
   "outputs": [
    {
     "name": "stdin",
     "output_type": "stream",
     "text": [
      "enter a character M\n"
     ]
    },
    {
     "name": "stdout",
     "output_type": "stream",
     "text": [
      "character is in uppercase\n"
     ]
    }
   ],
   "source": [
    "char=str(input('enter a character'))\n",
    " \n",
    "if char.islower()==True:\n",
    "    print('character is in lowercase')\n",
    "elif char.isupper()==True:\n",
    "    print('character is in uppercase')\n",
    "else:\n",
    "    print('character is a special character')"
   ]
  },
  {
   "cell_type": "markdown",
   "id": "fbd0afb0-cf03-440d-b9db-e1723d1e2091",
   "metadata": {},
   "source": [
    "26. Implement a program to calculate the discounted price based on different purchase amounts using elif\n",
    "statements."
   ]
  },
  {
   "cell_type": "code",
   "execution_count": 11,
   "id": "195c2d05-3043-4fce-aa37-7b15c350a1c2",
   "metadata": {},
   "outputs": [
    {
     "name": "stdin",
     "output_type": "stream",
     "text": [
      "enter your purchase amount 2500\n"
     ]
    },
    {
     "name": "stdout",
     "output_type": "stream",
     "text": [
      "your can get 1000 rupees discount\n"
     ]
    }
   ],
   "source": [
    "amount=int(input('enter your purchase amount'))\n",
    "\n",
    "if amount<1000:\n",
    "    print('discount is not available under 1000')\n",
    "elif 1000<=amount<=3000:\n",
    "    print('your can get 1000 rupees discount')\n",
    "else:\n",
    "    print('you can get 2000 rupees discount')\n",
    "    "
   ]
  },
  {
   "cell_type": "markdown",
   "id": "3d7f0d45-4ee7-4d4c-922a-ece8aa6c7a37",
   "metadata": {},
   "source": [
    "27. Develop a program to calculate the electricity bill based on different consumption slabs using elif\n",
    "statements."
   ]
  },
  {
   "cell_type": "code",
   "execution_count": 14,
   "id": "f254d0c5-fff5-457e-807a-5f7a5f1b776c",
   "metadata": {},
   "outputs": [
    {
     "name": "stdin",
     "output_type": "stream",
     "text": [
      "enter your total unit consuption 150\n"
     ]
    },
    {
     "name": "stdout",
     "output_type": "stream",
     "text": [
      "your electricity bill is = 900.0\n"
     ]
    }
   ],
   "source": [
    "unit=float(input('enter your total unit consuption'))\n",
    "\n",
    "if unit<50:\n",
    "    print('your electricity bill is =',unit*5)\n",
    "elif unit<200:\n",
    "    print('your electricity bill is =',unit*6)\n",
    "else:\n",
    "    print('your electricity bill is =',unit*6.5)\n",
    "    "
   ]
  },
  {
   "cell_type": "markdown",
   "id": "4a1d7cd9-7d17-44f6-9ebe-259f49b2cf42",
   "metadata": {},
   "source": [
    "28. Create a program to determine the type of quadrilateral based on its angles and sides using elif\n",
    "statements"
   ]
  },
  {
   "cell_type": "code",
   "execution_count": 16,
   "id": "afb91b0f-b002-41fa-bb0c-739fe960714c",
   "metadata": {},
   "outputs": [
    {
     "name": "stdin",
     "output_type": "stream",
     "text": [
      "Enter side 1 length:  2\n",
      "Enter side 2 length:  2\n",
      "Enter side 3 length:  2\n",
      "Enter side 4 length:  2\n",
      "Enter angle 1 in degrees:  40\n",
      "Enter angle 2 in degrees:  50\n",
      "Enter angle 3 in degrees:  40\n",
      "Enter angle 4 in degrees:  50\n"
     ]
    },
    {
     "name": "stdout",
     "output_type": "stream",
     "text": [
      "This is a Rhombus.\n"
     ]
    }
   ],
   "source": [
    "def determine_quadrilateral_type(sides, angles):\n",
    "    if len(sides) == 4 and len(angles) == 4:\n",
    "        if all(angle == 90 for angle in angles):\n",
    "            if len(set(sides)) == 1:\n",
    "                return \"Square\"\n",
    "            else:\n",
    "                return \"Rectangle\"\n",
    "        elif angles[0] == angles[2] and angles[1] == angles[3]:\n",
    "            if len(set(sides)) == 1:\n",
    "                return \"Rhombus\"\n",
    "            else:\n",
    "                return \"Parallelogram\"\n",
    "        elif sides[0] == sides[2] and sides[1] == sides[3]:\n",
    "            if angles[0] == angles[1] == angles[2] == angles[3]:\n",
    "                return \"Kite\"\n",
    "            else:\n",
    "                return \"Isosceles Trapezoid\"\n",
    "        elif sum(angles) == 360:\n",
    "            return \"Cyclic Quadrilateral\"\n",
    "        else:\n",
    "            return \"Irregular Quadrilateral\"\n",
    "    else:\n",
    "        return \"Not a quadrilateral\"\n",
    "\n",
    "\n",
    "sides = [float(input(\"Enter side 1 length: \")),\n",
    "         float(input(\"Enter side 2 length: \")),\n",
    "         float(input(\"Enter side 3 length: \")),\n",
    "         float(input(\"Enter side 4 length: \"))]\n",
    "\n",
    "angles = [float(input(\"Enter angle 1 in degrees: \")),\n",
    "          float(input(\"Enter angle 2 in degrees: \")),\n",
    "          float(input(\"Enter angle 3 in degrees: \")),\n",
    "          float(input(\"Enter angle 4 in degrees: \"))]\n",
    "\n",
    "\n",
    "quadrilateral_type = determine_quadrilateral_type(sides, angles)\n",
    "\n",
    "\n",
    "print(f\"This is a {quadrilateral_type}.\")\n"
   ]
  },
  {
   "cell_type": "markdown",
   "id": "dbf8775b-0b76-4448-84d2-6129432ba8a1",
   "metadata": {},
   "source": [
    "29. Write a Python script to determine the season based on a user-provided month using elif statements."
   ]
  },
  {
   "cell_type": "code",
   "execution_count": 2,
   "id": "05e21481-8333-472e-8fcc-da5c8d2c937d",
   "metadata": {},
   "outputs": [
    {
     "name": "stdin",
     "output_type": "stream",
     "text": [
      "Enter a month in digit 1\n"
     ]
    },
    {
     "name": "stdout",
     "output_type": "stream",
     "text": [
      "it is a winter season\n"
     ]
    }
   ],
   "source": [
    "month=int(input('Enter a month in digit'))\n",
    "\n",
    "if 2<= month<3:\n",
    "    print('it is a spring season')\n",
    "elif 3<= month <5:\n",
    "    print('it is a summer season')\n",
    "elif 5<= month <9:\n",
    "    print('it is a monsoon season')\n",
    "elif month>=9 or month<2:\n",
    "    print('it is a winter season')"
   ]
  },
  {
   "cell_type": "markdown",
   "id": "da8d2f79-095a-4eff-914f-5824843aef1a",
   "metadata": {},
   "source": [
    "30. Implement a program to determine the type of a year (leap or common) and month (30 or 31 days) using\n",
    "elif statements."
   ]
  },
  {
   "cell_type": "code",
   "execution_count": 7,
   "id": "4bf34652-4105-4608-a0ce-464034aa9260",
   "metadata": {},
   "outputs": [
    {
     "name": "stdin",
     "output_type": "stream",
     "text": [
      "Enter a year = 2020\n",
      "Enter a month february\n"
     ]
    },
    {
     "name": "stdout",
     "output_type": "stream",
     "text": [
      "this is a leap year\n",
      "this month is of 29 days\n"
     ]
    }
   ],
   "source": [
    "year=int(input('Enter a year ='))\n",
    "month=input('Enter a month').lower()\n",
    "month_of_31days=['january','march','may','july','august','october','december']\n",
    "month_of_29days='february'\n",
    "\n",
    "if year%4==0:\n",
    "    print('this is a leap year')\n",
    "else:\n",
    "    print('this is a common year')\n",
    "    \n",
    "if month in month_of_31days:\n",
    "    print('this month is of 31 days')\n",
    "elif month==month_of_29days:\n",
    "    print('this month is of 29 days')\n",
    "else:\n",
    "    print('this month is of 30 days')"
   ]
  },
  {
   "cell_type": "markdown",
   "id": "e5639f9b-5273-4e0a-b64d-e943d4c5961f",
   "metadata": {},
   "source": [
    "                                                    Basic level"
   ]
  },
  {
   "cell_type": "markdown",
   "id": "7236fc24-1460-4365-81b2-efb279361eba",
   "metadata": {},
   "source": [
    "1. Write a Python program that checks if a given number is positive, negative, or zero."
   ]
  },
  {
   "cell_type": "code",
   "execution_count": 8,
   "id": "8fc09dd1-f19f-4baf-b28e-e847961edb50",
   "metadata": {},
   "outputs": [
    {
     "name": "stdin",
     "output_type": "stream",
     "text": [
      "enter a number = 5\n"
     ]
    },
    {
     "name": "stdout",
     "output_type": "stream",
     "text": [
      "number is positive\n"
     ]
    }
   ],
   "source": [
    "number=int(input('enter a number ='))\n",
    "if number>0:\n",
    "    print('number is positive')\n",
    "elif number==0:\n",
    "    print('number is zero')\n",
    "else:\n",
    "        print('number is negative')"
   ]
  },
  {
   "cell_type": "markdown",
   "id": "f80e8516-5f87-4cfa-82d0-7c3658d3357b",
   "metadata": {},
   "source": [
    "2. Create a program to determine if a person is eligible to vote based on their age.\n",
    "\n"
   ]
  },
  {
   "cell_type": "code",
   "execution_count": 9,
   "id": "83face12-9a74-4f29-921f-4c2cf4560140",
   "metadata": {},
   "outputs": [
    {
     "name": "stdin",
     "output_type": "stream",
     "text": [
      "enter your age 21\n"
     ]
    },
    {
     "name": "stdout",
     "output_type": "stream",
     "text": [
      "person is eligible to vote\n"
     ]
    }
   ],
   "source": [
    "age=int(input('enter your age'))\n",
    "if age>18:\n",
    "    print('person is eligible to vote')\n",
    "else:\n",
    "    print('person is not eligible to vote')"
   ]
  },
  {
   "cell_type": "markdown",
   "id": "0cf84519-c95e-4ae9-8cba-218ec0ba456f",
   "metadata": {},
   "source": [
    "3. Write a program to find the maximum of two given numbers using conditional statements."
   ]
  },
  {
   "cell_type": "code",
   "execution_count": 11,
   "id": "5e4cefdb-6862-4637-ac7e-d8466858fdda",
   "metadata": {},
   "outputs": [
    {
     "name": "stdin",
     "output_type": "stream",
     "text": [
      "enter 1st number 15\n",
      "enter 2nd number 20\n"
     ]
    },
    {
     "name": "stdout",
     "output_type": "stream",
     "text": [
      "b is maximum\n"
     ]
    }
   ],
   "source": [
    "a=float(input('enter 1st number'))\n",
    "b=float(input('enter 2nd number'))\n",
    "if a>b:\n",
    "    print('a is maximum')\n",
    "else:\n",
    "    print('b is maximum')"
   ]
  },
  {
   "cell_type": "markdown",
   "id": "3742f42c-62ef-47a8-8406-a3cfa38e7283",
   "metadata": {},
   "source": [
    "4. Develop a program that calculates the grade of a student based on their exam score."
   ]
  },
  {
   "cell_type": "code",
   "execution_count": 12,
   "id": "f903d499-2d84-45eb-be76-30bf18c2de9d",
   "metadata": {},
   "outputs": [
    {
     "name": "stdin",
     "output_type": "stream",
     "text": [
      "enter your score between 1 to 100 = 59\n"
     ]
    },
    {
     "name": "stdout",
     "output_type": "stream",
     "text": [
      "your grade is C\n"
     ]
    }
   ],
   "source": [
    "score=int(input('enter your score between 1 to 100 ='))\n",
    "if score<=30:\n",
    "    print('your grade is D')\n",
    "elif 30< score<=70:\n",
    "    print('your grade is C')\n",
    "elif 70<score<=90:\n",
    "    print('your grade is B')\n",
    "else:\n",
    "    print('your grade is A')"
   ]
  },
  {
   "cell_type": "markdown",
   "id": "0d1f84b5-69b8-417f-94b7-21a6bb6856d2",
   "metadata": {},
   "source": [
    "5. Create a program that checks if a year is a leap year or not."
   ]
  },
  {
   "cell_type": "code",
   "execution_count": 13,
   "id": "fa414127-c312-4faf-b16c-2f9eac48e601",
   "metadata": {},
   "outputs": [
    {
     "name": "stdin",
     "output_type": "stream",
     "text": [
      "enter a year to check 2021\n"
     ]
    },
    {
     "name": "stdout",
     "output_type": "stream",
     "text": [
      "no,it is not leap year\n"
     ]
    }
   ],
   "source": [
    "leap_year=int(input('enter a year to check'))\n",
    "if leap_year%4==0:\n",
    "    print('yes,it is leap year')\n",
    "else:\n",
    "    print('no,it is not leap year')"
   ]
  },
  {
   "cell_type": "markdown",
   "id": "8b1f2143-e7e2-4392-8873-74b72b16a9a4",
   "metadata": {},
   "source": [
    "6. Write a program to classify a triangle based on its sides' lengths."
   ]
  },
  {
   "cell_type": "code",
   "execution_count": 14,
   "id": "d489b554-b376-4d50-9cb7-4cca48ee9143",
   "metadata": {},
   "outputs": [
    {
     "name": "stdin",
     "output_type": "stream",
     "text": [
      "enter triangle side 1 = 5\n",
      "enter triangle side 2 = 4\n",
      "enter triangle side 3 = 6\n"
     ]
    },
    {
     "name": "stdout",
     "output_type": "stream",
     "text": [
      "it is scalene triangle\n"
     ]
    }
   ],
   "source": [
    "triangle_side1=int(input('enter triangle side 1 ='))\n",
    "triangle_side2=int(input('enter triangle side 2 ='))\n",
    "triangle_side3=int(input('enter triangle side 3 ='))\n",
    "if triangle_side1==triangle_side2 or triangle_side1==triangle_side3 or triangle_side2==triangle_side3:\n",
    "    if triangle_side2==triangle_side3==triangle_side1:\n",
    "        print('it is a equilateral triangle')\n",
    "    else:\n",
    "        print('it is a isosceles triangle')\n",
    "else:\n",
    "    print('it is scalene triangle')\n"
   ]
  },
  {
   "cell_type": "markdown",
   "id": "345b3a14-8ba1-475e-9777-c511ae4b0bcc",
   "metadata": {},
   "source": [
    "7. Build a program that determines the largest of three given numbers."
   ]
  },
  {
   "cell_type": "code",
   "execution_count": 16,
   "id": "a95d6006-1cc3-469c-b091-530601d21210",
   "metadata": {},
   "outputs": [
    {
     "name": "stdin",
     "output_type": "stream",
     "text": [
      "enter first number 10\n",
      "enter second number 12\n",
      "enter third number 13\n"
     ]
    },
    {
     "name": "stdout",
     "output_type": "stream",
     "text": [
      "c is largest number\n"
     ]
    }
   ],
   "source": [
    "a=int(input('enter first number'))\n",
    "b=int(input('enter second number'))\n",
    "c=int(input('enter third number'))\n",
    "if a>b and a>c:\n",
    "    print('a is largest number')\n",
    "elif b>a and b>c:\n",
    "    print('b is largest number')\n",
    "else:\n",
    "    print('c is largest number')"
   ]
  },
  {
   "cell_type": "markdown",
   "id": "e046f8fe-a6b1-4faf-8a21-a8f36381a304",
   "metadata": {},
   "source": [
    "8. Develop a program that checks whether a character is a vowel or a consonant."
   ]
  },
  {
   "cell_type": "code",
   "execution_count": 17,
   "id": "24cc7119-8d34-442a-a816-5e0fcf36f84c",
   "metadata": {},
   "outputs": [
    {
     "name": "stdin",
     "output_type": "stream",
     "text": [
      "enter a character d\n"
     ]
    },
    {
     "name": "stdout",
     "output_type": "stream",
     "text": [
      "it is consonant\n"
     ]
    }
   ],
   "source": [
    "character=input('enter a character')\n",
    "output=character.lower()\n",
    "vowel=['a','e','i','o','u']\n",
    "consonant=['b','c','d','f','g','h','j','k','l','m','n','p','q','r','s','t','v','w','x','y','z']\n",
    "if character in vowel:\n",
    "    print('it is vowel')\n",
    "elif character in consonant:\n",
    "    print('it is consonant')\n",
    "else:\n",
    "    print('it is not character')"
   ]
  },
  {
   "cell_type": "markdown",
   "id": "35edb47b-fe11-4db7-8f0d-7443f5705e70",
   "metadata": {},
   "source": [
    "9. Create a program to calculate the total cost of a shopping cart based on discounts."
   ]
  },
  {
   "cell_type": "code",
   "execution_count": 2,
   "id": "7b54de6b-aa4f-466a-82f9-699fc323ca9b",
   "metadata": {},
   "outputs": [
    {
     "name": "stdin",
     "output_type": "stream",
     "text": [
      "Enter the quantity of item1:  1\n",
      "Enter the quantity of item2:  2\n",
      "Enter the quantity of item3:  3\n",
      "Enter the quantity of item4:  4\n"
     ]
    },
    {
     "name": "stdout",
     "output_type": "stream",
     "text": [
      "Total cost of your shopping cart: 98.00\n"
     ]
    }
   ],
   "source": [
    "items = {\n",
    "    \"item1\": 10.0,\n",
    "    \"item2\": 15.0,\n",
    "    \"item3\": 20.0,\n",
    "    \"item4\": 25.0\n",
    "}\n",
    "\n",
    "discounts = {\n",
    "    \"item1\": 0,    \n",
    "    \"item2\": 10,   \n",
    "    \"item3\": 20,   \n",
    "    \"item4\": 15    \n",
    "}\n",
    "\n",
    "total_cost = 0.0\n",
    "\n",
    "for item, price in items.items():\n",
    "    quantity = int(input(f\"Enter the quantity of {item}: \"))\n",
    "    if item in discounts:\n",
    "        discount_percentage = discounts[item]\n",
    "        discount = (discount_percentage / 100) * price * quantity\n",
    "        discounted_price = price - discount\n",
    "        item_cost = discounted_price * quantity\n",
    "    else:\n",
    "        item_cost = price * quantity\n",
    "    total_cost += item_cost\n",
    "\n",
    "print(f\"Total cost of your shopping cart: {total_cost:.2f}\")\n"
   ]
  },
  {
   "cell_type": "markdown",
   "id": "c581932b-918c-4069-b77e-f3b8874bc3d0",
   "metadata": {},
   "source": [
    "10. Write a program that checks if a given number is even or odd.\n",
    "\n"
   ]
  },
  {
   "cell_type": "code",
   "execution_count": 3,
   "id": "6966bad1-a884-4d06-ab8e-2e39aceaafee",
   "metadata": {},
   "outputs": [
    {
     "name": "stdin",
     "output_type": "stream",
     "text": [
      "enter a number 5\n"
     ]
    },
    {
     "name": "stdout",
     "output_type": "stream",
     "text": [
      "it is odd number\n"
     ]
    }
   ],
   "source": [
    "number=int(input('enter a number'))\n",
    "if number%2==0:\n",
    "    print('it is even number')\n",
    "else:\n",
    "    print('it is odd number')"
   ]
  },
  {
   "cell_type": "markdown",
   "id": "076b3aaf-d855-4e5f-a400-1fd178a348f6",
   "metadata": {},
   "source": [
    "                                               intermediate level"
   ]
  },
  {
   "cell_type": "markdown",
   "id": "d272e42e-b24a-4d79-b39e-f0c46eba0891",
   "metadata": {},
   "source": [
    "11. Write a program that calculates the roots of a quadratic equation ."
   ]
  },
  {
   "cell_type": "code",
   "execution_count": 6,
   "id": "578f777b-7955-4de9-8d8f-8f5443a3b19e",
   "metadata": {},
   "outputs": [
    {
     "name": "stdin",
     "output_type": "stream",
     "text": [
      "enter the coefficient of x^2 = 5\n",
      "enter the coefficient of x = 3\n",
      "enter the constant = 1\n"
     ]
    },
    {
     "name": "stdout",
     "output_type": "stream",
     "text": [
      "your roots are real and imaginary: -7.5 + i 8.291561975888499      -7.5 - i 8.291561975888499\n"
     ]
    }
   ],
   "source": [
    "from math import sqrt\n",
    "a=int(input('enter the coefficient of x^2 ='))\n",
    "b=int(input('enter the coefficient of x ='))\n",
    "c=int(input('enter the constant ='))\n",
    "d=b**2-4*a*c\n",
    "\n",
    "if d>0:\n",
    "    print('your roots are real and distinct =',(-b+sqrt(d))/2*a,(-b-sqrt(d))/2*a)\n",
    "elif d==0:\n",
    "    print('your roots are real and repeated =',-b/2*a,-b/2*a)\n",
    "else:\n",
    "    print('your roots are real and imaginary:',-b/2*a,'+','i',sqrt(-d)/2*a,'    ',-b/2*a,'-','i',sqrt(-d)/2*a)\n"
   ]
  },
  {
   "cell_type": "markdown",
   "id": "e803f7a2-a749-4d44-89dc-fcac8698865d",
   "metadata": {},
   "source": [
    "12. Create a program that determines the day of the week based on the day number (1-7)."
   ]
  },
  {
   "cell_type": "code",
   "execution_count": 8,
   "id": "09e8bbeb-c9b6-4d96-bf53-2ba4dbac8c88",
   "metadata": {},
   "outputs": [
    {
     "name": "stdin",
     "output_type": "stream",
     "text": [
      "enter a number 5\n"
     ]
    },
    {
     "name": "stdout",
     "output_type": "stream",
     "text": [
      "day of week = friday\n"
     ]
    }
   ],
   "source": [
    "number=int(input('enter a number'))\n",
    "day=['monday','tuesday','wednesday','thursday','friday','saturday','sunday']\n",
    "\n",
    "day_of_week=print('day of week =',day[number-1])"
   ]
  },
  {
   "cell_type": "markdown",
   "id": "3a647044-b62b-4d6d-ade6-6c5eb5b13dfb",
   "metadata": {},
   "source": [
    "13. Develop a program that calculates the factorial of a given number using recursion."
   ]
  },
  {
   "cell_type": "code",
   "execution_count": 9,
   "id": "28d83c26-1c7a-4296-aa57-3cb6028f956d",
   "metadata": {},
   "outputs": [
    {
     "data": {
      "text/plain": [
       "120"
      ]
     },
     "execution_count": 9,
     "metadata": {},
     "output_type": "execute_result"
    }
   ],
   "source": [
    "def factorial(n):\n",
    "    if n==0:\n",
    "        return 1\n",
    "    else:\n",
    "        return n*factorial(n-1)\n",
    "\n",
    "factorial(5)"
   ]
  },
  {
   "cell_type": "markdown",
   "id": "0cebcae9-0acb-401e-92f9-87998e008ab3",
   "metadata": {},
   "source": [
    "14. Write a program to find the largest among three numbers without using the `max()` function."
   ]
  },
  {
   "cell_type": "code",
   "execution_count": 11,
   "id": "df7035d4-e1f2-4409-9037-0e902e30a4f1",
   "metadata": {},
   "outputs": [
    {
     "name": "stdin",
     "output_type": "stream",
     "text": [
      "enter first number a 5\n",
      "enter second number b 12\n",
      "enter third number c 10\n"
     ]
    },
    {
     "name": "stdout",
     "output_type": "stream",
     "text": [
      "b is largest number\n"
     ]
    }
   ],
   "source": [
    "a=int(input('enter first number a'))\n",
    "b=int(input('enter second number b'))\n",
    "c=int(input('enter third number c'))\n",
    "if a>b and a>c:\n",
    "    print('a is largest number')\n",
    "elif b>a and b>c:\n",
    "    print('b is largest number')\n",
    "else:\n",
    "    print('c is largest number')"
   ]
  },
  {
   "cell_type": "markdown",
   "id": "aab07f6d-f9f1-4be3-8950-432448c79bc7",
   "metadata": {},
   "source": [
    "15. Create a program that simulates a basic ATM transaction menu."
   ]
  },
  {
   "cell_type": "code",
   "execution_count": 1,
   "id": "8fa0f323-12b7-4847-8ec3-15ad0d7f8613",
   "metadata": {},
   "outputs": [
    {
     "name": "stdout",
     "output_type": "stream",
     "text": [
      "ATM Menu:\n",
      "1. Check Balance\n",
      "2. Make a Withdrawal\n",
      "3. Deposit Money\n",
      "4. Exit\n"
     ]
    },
    {
     "name": "stdin",
     "output_type": "stream",
     "text": [
      "select from (1/2/3/4) = 3\n",
      "enter the amount to deposite 300\n"
     ]
    },
    {
     "name": "stdout",
     "output_type": "stream",
     "text": [
      "ATM Menu:\n",
      "1. Check Balance\n",
      "2. Make a Withdrawal\n",
      "3. Deposit Money\n",
      "4. Exit\n"
     ]
    },
    {
     "name": "stdin",
     "output_type": "stream",
     "text": [
      "select from (1/2/3/4) = 1\n"
     ]
    },
    {
     "name": "stdout",
     "output_type": "stream",
     "text": [
      "your balance is = 300\n",
      "ATM Menu:\n",
      "1. Check Balance\n",
      "2. Make a Withdrawal\n",
      "3. Deposit Money\n",
      "4. Exit\n"
     ]
    },
    {
     "name": "stdin",
     "output_type": "stream",
     "text": [
      "select from (1/2/3/4) = 200\n"
     ]
    },
    {
     "name": "stdout",
     "output_type": "stream",
     "text": [
      "ATM Menu:\n",
      "1. Check Balance\n",
      "2. Make a Withdrawal\n",
      "3. Deposit Money\n",
      "4. Exit\n"
     ]
    },
    {
     "name": "stdin",
     "output_type": "stream",
     "text": [
      "select from (1/2/3/4) = 1\n"
     ]
    },
    {
     "name": "stdout",
     "output_type": "stream",
     "text": [
      "your balance is = 300\n",
      "ATM Menu:\n",
      "1. Check Balance\n",
      "2. Make a Withdrawal\n",
      "3. Deposit Money\n",
      "4. Exit\n"
     ]
    },
    {
     "name": "stdin",
     "output_type": "stream",
     "text": [
      "select from (1/2/3/4) = 2\n",
      "enter the amount to withdraw 200\n"
     ]
    },
    {
     "name": "stdout",
     "output_type": "stream",
     "text": [
      "ATM Menu:\n",
      "1. Check Balance\n",
      "2. Make a Withdrawal\n",
      "3. Deposit Money\n",
      "4. Exit\n"
     ]
    },
    {
     "name": "stdin",
     "output_type": "stream",
     "text": [
      "select from (1/2/3/4) = 1\n"
     ]
    },
    {
     "name": "stdout",
     "output_type": "stream",
     "text": [
      "your balance is = 100\n",
      "ATM Menu:\n",
      "1. Check Balance\n",
      "2. Make a Withdrawal\n",
      "3. Deposit Money\n",
      "4. Exit\n"
     ]
    },
    {
     "name": "stdin",
     "output_type": "stream",
     "text": [
      "select from (1/2/3/4) = 4\n"
     ]
    }
   ],
   "source": [
    "Balance=0\n",
    "\n",
    "\n",
    "while True:\n",
    "    print(\"ATM Menu:\")\n",
    "    print(\"1. Check Balance\")\n",
    "    print(\"2. Make a Withdrawal\")\n",
    "    print(\"3. Deposit Money\")\n",
    "    print(\"4. Exit\")\n",
    "    \n",
    "    select=int(input('select from (1/2/3/4) ='))\n",
    "    if select==1:\n",
    "        print('your balance is =',Balance)\n",
    "    elif select==2:\n",
    "        cash_withdraw=int(input('enter the amount to withdraw'))\n",
    "        if cash_withdraw<=Balance:\n",
    "            Balance=Balance-cash_withdraw\n",
    "        else:\n",
    "            print('you insufficient balance to withdraw')\n",
    "    elif select==3:\n",
    "        cash_deposit=int(input('enter the amount to deposite'))\n",
    "        Balance=Balance+cash_deposit\n",
    "    elif select==4:\n",
    "        break\n",
    "    \n",
    "            "
   ]
  },
  {
   "cell_type": "markdown",
   "id": "f28e1e2d-cdf4-4121-bd57-f5d798a8a158",
   "metadata": {},
   "source": [
    "16. Build a program that checks if a given string is a palindrome or not."
   ]
  },
  {
   "cell_type": "code",
   "execution_count": 2,
   "id": "89a60007-c00a-4825-8ac4-e32fea50356a",
   "metadata": {},
   "outputs": [
    {
     "name": "stdin",
     "output_type": "stream",
     "text": [
      "enter a string mayur\n"
     ]
    },
    {
     "name": "stdout",
     "output_type": "stream",
     "text": [
      "string is not palindrome\n"
     ]
    }
   ],
   "source": [
    "string=str(input('enter a string'))\n",
    "if string==string[::-1]:\n",
    "    print('string is palindrome')\n",
    "else:\n",
    "    print('string is not palindrome')"
   ]
  },
  {
   "cell_type": "markdown",
   "id": "f8595361-9032-49a9-9f9e-d7192b50dc25",
   "metadata": {},
   "source": [
    "17. Write a program that calculates the average of a list of numbers, excluding the smallest and largest values"
   ]
  },
  {
   "cell_type": "code",
   "execution_count": 7,
   "id": "25f5754b-ca2c-4c63-8267-ad5a39a2b232",
   "metadata": {},
   "outputs": [
    {
     "data": {
      "text/plain": [
       "5.0"
      ]
     },
     "execution_count": 7,
     "metadata": {},
     "output_type": "execute_result"
    }
   ],
   "source": [
    "lis=[1,2,3,4,5,6,7,8,9]\n",
    "\n",
    "def average(l):\n",
    "    if len(l)<3:\n",
    "        print('list should atleast contain 3 digit')\n",
    "    \n",
    "    l.remove(max(l))\n",
    "    l.remove(min(l))\n",
    "    \n",
    "    average=sum(l)/len(l)\n",
    "    return average\n",
    "\n",
    "average(lis)        \n",
    "    "
   ]
  },
  {
   "cell_type": "markdown",
   "id": "d061bd88-b83f-4289-9f83-e68f4501a516",
   "metadata": {},
   "source": [
    "18. Develop a program that converts a given temperature from Celsius to Fahrenheit."
   ]
  },
  {
   "cell_type": "code",
   "execution_count": 11,
   "id": "2b41ed8c-90ed-47a7-84fd-988929acd307",
   "metadata": {},
   "outputs": [
    {
     "name": "stdin",
     "output_type": "stream",
     "text": [
      "enter a temperature in celcius 25\n"
     ]
    },
    {
     "data": {
      "text/plain": [
       "('temperature in fahrenheit is =', 77.0)"
      ]
     },
     "execution_count": 11,
     "metadata": {},
     "output_type": "execute_result"
    }
   ],
   "source": [
    "c=int(input('enter a temperature in celcius'))\n",
    "def temp_fahrenheit(c):\n",
    "    if c==0:\n",
    "        return 'temperature in fahrenheit is =', 32\n",
    "    else:\n",
    "        return 'temperature in fahrenheit is =', c*(9/5)+32\n",
    "      \n",
    "temp_fahrenheit(c)\n",
    "    "
   ]
  },
  {
   "cell_type": "markdown",
   "id": "e6046913-3b03-4d35-a335-6a6ad4e6de7b",
   "metadata": {},
   "source": [
    "19. Create a program that simulates a basic calculator for addition, subtraction, multiplication, and division."
   ]
  },
  {
   "cell_type": "code",
   "execution_count": 13,
   "id": "bc4d299e-c393-4202-89a1-b471ce665af6",
   "metadata": {},
   "outputs": [
    {
     "name": "stdin",
     "output_type": "stream",
     "text": [
      "enter a first number 10\n",
      "enter a second number 20\n",
      "select below operator\n",
      "                      1.addition\n",
      "                      2.subtraction\n",
      "                      3.multiplication\n",
      "                      4.division            = 2\n"
     ]
    },
    {
     "name": "stdout",
     "output_type": "stream",
     "text": [
      "-10\n"
     ]
    }
   ],
   "source": [
    "a=int(input('enter a first number'))\n",
    "b=int(input('enter a second number'))\n",
    "operator=int(input('''select below operator\n",
    "                      1.addition\n",
    "                      2.subtraction\n",
    "                      3.multiplication\n",
    "                      4.division            ='''))\n",
    "if operator==1:\n",
    "             print(a+b)\n",
    "elif operator==2:\n",
    "             print(a-b)\n",
    "elif operator==3:\n",
    "             print(a*b)\n",
    "else:\n",
    "             print(a/b)"
   ]
  },
  {
   "cell_type": "markdown",
   "id": "c160cb28-6c4d-4db6-8592-5ddd6370dfa6",
   "metadata": {},
   "source": [
    "20. Write a program that determines the roots of a cubic equation using the Cardano formula.\n",
    "\n"
   ]
  },
  {
   "cell_type": "code",
   "execution_count": 16,
   "id": "fd76e36f-adf9-41a7-bac8-9788110c0c39",
   "metadata": {},
   "outputs": [
    {
     "name": "stdin",
     "output_type": "stream",
     "text": [
      "enter a x3 coefficient in cubic equation = 5\n",
      "enter a x2 coefficient in cubic equation = 5\n",
      "enter a x1 coefficient in cubic equation = 5\n",
      "enter a constant in cubic equation = 5\n"
     ]
    },
    {
     "name": "stdout",
     "output_type": "stream",
     "text": [
      "[-2.330413020692598, -1.7232906190106254, -2.330413020692598]\n"
     ]
    }
   ],
   "source": [
    "a=int(input('enter a x3 coefficient in cubic equation ='))\n",
    "b=int(input('enter a x2 coefficient in cubic equation ='))\n",
    "c=int(input('enter a x1 coefficient in cubic equation ='))\n",
    "d=int(input('enter a constant in cubic equation ='))\n",
    "\n",
    "#First, calculate the discriminant (Δ) and the following intermediate values:\n",
    "Δ = 18*a*b*c*d - 4*b**3*d + b**2*c**2 - 4*a*c**3 - 27*a**2*d**2\n",
    "p = (3*a*c - b**2) / (3*a**2)\n",
    "q = (2*b**3 - 9*a*b*c + 27*a**2*d) / (27*a**3)\n",
    "\n",
    "#Next, calculate the following values:\n",
    "A = (q/2)**2 + (p/3)**3\n",
    "B = (A**(1/2) + abs(q/2))**(1/3)\n",
    "C = (B**2 - q/2)**(1/2)\n",
    "\n",
    "#Now, you can find the three roots:\n",
    "roots = [None, None, None]\n",
    "for k in range(3):\n",
    "    r = -1/3 * (b + (-1)**k * B + p / (B * C))\n",
    "    if A == 0:\n",
    "        r += -1/3 * (q / (2 * B))\n",
    "    roots[k] = r\n",
    "\n",
    "print(roots)"
   ]
  },
  {
   "cell_type": "markdown",
   "id": "584395aa-0539-4015-9270-f52a269f0a37",
   "metadata": {},
   "source": [
    "21. Create a program that calculates the income tax based on the user's income and tax brackets."
   ]
  },
  {
   "cell_type": "code",
   "execution_count": 2,
   "id": "baeadf63-e012-48f6-b3e0-3d6ff67e7225",
   "metadata": {},
   "outputs": [
    {
     "name": "stdin",
     "output_type": "stream",
     "text": [
      "enter your income 5000000\n"
     ]
    },
    {
     "name": "stdout",
     "output_type": "stream",
     "text": [
      "your taxable value is = 500000.0\n"
     ]
    }
   ],
   "source": [
    "income=int(input('enter your income'))\n",
    "\n",
    "if income<250000:\n",
    "    tax=0\n",
    "elif income<=500000:\n",
    "    tax=income*0.05\n",
    "elif income<=1000000:\n",
    "    tax=income*0.07\n",
    "else:\n",
    "    tax=income*0.1\n",
    "print('your taxable value is =',tax)"
   ]
  },
  {
   "cell_type": "markdown",
   "id": "16ed139a-a3d7-4eca-ac2f-fdb2ab04451d",
   "metadata": {},
   "source": [
    "22. Write a program that simulates a rock-paper-scissors game against the computer."
   ]
  },
  {
   "cell_type": "code",
   "execution_count": 12,
   "id": "889056f7-ce31-46cd-bfcb-0a625e736ffe",
   "metadata": {},
   "outputs": [
    {
     "name": "stdin",
     "output_type": "stream",
     "text": [
      "enter your choice  rock\n"
     ]
    },
    {
     "name": "stdout",
     "output_type": "stream",
     "text": [
      "computer choice is = scissors\n",
      "you win\n"
     ]
    }
   ],
   "source": [
    "import random\n",
    "\n",
    "choices=['rock','paper','scissors']\n",
    "user_choice=input('enter your choice ').lower()\n",
    "computer_choice=random.choice(choices)\n",
    "print('computer choice is =',computer_choice)\n",
    "\n",
    "if (user_choice == \"rock\" and computer_choice == \"scissors\") or \\\n",
    "         (user_choice == \"paper\" and computer_choice == \"rock\") or \\\n",
    "         (user_choice == \"scissors\" and computer_choice == \"paper\"):\n",
    "    print('you win')\n",
    "elif (user_choice == \"rock\" and computer_choice == \"rock\") or \\\n",
    "         (user_choice == \"paper\" and computer_choice == \"paper\") or \\\n",
    "         (user_choice == \"scissors\" and computer_choice == \"scissors\"):\n",
    "    print('its a tie')\n",
    "else:\n",
    "    print('you loss')\n"
   ]
  },
  {
   "cell_type": "markdown",
   "id": "cea874f1-1c8b-476c-9e49-8762977ce8b1",
   "metadata": {},
   "source": [
    "23. Develop a program that generates a random password based on user preferences (length, complexity)."
   ]
  },
  {
   "cell_type": "code",
   "execution_count": 21,
   "id": "8a3ecf7b-72ff-48d0-8d6e-eec4a836dbc6",
   "metadata": {},
   "outputs": [
    {
     "name": "stdin",
     "output_type": "stream",
     "text": [
      "Enter the desired password length:  5\n",
      "Include uppercase letters? (yes/no):  yes\n",
      "Include special characters? (yes/no):  yes\n"
     ]
    },
    {
     "name": "stdout",
     "output_type": "stream",
     "text": [
      "Your random password is: %,_fe\n"
     ]
    }
   ],
   "source": [
    "import random\n",
    "import string\n",
    "\n",
    "def password(length,include_uppercase,include_special_char):\n",
    "    characters=string.ascii_lowercase\n",
    "    if include_uppercase:\n",
    "        characters+=string.ascii_uppercase\n",
    "    if include_special_char:\n",
    "        characters+=string.punctuation\n",
    "    if len(characters)==0:\n",
    "        print('enter at least one character type')\n",
    "        return None\n",
    "    password=''.join(random.choice(characters) for _ in range(length))\n",
    "    return password\n",
    "length = int(input(\"Enter the desired password length: \"))\n",
    "include_uppercase = input(\"Include uppercase letters? (yes/no): \").lower() == \"yes\"\n",
    "include_special_chars = input(\"Include special characters? (yes/no): \").lower() == \"yes\"      \n",
    "\n",
    "password = password(length, include_uppercase,include_special_chars)\n",
    "if password:\n",
    "    print(f\"Your random password is: {password}\")        "
   ]
  },
  {
   "cell_type": "markdown",
   "id": "e8739b26-8b01-48d4-bcf1-ad24f4f9df6d",
   "metadata": {},
   "source": [
    "24. Create a program that implements a simple text-based adventure game with branching scenarios."
   ]
  },
  {
   "cell_type": "code",
   "execution_count": 1,
   "id": "73652974-44b0-4c4a-a5d6-953f7afdfcb5",
   "metadata": {},
   "outputs": [
    {
     "name": "stdout",
     "output_type": "stream",
     "text": [
      "Welcome to the Text-Based Adventure Game!\n",
      "You find yourself in a dark forest. You have two paths ahead.\n"
     ]
    },
    {
     "name": "stdin",
     "output_type": "stream",
     "text": [
      "Do you want to go left or right?  left\n"
     ]
    },
    {
     "name": "stdout",
     "output_type": "stream",
     "text": [
      "You encounter a friendly squirrel. It leads you deeper into the forest.\n"
     ]
    },
    {
     "name": "stdin",
     "output_type": "stream",
     "text": [
      "Do you want to follow the squirrel or continue on your own path?  continue\n"
     ]
    },
    {
     "name": "stdout",
     "output_type": "stream",
     "text": [
      "You get lost in the forest and can't find your way out. Game over.\n",
      "Game over. Try again.\n"
     ]
    },
    {
     "name": "stdin",
     "output_type": "stream",
     "text": [
      "Do you want to play again? (yes/no)  yes\n"
     ]
    },
    {
     "name": "stdout",
     "output_type": "stream",
     "text": [
      "Welcome to the Text-Based Adventure Game!\n",
      "You find yourself in a dark forest. You have two paths ahead.\n"
     ]
    },
    {
     "name": "stdin",
     "output_type": "stream",
     "text": [
      "Do you want to go left or right?  right\n"
     ]
    },
    {
     "name": "stdout",
     "output_type": "stream",
     "text": [
      "You come across a river with a small boat.\n"
     ]
    },
    {
     "name": "stdin",
     "output_type": "stream",
     "text": [
      "Do you want to cross the river or continue along the bank?  cross\n"
     ]
    },
    {
     "name": "stdout",
     "output_type": "stream",
     "text": [
      "The boat capsizes, and you're washed away. Game over.\n",
      "Game over. Try again.\n"
     ]
    },
    {
     "name": "stdin",
     "output_type": "stream",
     "text": [
      "Do you want to play again? (yes/no)  no\n"
     ]
    },
    {
     "name": "stdout",
     "output_type": "stream",
     "text": [
      "Thanks for playing!\n"
     ]
    }
   ],
   "source": [
    "import time\n",
    "\n",
    "def print_slow(text):\n",
    "    for char in text:\n",
    "        print(char, end='', flush=True)\n",
    "        time.sleep(0.03)\n",
    "    print()\n",
    "\n",
    "def game_over():\n",
    "    print_slow(\"Game over. Try again.\")\n",
    "    exit()\n",
    "\n",
    "def adventure_game():\n",
    "    print_slow(\"Welcome to the Text-Based Adventure Game!\")\n",
    "    print_slow(\"You find yourself in a dark forest. You have two paths ahead.\")\n",
    "    choice1 = input(\"Do you want to go left or right? \").lower()\n",
    "\n",
    "    if \"left\" in choice1:\n",
    "        print_slow(\"You encounter a friendly squirrel. It leads you deeper into the forest.\")\n",
    "        choice2 = input(\"Do you want to follow the squirrel or continue on your own path? \").lower()\n",
    "\n",
    "        if \"follow\" in choice2:\n",
    "            print_slow(\"The squirrel guides you to a hidden treasure chest. You win!\")\n",
    "        else:\n",
    "            print_slow(\"You get lost in the forest and can't find your way out. Game over.\")\n",
    "            game_over()\n",
    "    elif \"right\" in choice1:\n",
    "        print_slow(\"You come across a river with a small boat.\")\n",
    "        choice3 = input(\"Do you want to cross the river or continue along the bank? \").lower()\n",
    "\n",
    "        if \"cross\" in choice3:\n",
    "            print_slow(\"The boat capsizes, and you're washed away. Game over.\")\n",
    "            game_over()\n",
    "        else:\n",
    "            print_slow(\"You find a campsite by the river. It's safe and you survive.\")\n",
    "    else:\n",
    "        print_slow(\"Invalid choice. Please enter 'left' or 'right'.\")\n",
    "        adventure_game()\n",
    "\n",
    "    play_again = input(\"Do you want to play again? (yes/no) \").lower()\n",
    "    if play_again == \"yes\":\n",
    "        adventure_game()\n",
    "    else:\n",
    "        print_slow(\"Thanks for playing!\")\n",
    "\n",
    "if __name__ == \"__main__\":\n",
    "    adventure_game()\n"
   ]
  },
  {
   "cell_type": "markdown",
   "id": "a65b6d17-81fc-4171-9b73-828dae1440bc",
   "metadata": {},
   "source": [
    "25. Build a program that solves a linear equation  for x, considering different cases."
   ]
  },
  {
   "cell_type": "code",
   "execution_count": 16,
   "id": "54deea46-aceb-4aae-a474-90b43f3771c9",
   "metadata": {},
   "outputs": [
    {
     "name": "stdout",
     "output_type": "stream",
     "text": [
      "Linear Equation Solver\n",
      "Enter a linear equation in the form 'ax + b = c', where a, b, and c are numbers.\n",
      "For example, '2x + 5 = 11'\n"
     ]
    },
    {
     "name": "stdin",
     "output_type": "stream",
     "text": [
      "Enter the equation:  2x+4=10\n"
     ]
    },
    {
     "name": "stdout",
     "output_type": "stream",
     "text": [
      "Solution: Invalid equation\n"
     ]
    }
   ],
   "source": [
    "def solve_linear_equation(equation):\n",
    "    # Split the equation into left and right sides\n",
    "    left_side, right_side = equation.split(\"=\")\n",
    "\n",
    "    # Evaluate the expressions on both sides\n",
    "    try:\n",
    "        left_result = eval(left_side)\n",
    "        right_result = eval(right_side)\n",
    "    except (SyntaxError, NameError):\n",
    "        return \"Invalid equation\"\n",
    "\n",
    "    # Check the different cases\n",
    "    if left_result == right_result:\n",
    "        return \"Infinite solutions (the equation is always true)\"\n",
    "    elif left_result != right_result:\n",
    "        return \"No solution (the equation is always false)\"\n",
    "    else:\n",
    "        x = (right_result - left_result) / (1.0 if left_result == 0 else left_result)\n",
    "        return f\"x = {x}\"\n",
    "\n",
    "if __name__ == \"__main__\":\n",
    "    print(\"Linear Equation Solver\")\n",
    "    print(\"Enter a linear equation in the form 'ax + b = c', where a, b, and c are numbers.\")\n",
    "    print(\"For example, '2x + 5 = 11'\")\n",
    "    equation = input(\"Enter the equation: \")\n",
    "\n",
    "    result = solve_linear_equation(equation)\n",
    "    print(\"Solution:\", result)\n"
   ]
  },
  {
   "cell_type": "markdown",
   "id": "9fbeb492-b891-413f-8d37-1c102e74ffb1",
   "metadata": {},
   "source": [
    "26. Write a program that simulates a basic quiz game with multiple-choice questions and scoring."
   ]
  },
  {
   "cell_type": "code",
   "execution_count": 2,
   "id": "57c94171-d851-42f4-8777-9460560e6a0c",
   "metadata": {},
   "outputs": [
    {
     "name": "stdout",
     "output_type": "stream",
     "text": [
      "What is the capital of France?\n",
      "1. London\n",
      "2. Madrid\n",
      "3. Paris\n",
      "4. Berlin\n"
     ]
    },
    {
     "name": "stdin",
     "output_type": "stream",
     "text": [
      "Enter the number of your answer:  3\n"
     ]
    },
    {
     "name": "stdout",
     "output_type": "stream",
     "text": [
      "Correct!\n",
      "\n",
      "Which planet is known as the Red Planet?\n",
      "1. Earth\n",
      "2. Mars\n",
      "3. Jupiter\n",
      "4. Venus\n"
     ]
    },
    {
     "name": "stdin",
     "output_type": "stream",
     "text": [
      "Enter the number of your answer:  3\n"
     ]
    },
    {
     "name": "stdout",
     "output_type": "stream",
     "text": [
      "Wrong! The correct answer is 2: Mars\n",
      "\n",
      "What is the largest mammal in the world?\n",
      "1. Elephant\n",
      "2. Giraffe\n",
      "3. Blue Whale\n",
      "4. Lion\n"
     ]
    },
    {
     "name": "stdin",
     "output_type": "stream",
     "text": [
      "Enter the number of your answer:  2\n"
     ]
    },
    {
     "name": "stdout",
     "output_type": "stream",
     "text": [
      "Wrong! The correct answer is 3: Blue Whale\n",
      "\n",
      "Quiz completed. Your score is 1/3.\n"
     ]
    }
   ],
   "source": [
    "class Question:\n",
    "    def __init__(self, question_text, options, correct_option):\n",
    "        self.question_text = question_text\n",
    "        self.options = options\n",
    "        self.correct_option = correct_option\n",
    "\n",
    "    def is_correct(self, selected_option):\n",
    "        return self.correct_option == selected_option\n",
    "\n",
    "\n",
    "class Quiz:\n",
    "    def __init__(self, questions):\n",
    "        self.questions = questions\n",
    "        self.score = 0\n",
    "\n",
    "    def display_question(self, question):\n",
    "        print(question.question_text)\n",
    "        for i, option in enumerate(question.options, start=1):\n",
    "            print(f\"{i}. {option}\")\n",
    "\n",
    "    def run(self):\n",
    "        for question in self.questions:\n",
    "            self.display_question(question)\n",
    "            user_choice = int(input(\"Enter the number of your answer: \"))\n",
    "            if question.is_correct(user_choice):\n",
    "                print(\"Correct!\\n\")\n",
    "                self.score += 1\n",
    "            else:\n",
    "                print(f\"Wrong! The correct answer is {question.correct_option}: {question.options[question.correct_option - 1]}\\n\")\n",
    "        print(f\"Quiz completed. Your score is {self.score}/{len(self.questions)}.\")\n",
    "\n",
    "\n",
    "# Sample questions\n",
    "questions = [\n",
    "    Question(\"What is the capital of France?\", [\"London\", \"Madrid\", \"Paris\", \"Berlin\"], 3),\n",
    "    Question(\"Which planet is known as the Red Planet?\", [\"Earth\", \"Mars\", \"Jupiter\", \"Venus\"], 2),\n",
    "    Question(\"What is the largest mammal in the world?\", [\"Elephant\", \"Giraffe\", \"Blue Whale\", \"Lion\"], 3),\n",
    "]\n",
    "\n",
    "\n",
    "quiz = Quiz(questions)\n",
    "quiz.run()\n"
   ]
  },
  {
   "cell_type": "markdown",
   "id": "b6c148e8-d438-45a1-b3b1-ba0de0b3630e",
   "metadata": {},
   "source": [
    "27. Develop a program that determines whether a given year is a prime number or not."
   ]
  },
  {
   "cell_type": "code",
   "execution_count": 8,
   "id": "a96c6229-cac8-4920-8c8f-5f3e4fdf0297",
   "metadata": {},
   "outputs": [
    {
     "name": "stdin",
     "output_type": "stream",
     "text": [
      "enter a year 2003\n"
     ]
    },
    {
     "name": "stdout",
     "output_type": "stream",
     "text": [
      "2003 is a prime year\n"
     ]
    }
   ],
   "source": [
    "year=int(input('enter a year'))\n",
    "def is_prime(year):\n",
    "    if year<=1:\n",
    "        return False\n",
    "    if year<=3:\n",
    "        return True\n",
    "    if year%2==0 or year%3==0:\n",
    "        return False\n",
    "    \n",
    "    i=5\n",
    "    while i*i<=year:\n",
    "        if year%i==0 or year%(i+2)==0:\n",
    "            return False\n",
    "        i+=6\n",
    "    return True\n",
    "\n",
    "if is_prime(year):\n",
    "    print(f'{year} is a prime year')\n",
    "else:\n",
    "    print(f'{year} is not a prime year')\n",
    "    "
   ]
  },
  {
   "cell_type": "markdown",
   "id": "544f2041-0fd8-44ff-a16a-5ce404d3ae54",
   "metadata": {},
   "source": [
    "28. Create a program that sorts three numbers in ascending order using conditional statements."
   ]
  },
  {
   "cell_type": "code",
   "execution_count": 9,
   "id": "b45f1812-e1f2-4c5c-895e-1e566c85e781",
   "metadata": {},
   "outputs": [
    {
     "name": "stdin",
     "output_type": "stream",
     "text": [
      "Enter the first number:  10\n",
      "Enter the second number:  8\n",
      "Enter the third number:  11\n"
     ]
    },
    {
     "name": "stdout",
     "output_type": "stream",
     "text": [
      "Numbers in ascending order: (8.0, 10.0, 11.0)\n"
     ]
    }
   ],
   "source": [
    "\n",
    "num1 = float(input(\"Enter the first number: \"))\n",
    "num2 = float(input(\"Enter the second number: \"))\n",
    "num3 = float(input(\"Enter the third number: \"))\n",
    "\n",
    "if num1 <= num2 <= num3:\n",
    "    sorted_nums = (num1, num2, num3)\n",
    "elif num1 <= num3 <= num2:\n",
    "    sorted_nums = (num1, num3, num2)\n",
    "elif num2 <= num1 <= num3:\n",
    "    sorted_nums = (num2, num1, num3)\n",
    "elif num2 <= num3 <= num1:\n",
    "    sorted_nums = (num2, num3, num1)\n",
    "elif num3 <= num1 <= num2:\n",
    "    sorted_nums = (num3, num1, num2)\n",
    "else:\n",
    "    sorted_nums = (num3, num2, num1)\n",
    "\n",
    "# Display the sorted numbers\n",
    "print(\"Numbers in ascending order:\", sorted_nums)\n"
   ]
  },
  {
   "cell_type": "markdown",
   "id": "1e874cf7-b24b-454f-b032-74fe08c9885b",
   "metadata": {},
   "source": [
    "29. Build a program that determines the roots of a quartic equation using numerical methods."
   ]
  },
  {
   "cell_type": "code",
   "execution_count": 11,
   "id": "1b13914b-243b-43a1-9f10-4d234cc036bb",
   "metadata": {},
   "outputs": [
    {
     "name": "stdin",
     "output_type": "stream",
     "text": [
      "enter a coefficient of x**2 5\n",
      "enter a coefficient of x 3\n",
      "enter a constant 2\n"
     ]
    },
    {
     "name": "stdout",
     "output_type": "stream",
     "text": [
      "it has two imaginary and unequal roots , -7.5+i13.919410907075054 and -7.5-i13.919410907075054\n"
     ]
    }
   ],
   "source": [
    "from math import sqrt\n",
    "\n",
    "a=int(input('enter a coefficient of x**2'))\n",
    "b=int(input('enter a coefficient of x'))\n",
    "c=int(input('enter a constant'))\n",
    "      \n",
    "#disciminant\n",
    "d=b**2-(4*a*c)\n",
    "\n",
    "if d>0:\n",
    "    root1=(-b+sqrt(d))/2*a\n",
    "    root2=(-b-sqrt(d))/2*a\n",
    "    print(f'it has two real and distinct roots, {root1} and {root2}')\n",
    "elif d==0:\n",
    "    root=-b/2*a\n",
    "    print(f'it has two real and equal roots, {root} and {root}')\n",
    "elif d<0:\n",
    "    real=-b/2*a\n",
    "    imaginary=sqrt(abs(d))/2*a\n",
    "    print(f'it has two imaginary and unequal roots , {real}+i{imaginary} and {real}-i{imaginary}')\n",
    "\n",
    "    "
   ]
  },
  {
   "cell_type": "markdown",
   "id": "aa89d391-f462-44c8-a576-0defb5689e55",
   "metadata": {},
   "source": [
    "30. Write a program that calculates the BMI (Body Mass Index) and provides health recommendations based\n",
    "on the user's input."
   ]
  },
  {
   "cell_type": "code",
   "execution_count": 13,
   "id": "70615eb6-910e-4b3e-a563-7689561049e3",
   "metadata": {},
   "outputs": [
    {
     "name": "stdin",
     "output_type": "stream",
     "text": [
      "enter your weight in kg 50\n",
      "enter your height in meter 1.73\n"
     ]
    },
    {
     "name": "stdout",
     "output_type": "stream",
     "text": [
      "your BMI = 16.70620468441979\n",
      "you are in underweight and need to gain a weight\n"
     ]
    }
   ],
   "source": [
    "weight=float(input('enter your weight in kg'))\n",
    "height=float(input('enter your height in meter'))\n",
    "BMI=weight/(height*height)\n",
    "print('your BMI =',BMI)\n",
    "\n",
    "if BMI<18.5:\n",
    "    print('you are in underweight and need to gain a weight')\n",
    "elif 18.5<= BMI<=24.9:\n",
    "    print('you are in normal weight')\n",
    "elif 25<= BMI<=29.9:\n",
    "    print('you are in overweight and need to lose a weight')\n",
    "else:\n",
    "    print('you are in obese and its a critical condition need to lose a weight')"
   ]
  },
  {
   "cell_type": "markdown",
   "id": "17a6b7f1-15d4-4938-b159-883aeab24ac1",
   "metadata": {},
   "source": [
    "                                      challenge level question:"
   ]
  },
  {
   "cell_type": "markdown",
   "id": "450b5d92-c137-489c-9ff1-be94f1e09cae",
   "metadata": {},
   "source": [
    "31. Create a program that validates a password based on complexity rules (length, characters, etc.)."
   ]
  },
  {
   "cell_type": "code",
   "execution_count": 16,
   "id": "f73b540a-609c-4df1-b434-e736b1cc1888",
   "metadata": {},
   "outputs": [
    {
     "name": "stdout",
     "output_type": "stream",
     "text": [
      "enter a password with a below criteria:\n",
      "          1.length of password between 8 to 20.\n",
      "          2.password should not contain any space.\n",
      "          3.password should contain atleast one uppercase and one lower case.\n",
      "          4.password should contain atlest one special character.\n"
     ]
    },
    {
     "name": "stdin",
     "output_type": "stream",
     "text": [
      "enter a password Pwskill@dsa\n"
     ]
    },
    {
     "name": "stdout",
     "output_type": "stream",
     "text": [
      "Pwskill@dsa is a valid password\n"
     ]
    }
   ],
   "source": [
    "print('''enter a password with a below criteria:\n",
    "          1.length of password between 8 to 20.\n",
    "          2.password should not contain any space.\n",
    "          3.password should contain atleast one uppercase and one lower case.\n",
    "          4.password should contain atlest one special character.''')\n",
    "\n",
    "password=input('enter a password')\n",
    "def is_valid(password):\n",
    "    try:\n",
    "        if len(password)<8 or len(password)>20:\n",
    "            return False\n",
    "        if (' ' in password):\n",
    "            return False\n",
    "        \n",
    "        if True:\n",
    "            count=0\n",
    "            \n",
    "            special_char=['@', '#','!','~','$','%','^',\n",
    "                '&','*','(',',','-','+','/',\n",
    "                ':','.',',','<','>','?','|']\n",
    "            for i in password:\n",
    "                if i in special_char:\n",
    "                    count=1\n",
    "                    break\n",
    "            if count==0:\n",
    "                return False\n",
    "            \n",
    "        if True:\n",
    "            count = 0\n",
    "\n",
    "            # checking capital letters\n",
    "            for i in range(65, 91):\n",
    "\n",
    "                if chr(i) in password:\n",
    "                    count = 1\n",
    "\n",
    "            if (count == 0):\n",
    "                return False\n",
    "\n",
    "        if (True):\n",
    "            count = 0\n",
    "\n",
    "            # checking small letters\n",
    "            for i in range(97, 123):\n",
    "\n",
    "                if chr(i) in password:\n",
    "                    count = 1\n",
    "\n",
    "            if (count == 0):\n",
    "                return False\n",
    "            \n",
    "        return True\n",
    "    except Exception as e:\n",
    "        print(e)\n",
    "\n",
    "if is_valid(password):\n",
    "    print(f'{password} is a valid password')\n",
    "else:\n",
    "    print(f'{password} is a invalid password')\n",
    "    "
   ]
  },
  {
   "cell_type": "markdown",
   "id": "c5ff3d50-40fe-4aed-9678-981e0f59639c",
   "metadata": {},
   "source": [
    "32. Develop a program that performs matrix addition and subtraction based on user input."
   ]
  },
  {
   "cell_type": "code",
   "execution_count": 21,
   "id": "ce5a451d-07ff-4ea1-9fd9-c8e71ba73baf",
   "metadata": {},
   "outputs": [
    {
     "name": "stdin",
     "output_type": "stream",
     "text": [
      "Enter the number of rows:  2\n",
      "Enter the number of columns:  2\n"
     ]
    },
    {
     "name": "stdout",
     "output_type": "stream",
     "text": [
      "Enter elements of the first matrix:\n"
     ]
    },
    {
     "name": "stdin",
     "output_type": "stream",
     "text": [
      "Enter the value at position (1, 1):  5\n",
      "Enter the value at position (1, 2):  4\n",
      "Enter the value at position (2, 1):  6\n",
      "Enter the value at position (2, 2):  7\n"
     ]
    },
    {
     "name": "stdout",
     "output_type": "stream",
     "text": [
      "Enter elements of the second matrix:\n"
     ]
    },
    {
     "name": "stdin",
     "output_type": "stream",
     "text": [
      "Enter the value at position (1, 1):  4\n",
      "Enter the value at position (1, 2):  6\n",
      "Enter the value at position (2, 1):  7\n",
      "Enter the value at position (2, 2):  8\n"
     ]
    },
    {
     "name": "stdout",
     "output_type": "stream",
     "text": [
      "\n",
      "Matrix 1:\n",
      "5.0 4.0\n",
      "6.0 7.0\n",
      "\n",
      "Matrix 2:\n",
      "4.0 6.0\n",
      "7.0 8.0\n",
      "\n",
      "Matrix Sum (Matrix 1 + Matrix 2):\n",
      "9.0 10.0\n",
      "13.0 15.0\n",
      "\n",
      "Matrix Difference (Matrix 1 - Matrix 2):\n",
      "1.0 -2.0\n",
      "-1.0 -1.0\n"
     ]
    }
   ],
   "source": [
    "def input_matrix(rows, cols):\n",
    "    matrix = []\n",
    "    for i in range(rows):\n",
    "        row = []\n",
    "        for j in range(cols):\n",
    "            value = float(input(f\"Enter the value at position ({i + 1}, {j + 1}): \"))\n",
    "            row.append(value)\n",
    "        matrix.append(row)\n",
    "    return matrix\n",
    "\n",
    "def add_matrices(matrix1, matrix2):\n",
    "    result = []\n",
    "    for i in range(len(matrix1)):\n",
    "        row = []\n",
    "        for j in range(len(matrix1[0])):\n",
    "            row.append(matrix1[i][j] + matrix2[i][j])\n",
    "        result.append(row)\n",
    "    return result\n",
    "\n",
    "def subtract_matrices(matrix1, matrix2):\n",
    "    result = []\n",
    "    for i in range(len(matrix1)):\n",
    "        row = []\n",
    "        for j in range(len(matrix1[0])):\n",
    "            row.append(matrix1[i][j] - matrix2[i][j])\n",
    "        result.append(row)\n",
    "    return result\n",
    "\n",
    "def print_matrix(matrix):\n",
    "    for row in matrix:\n",
    "        print(\" \".join(str(value) for value in row))\n",
    "\n",
    "# Input the dimensions of the matrices\n",
    "rows = int(input(\"Enter the number of rows: \"))\n",
    "cols = int(input(\"Enter the number of columns: \"))\n",
    "\n",
    "\n",
    "print(\"Enter elements of the first matrix:\")\n",
    "matrix1 = input_matrix(rows, cols)\n",
    "\n",
    "print(\"Enter elements of the second matrix:\")\n",
    "matrix2 = input_matrix(rows, cols)\n",
    "\n",
    "# Perform matrix addition and subtraction\n",
    "sum_result = add_matrices(matrix1, matrix2)\n",
    "difference_result = subtract_matrices(matrix1, matrix2)\n",
    "\n",
    "# Print the results\n",
    "print(\"\\nMatrix 1:\")\n",
    "print_matrix(matrix1)\n",
    "\n",
    "print(\"\\nMatrix 2:\")\n",
    "print_matrix(matrix2)\n",
    "\n",
    "print(\"\\nMatrix Sum (Matrix 1 + Matrix 2):\")\n",
    "print_matrix(sum_result)\n",
    "\n",
    "print(\"\\nMatrix Difference (Matrix 1 - Matrix 2):\")\n",
    "print_matrix(difference_result)\n"
   ]
  },
  {
   "cell_type": "markdown",
   "id": "e502bc54-4c44-462d-ae0b-e879386c20e2",
   "metadata": {},
   "source": [
    "33. Write a program that calculates the greatest common divisor (GCD) of two numbers using the Euclidean\n",
    "algorithm."
   ]
  },
  {
   "cell_type": "code",
   "execution_count": 27,
   "id": "18e19238-4391-4592-9e76-74ea4efa4d02",
   "metadata": {},
   "outputs": [
    {
     "name": "stdin",
     "output_type": "stream",
     "text": [
      "enter a 1st number 48\n",
      "enter a 2nd number 96\n"
     ]
    },
    {
     "name": "stdout",
     "output_type": "stream",
     "text": [
      "GCD of num1 and num2 is  48\n"
     ]
    }
   ],
   "source": [
    "num1=int(input('enter a 1st number'))\n",
    "num2=int(input('enter a 2nd number'))\n",
    "\n",
    "def euclidean_algo(num1,num2):\n",
    "    while num2:\n",
    "        num1,num2=num2,num1%num2\n",
    "    return num1\n",
    "\n",
    "print('GCD of num1 and num2 is ',euclidean_algo(num1,num2))"
   ]
  },
  {
   "cell_type": "markdown",
   "id": "382f3efa-4516-4265-a55a-0e8d6c68dbf9",
   "metadata": {},
   "source": [
    "34. Build a program that performs matrix multiplication using nested loops and conditional statements"
   ]
  },
  {
   "cell_type": "code",
   "execution_count": 36,
   "id": "365f91df-d2a5-408c-ae6a-2ad8bd147cbf",
   "metadata": {},
   "outputs": [
    {
     "name": "stdout",
     "output_type": "stream",
     "text": [
      "matrix1\n",
      "1 2\n",
      "3 4\n",
      "\n",
      "matrix2\n",
      "5 6\n",
      "7 8\n",
      "\n",
      "multiplication matrix\n",
      "5 12\n",
      "21 32\n"
     ]
    }
   ],
   "source": [
    "def print_matrix(matrix):\n",
    "    for row in matrix:\n",
    "        print(\" \".join(str(value) for value in row))\n",
    "        \n",
    "matrix1=[[1,2],[3,4]]\n",
    "matrix2=[[5,6],[7,8]]\n",
    "\n",
    "print('matrix1')\n",
    "print_matrix(matrix1)\n",
    "print('\\nmatrix2')\n",
    "print_matrix(matrix2)\n",
    "\n",
    "mul_matrix=[]\n",
    "for i in range(len(matrix1)):\n",
    "    row=[]\n",
    "    for j in range(len(matrix1[i])):\n",
    "        row.append(matrix1[i][j]*matrix2[i][j])\n",
    "    mul_matrix.append(row)\n",
    "    \n",
    "print('\\nmultiplication matrix')\n",
    "print_matrix(mul_matrix)"
   ]
  },
  {
   "cell_type": "markdown",
   "id": "5e3dfbea-ce48-4c35-9942-7856b97745f3",
   "metadata": {},
   "source": [
    "35. Create a program that simulates a basic text-based tic-tac-toe game against the computer."
   ]
  },
  {
   "cell_type": "code",
   "execution_count": 39,
   "id": "6bafae77-6207-4870-9b28-fc800b450522",
   "metadata": {},
   "outputs": [
    {
     "name": "stdout",
     "output_type": "stream",
     "text": [
      "  |   |  \n",
      "---------\n",
      "  |   |  \n",
      "---------\n",
      "  |   |  \n",
      "---------\n"
     ]
    },
    {
     "name": "stdin",
     "output_type": "stream",
     "text": [
      "Enter your move (row col):  1 1\n"
     ]
    },
    {
     "name": "stdout",
     "output_type": "stream",
     "text": [
      "  |   |  \n",
      "---------\n",
      "  | X |  \n",
      "---------\n",
      "  |   |  \n",
      "---------\n",
      "Computer's move:\n",
      "  |   |  \n",
      "---------\n",
      "  | X |  \n",
      "---------\n",
      "O |   |  \n",
      "---------\n"
     ]
    },
    {
     "name": "stdin",
     "output_type": "stream",
     "text": [
      "Enter your move (row col):  0 0\n"
     ]
    },
    {
     "name": "stdout",
     "output_type": "stream",
     "text": [
      "X |   |  \n",
      "---------\n",
      "  | X |  \n",
      "---------\n",
      "O |   |  \n",
      "---------\n",
      "Computer's move:\n",
      "X |   |  \n",
      "---------\n",
      "  | X |  \n",
      "---------\n",
      "O | O |  \n",
      "---------\n"
     ]
    },
    {
     "name": "stdin",
     "output_type": "stream",
     "text": [
      "Enter your move (row col):  2 2\n"
     ]
    },
    {
     "name": "stdout",
     "output_type": "stream",
     "text": [
      "X |   |  \n",
      "---------\n",
      "  | X |  \n",
      "---------\n",
      "O | O | X\n",
      "---------\n",
      "Player X wins!\n"
     ]
    }
   ],
   "source": [
    "import random\n",
    "\n",
    "def print_board(board):\n",
    "    for row in board:\n",
    "        print(\" | \".join(row))\n",
    "        print(\"-\" * 9)\n",
    "\n",
    "def check_win(board, player):\n",
    "    for row in board:\n",
    "        if all(cell == player for cell in row):\n",
    "            return True\n",
    "\n",
    "    for col in range(3):\n",
    "        if all(board[row][col] == player for row in range(3)):\n",
    "            return True\n",
    "\n",
    "    if all(board[i][i] == player for i in range(3)) or all(board[i][2 - i] == player for i in range(3)):\n",
    "        return True\n",
    "\n",
    "    return False\n",
    "\n",
    "def is_board_full(board):\n",
    "    return all(cell != ' ' for row in board for cell in row)\n",
    "\n",
    "def get_empty_cells(board):\n",
    "    return [(row, col) for row in range(3) for col in range(3) if board[row][col] == ' ']\n",
    "\n",
    "def computer_move(board):\n",
    "    empty_cells = get_empty_cells(board)\n",
    "    return random.choice(empty_cells)\n",
    "\n",
    "def play_game():\n",
    "    board = [[' ' for _ in range(3)] for _ in range(3)]\n",
    "    player = 'X'\n",
    "    computer = 'O'\n",
    "\n",
    "    while True:\n",
    "        print_board(board)\n",
    "\n",
    "        if player == 'X':\n",
    "            row, col = map(int, input(\"Enter your move (row col): \").split())\n",
    "        else:\n",
    "            print(\"Computer's move:\")\n",
    "            row, col = computer_move(board)\n",
    "\n",
    "        if board[row][col] == ' ':\n",
    "            board[row][col] = player\n",
    "\n",
    "            if check_win(board, player):\n",
    "                print_board(board)\n",
    "                print(f\"Player {player} wins!\")\n",
    "                break\n",
    "            elif is_board_full(board):\n",
    "                print_board(board)\n",
    "                print(\"It's a draw!\")\n",
    "                break\n",
    "\n",
    "            player = 'O' if player == 'X' else 'X'\n",
    "\n",
    "if __name__ == \"__main__\":\n",
    "    play_game()\n"
   ]
  },
  {
   "cell_type": "markdown",
   "id": "19975043-b5ff-4d11-af2e-76e7f1347f9a",
   "metadata": {},
   "source": [
    "36. Write a program that generates Fibonacci numbers up to a specified term using iterative methods."
   ]
  },
  {
   "cell_type": "code",
   "execution_count": 40,
   "id": "da10258a-7c37-4b92-a528-a7fa55fa75a5",
   "metadata": {},
   "outputs": [
    {
     "name": "stdin",
     "output_type": "stream",
     "text": [
      "Enter the number of Fibonacci terms to generate:  20\n"
     ]
    },
    {
     "name": "stdout",
     "output_type": "stream",
     "text": [
      "Fibonacci Sequence:\n",
      "[0, 1, 1, 2, 3, 5, 8, 13, 21, 34, 55, 89, 144, 233, 377, 610, 987, 1597, 2584, 4181]\n"
     ]
    }
   ],
   "source": [
    "def generate_fibonacci(n):\n",
    "    if n <= 0:\n",
    "        return []\n",
    "    elif n == 1:\n",
    "        return [0]\n",
    "    elif n == 2:\n",
    "        return [0, 1]\n",
    "\n",
    "    fibonacci_sequence = [0, 1]\n",
    "    while len(fibonacci_sequence) < n:\n",
    "        next_fibonacci = fibonacci_sequence[-1] + fibonacci_sequence[-2]\n",
    "        fibonacci_sequence.append(next_fibonacci)\n",
    "\n",
    "    return fibonacci_sequence\n",
    "\n",
    "n = int(input(\"Enter the number of Fibonacci terms to generate: \"))\n",
    "\n",
    "if n <= 0:\n",
    "    print(\"Please enter a positive integer.\")\n",
    "else:\n",
    "    fibonacci_sequence = generate_fibonacci(n)\n",
    "    print(\"Fibonacci Sequence:\")\n",
    "    print(fibonacci_sequence)\n"
   ]
  },
  {
   "cell_type": "markdown",
   "id": "c58c03f8-d983-4ef3-b7ed-9ae593178d5b",
   "metadata": {},
   "source": [
    "37. Develop a program that calculates the nth term of the Fibonacci sequence using memoization."
   ]
  },
  {
   "cell_type": "code",
   "execution_count": 41,
   "id": "19c33458-04df-44b5-87c4-73a607d7077d",
   "metadata": {},
   "outputs": [
    {
     "data": {
      "text/plain": [
       "6765"
      ]
     },
     "execution_count": 41,
     "metadata": {},
     "output_type": "execute_result"
    }
   ],
   "source": [
    "def fibonacci(n):\n",
    "    if n==0:\n",
    "        return 0\n",
    "    elif n==1:\n",
    "        return 1\n",
    "    else:\n",
    "        return fibonacci(n-1)+fibonacci(n-2)\n",
    "    \n",
    "fibonacci(20)"
   ]
  },
  {
   "cell_type": "markdown",
   "id": "9c538e1e-2273-46d8-9550-e1863be09766",
   "metadata": {},
   "source": [
    "38. Create a program that generates a calendar for a given month and year using conditional statements."
   ]
  },
  {
   "cell_type": "code",
   "execution_count": 42,
   "id": "2f4eebe2-5e3b-408c-abd4-723209874f76",
   "metadata": {},
   "outputs": [
    {
     "name": "stdin",
     "output_type": "stream",
     "text": [
      "Enter the year:  2022\n",
      "Enter the month (1-12):  3\n"
     ]
    },
    {
     "name": "stdout",
     "output_type": "stream",
     "text": [
      "Calendar for March 2022\n",
      "Mo Tu We Th Fr Sa Su\n",
      " 1  2  3  4  5  6 \n",
      "7  8  9 10 11 12 13 \n",
      "14 15 16 17 18 19 20 \n",
      "21 22 23 24 25 26 27 \n",
      "28 29 30 31 \n",
      "\n"
     ]
    }
   ],
   "source": [
    "import calendar\n",
    "\n",
    "def generate_calendar(year, month):\n",
    "    # Determine the first day of the month (0 = Monday, 6 = Sunday)\n",
    "    first_day, num_days = calendar.monthrange(year, month)\n",
    "\n",
    "    # Define the names of the days of the week\n",
    "    days_of_week = [\"Mon\", \"Tue\", \"Wed\", \"Thu\", \"Fri\", \"Sat\", \"Sun\"]\n",
    "\n",
    "    # Define the names of the months\n",
    "    month_names = [\"January\", \"February\", \"March\", \"April\", \"May\", \"June\", \"July\", \"August\", \"September\", \"October\", \"November\", \"December\"]\n",
    "\n",
    "    # Print the header with the month and year\n",
    "    print(f\"Calendar for {month_names[month - 1]} {year}\")\n",
    "    print(\"Mo Tu We Th Fr Sa Su\")\n",
    "\n",
    "    # Initialize variables for day and column\n",
    "    day = 1\n",
    "    current_column = first_day\n",
    "\n",
    "    # Create the calendar grid\n",
    "    while day <= num_days:\n",
    "        if current_column == 0:\n",
    "            # Start a new row at the beginning of the week\n",
    "            print(\"\\n\", end=\"\")\n",
    "        elif day < 10:\n",
    "            # Add an extra space for single-digit days\n",
    "            print(\" \", end=\"\")\n",
    "        print(f\"{day} \", end=\"\")\n",
    "\n",
    "        day += 1\n",
    "        current_column = (current_column + 1) % 7\n",
    "\n",
    "    print(\"\\n\")\n",
    "\n",
    "# Input the year and month\n",
    "year = int(input(\"Enter the year: \"))\n",
    "month = int(input(\"Enter the month (1-12): \"))\n",
    "\n",
    "generate_calendar(year, month)\n"
   ]
  },
  {
   "cell_type": "markdown",
   "id": "feecf83e-652f-4d77-ac64-df41a1065b00",
   "metadata": {},
   "source": [
    "39. Build a program that simulates a basic text-based blackjack game against the computer."
   ]
  },
  {
   "cell_type": "code",
   "execution_count": 44,
   "id": "9382d213-3f11-428d-bd3a-50e0aee88202",
   "metadata": {},
   "outputs": [
    {
     "name": "stdout",
     "output_type": "stream",
     "text": [
      "\n",
      "Your hand:\n",
      "Ten of Clubs\n",
      "Nine of Clubs\n",
      "Total value: 19\n"
     ]
    },
    {
     "name": "stdin",
     "output_type": "stream",
     "text": [
      "Do you want to 'hit' or 'stand'?  stand\n"
     ]
    },
    {
     "name": "stdout",
     "output_type": "stream",
     "text": [
      "\n",
      "Computer's hand:\n",
      "Three of Diamonds\n",
      "Seven of Spades\n",
      "Four of Diamonds\n",
      "Ten of Hearts\n",
      "Total value: 24\n",
      "Computer busts! You win!\n"
     ]
    }
   ],
   "source": [
    "import random\n",
    "\n",
    "# Define the deck of cards\n",
    "suits = ['Hearts', 'Diamonds', 'Clubs', 'Spades']\n",
    "ranks = ['Two', 'Three', 'Four', 'Five', 'Six', 'Seven', 'Eight', 'Nine', 'Ten', 'Jack', 'Queen', 'King', 'Ace']\n",
    "values = [2, 3, 4, 5, 6, 7, 8, 9, 10, 10, 10, 10, 11]\n",
    "\n",
    "# Define the functions to deal cards and calculate the hand value\n",
    "def deal_card(deck):\n",
    "    return random.choice(deck)\n",
    "\n",
    "def calculate_hand_value(hand):\n",
    "    value = sum(hand)\n",
    "    if value > 21 and 11 in hand:\n",
    "        hand.remove(11)\n",
    "        hand.append(1)\n",
    "    return value\n",
    "\n",
    "# Initialize the deck and deal initial cards\n",
    "deck = [value for value in values for _ in range(4)]\n",
    "player_hand = [deal_card(deck), deal_card(deck)]\n",
    "computer_hand = [deal_card(deck), deal_card(deck)]\n",
    "\n",
    "# Game loop\n",
    "while True:\n",
    "    # Calculate hand values\n",
    "    player_value = calculate_hand_value(player_hand)\n",
    "    computer_value = calculate_hand_value(computer_hand)\n",
    "\n",
    "    # Display player's hand and value\n",
    "    print(\"\\nYour hand:\")\n",
    "    for card in player_hand:\n",
    "        print(f\"{ranks[values.index(card)]} of {random.choice(suits)}\")\n",
    "    print(f\"Total value: {player_value}\")\n",
    "\n",
    "    # Check for player's blackjack or bust\n",
    "    if player_value == 21:\n",
    "        print(\"Blackjack! You win!\")\n",
    "        break\n",
    "    elif player_value > 21:\n",
    "        print(\"Bust! You lose!\")\n",
    "        break\n",
    "\n",
    "    # Ask the player to hit or stand\n",
    "    action = input(\"Do you want to 'hit' or 'stand'? \").lower()\n",
    "\n",
    "    if action == 'hit':\n",
    "        player_hand.append(deal_card(deck))\n",
    "    elif action == 'stand':\n",
    "        while computer_value < 17:\n",
    "            computer_hand.append(deal_card(deck))\n",
    "            computer_value = calculate_hand_value(computer_hand)\n",
    "        \n",
    "        # Display computer's hand and value\n",
    "        print(\"\\nComputer's hand:\")\n",
    "        for card in computer_hand:\n",
    "            print(f\"{ranks[values.index(card)]} of {random.choice(suits)}\")\n",
    "        print(f\"Total value: {computer_value}\")\n",
    "\n",
    "        # Check for computer's blackjack or bust\n",
    "        if computer_value == 21:\n",
    "            print(\"Computer has Blackjack! You lose!\")\n",
    "        elif computer_value > 21:\n",
    "            print(\"Computer busts! You win!\")\n",
    "        elif computer_value >= player_value:\n",
    "            print(\"Computer wins!\")\n",
    "        else:\n",
    "            print(\"You win!\")\n",
    "        \n",
    "        break\n",
    "    else:\n",
    "        print(\"Invalid input. Please enter 'hit' or 'stand'.\")\n"
   ]
  },
  {
   "cell_type": "markdown",
   "id": "9e3c87d4-a92d-40ba-95b6-96972467858d",
   "metadata": {},
   "source": [
    "40. Write a program that generates the prime factors of a given number using trial division"
   ]
  },
  {
   "cell_type": "code",
   "execution_count": 45,
   "id": "b3897cce-ebf6-4c7c-bf0a-f6bf4ebb6210",
   "metadata": {},
   "outputs": [
    {
     "name": "stdin",
     "output_type": "stream",
     "text": [
      "Enter a number to find its prime factors:  52\n"
     ]
    },
    {
     "name": "stdout",
     "output_type": "stream",
     "text": [
      "Prime factors of 52 are: [2, 2, 13]\n"
     ]
    }
   ],
   "source": [
    "def prime_factors(n):\n",
    "    factors = []\n",
    "    # Divide the number by 2 until it's odd\n",
    "    while n % 2 == 0:\n",
    "        factors.append(2)\n",
    "        n //= 2\n",
    "    # Divide by odd numbers starting from 3\n",
    "    for i in range(3, int(n**0.5) + 1, 2):\n",
    "        while n % i == 0:\n",
    "            factors.append(i)\n",
    "            n //= i\n",
    "    # If n is a prime greater than 2, add it to the factors list\n",
    "    if n > 2:\n",
    "        factors.append(n)\n",
    "    return factors\n",
    "\n",
    "# Input a number from the user\n",
    "number = int(input(\"Enter a number to find its prime factors: \"))\n",
    "\n",
    "if number < 2:\n",
    "    print(\"Prime factors are not defined for numbers less than 2.\")\n",
    "else:\n",
    "    factors = prime_factors(number)\n",
    "    print(f\"Prime factors of {number} are: {factors}\")\n"
   ]
  },
  {
   "cell_type": "code",
   "execution_count": null,
   "id": "6746e537-aa86-443e-b5a4-0c4b8027f6d0",
   "metadata": {},
   "outputs": [],
   "source": []
  }
 ],
 "metadata": {
  "kernelspec": {
   "display_name": "Python 3 (ipykernel)",
   "language": "python",
   "name": "python3"
  },
  "language_info": {
   "codemirror_mode": {
    "name": "ipython",
    "version": 3
   },
   "file_extension": ".py",
   "mimetype": "text/x-python",
   "name": "python",
   "nbconvert_exporter": "python",
   "pygments_lexer": "ipython3",
   "version": "3.10.8"
  }
 },
 "nbformat": 4,
 "nbformat_minor": 5
}
