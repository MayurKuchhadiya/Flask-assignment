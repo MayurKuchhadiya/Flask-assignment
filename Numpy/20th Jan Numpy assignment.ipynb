{
 "cells": [
  {
   "cell_type": "markdown",
   "id": "626c418e",
   "metadata": {},
   "source": [
    "## 1. What is a Python library? Why do we use Python libraries?"
   ]
  },
  {
   "cell_type": "markdown",
   "id": "f48114e3",
   "metadata": {},
   "source": [
    "A Python library is a collection of related modules. It contains bundles of code that can be used repeatedly in different programs. It makes Python Programming simpler and convenient for the programmer. As we don’t need to write the same code again and again for different programs.\n",
    "\n",
    "There are several use of python library.\n",
    "\n",
    "1.Code Reusability: Libraries provide a set of functions and modules that can be reused across different projects. This helps save time and effort by leveraging existing solutions instead of reinventing the wheel.\n",
    "\n",
    "2.Efficiency: Libraries are often developed and optimized by experts, which can lead to more efficient and performant code. Developers can benefit from well-tested and optimized implementations of common algorithms and functionalities."
   ]
  },
  {
   "cell_type": "markdown",
   "id": "7567fd21",
   "metadata": {},
   "source": [
    "## 2. What is the difference between Numpy array and List?"
   ]
  },
  {
   "cell_type": "markdown",
   "id": "11c885f3",
   "metadata": {},
   "source": [
    "NumPy arrays and Python lists are both used to store and manipulate collections of elements, but there are several key differences between them. Here are some of the main distinctions:\n",
    "\n",
    "1.Homogeneity:\n",
    "\n",
    "List: Python lists can contain elements of different data types. You can have a mix of integers, floats, strings, or other objects in a single list.\n",
    "NumPy Array: NumPy arrays are homogeneous, meaning all elements must be of the same data type. This homogeneity allows for more efficient storage and operations.\n",
    "\n",
    "2.Memory Efficiency:\n",
    "\n",
    "List: Lists are more flexible but may consume more memory due to their dynamic typing and the ability to store different data types.\n",
    "NumPy Array: NumPy arrays are more memory-efficient as they store elements of the same data type in contiguous memory blocks, leading to better storage and performance.\n",
    "\n",
    "3.Performance:\n",
    "\n",
    "List: Lists are generally slower for numerical operations because they are not optimized for mathematical operations.\n",
    "NumPy Array: NumPy arrays are designed for numerical and scientific computing, and they provide efficient, vectorized operations. This makes them faster for numerical computations compared to lists.\n",
    "\n",
    "4.Functionality:\n",
    "\n",
    "List: Lists provide a broad range of built-in methods and functionalities. However, they are not specialized for numerical operations.\n",
    "NumPy Array: NumPy arrays come with a variety of functions for array manipulation, linear algebra, statistical operations, and more. They are specifically designed for numerical computations."
   ]
  },
  {
   "cell_type": "markdown",
   "id": "7ff3c740",
   "metadata": {},
   "source": [
    "import numpy as np"
   ]
  },
  {
   "cell_type": "markdown",
   "id": "cb5ba720",
   "metadata": {},
   "source": [
    "## Answers of question 3 to 6\n"
   ]
  },
  {
   "cell_type": "code",
   "execution_count": 23,
   "id": "b072c34d",
   "metadata": {},
   "outputs": [
    {
     "name": "stdout",
     "output_type": "stream",
     "text": [
      "Shape of array: (3, 4)\n",
      "Size of array : 12\n",
      "Dimension of array : 2\n",
      "\n",
      "First row of array : [1 2 3 4]\n",
      "\n",
      "Element at a third row and fourth column  : 12\n",
      "\n",
      "All the odd indexed element :\n",
      " [[ 2  4]\n",
      " [ 6  8]\n",
      " [10 12]]\n"
     ]
    }
   ],
   "source": [
    "# Creating a array\n",
    "array=np.array([\n",
    "    [1,2,3,4],\n",
    "    [5,6,7,8],\n",
    "    [9,10,11,12]])\n",
    "\n",
    "print(f'Shape of array: {array.shape}')       # Shape of array\n",
    "print(f'Size of array : {array.size}')        # Size of array\n",
    "print(f'Dimension of array : {array.ndim}\\n') # Dimension of array\n",
    "\n",
    "print(f'First row of array : {array[0,:]}\\n') # Accessing the first row of array\n",
    "\n",
    "print(f'Element at a third row and fourth column  : {array[2,3]}\\n')   # Accessing the element at a third row and fourth column\n",
    "\n",
    "print(f'All the odd indexed element :\\n {array[:,1::2]}') # Accessing all the odd indexed element"
   ]
  },
  {
   "cell_type": "markdown",
   "id": "4ce90356",
   "metadata": {},
   "source": [
    "## 7. How can you generate a random 3x3 matrix with values between 0 and 1?"
   ]
  },
  {
   "cell_type": "code",
   "execution_count": 29,
   "id": "824be801",
   "metadata": {},
   "outputs": [
    {
     "name": "stdout",
     "output_type": "stream",
     "text": [
      "[[0.63005011 0.12661072 0.36627832]\n",
      " [0.08234658 0.1338271  0.66574739]\n",
      " [0.60588563 0.79860777 0.31114541]]\n"
     ]
    }
   ],
   "source": [
    "Random_array=np.random.rand(3,3)\n",
    "print(Random_array)"
   ]
  },
  {
   "cell_type": "markdown",
   "id": "0d1f7741",
   "metadata": {},
   "source": [
    "## 8. Describe the difference between np.random.rand and np.random.randn?\n",
    "\n"
   ]
  },
  {
   "cell_type": "markdown",
   "id": "df6728da",
   "metadata": {},
   "source": [
    "np.random.rand():\n",
    "    This function generates random number from a uniform distribution in a range of [0,1].\n",
    "    \n",
    "np.random.randn():\n",
    "    This function generates random number from a standard normal distribution with mean=0 and standard deviation=1.\n",
    "    "
   ]
  },
  {
   "cell_type": "markdown",
   "id": "5c645e32",
   "metadata": {},
   "source": [
    "## 9. Write code to increase the dimension of the following array?"
   ]
  },
  {
   "cell_type": "code",
   "execution_count": 39,
   "id": "1a39eb90",
   "metadata": {},
   "outputs": [
    {
     "name": "stdout",
     "output_type": "stream",
     "text": [
      "New array : \n",
      "[[[ 1  2  3]\n",
      "  [ 4  5  6]]\n",
      "\n",
      " [[ 7  8  9]\n",
      "  [10 11 12]]]\n",
      "\n",
      "Dimension of old array : 2\n",
      "Dimension of new array : 3\n"
     ]
    }
   ],
   "source": [
    "# Creating a new array with dimension of 3\n",
    "# Note: Change the dimension such that product of size and dimension remain same as old one\n",
    "array1=array.reshape((2,2,3))\n",
    "\n",
    "print(f'New array : \\n{array1}\\n')\n",
    "print(f'Dimension of old array : {array.ndim}')\n",
    "print(f'Dimension of new array : {array1.ndim}')"
   ]
  },
  {
   "cell_type": "markdown",
   "id": "a3f20b80",
   "metadata": {},
   "source": [
    "## 10. How to transpose the following array in NumPy?"
   ]
  },
  {
   "cell_type": "code",
   "execution_count": 42,
   "id": "74db22fe",
   "metadata": {},
   "outputs": [
    {
     "name": "stdout",
     "output_type": "stream",
     "text": [
      "Original array : \n",
      "[[ 1  2  3  4]\n",
      " [ 5  6  7  8]\n",
      " [ 9 10 11 12]]\n",
      "\n",
      "Transpose of array : \n",
      "[[ 1  5  9]\n",
      " [ 2  6 10]\n",
      " [ 3  7 11]\n",
      " [ 4  8 12]]\n"
     ]
    }
   ],
   "source": [
    "print(f'Original array : \\n{array}\\n')\n",
    "print(f'Transpose of array : \\n{array.T}')"
   ]
  },
  {
   "cell_type": "markdown",
   "id": "93b19d60",
   "metadata": {},
   "source": [
    "## 11. Consider the following matrix:\n",
    "\n",
    "Matrix A2 [[1, 2, 3, 4] [5, 6, 7, 8],[9, 10, 11, 12]]\n",
    "\n",
    "Matrix B2 [[1, 2, 3, 4] [5, 6, 7, 8],[9, 10, 11, 12]]"
   ]
  },
  {
   "cell_type": "code",
   "execution_count": 62,
   "id": "31887992",
   "metadata": {},
   "outputs": [
    {
     "name": "stdout",
     "output_type": "stream",
     "text": [
      "Index wise multipication : \n",
      "[[  1   4   9  16]\n",
      " [ 25  36  49  64]\n",
      " [ 81 100 121 144]]\n",
      "\n",
      "Matrix multipication : \n",
      "[[ 30  70 110]\n",
      " [ 70 174 278]\n",
      " [110 278 446]]\n",
      "\n",
      "Add both Matrix : \n",
      "[[ 2  4  6  8]\n",
      " [10 12 14 16]\n",
      " [18 20 22 24]]\n",
      "\n",
      "Subtract matrix B from A : \n",
      "[[0 0 0 0]\n",
      " [0 0 0 0]\n",
      " [0 0 0 0]]\n",
      "\n",
      "Divide matrix B by A : \n",
      "[[1. 1. 1. 1.]\n",
      " [1. 1. 1. 1.]\n",
      " [1. 1. 1. 1.]]\n"
     ]
    }
   ],
   "source": [
    "A=np.array([[1, 2, 3, 4],\n",
    "            [5, 6, 7, 8],\n",
    "            [9, 10, 11, 12]])\n",
    "\n",
    "B=np.array([[1, 2, 3, 4],\n",
    "            [5, 6, 7, 8],\n",
    "            [9, 10, 11, 12]])\n",
    "\n",
    "print(f'Index wise multipication : \\n{A*B}\\n')\n",
    "print(f'Matrix multipication : \\n{A@B.T}\\n')   # We want to transpose the matrix B bacause row of A and row of B is not same.\n",
    "print(f'Add both Matrix : \\n{A+B}\\n')\n",
    "print(f'Subtract matrix B from A : \\n{A-B}\\n')\n",
    "print(f'Divide matrix B by A : \\n{B/A}')"
   ]
  },
  {
   "cell_type": "markdown",
   "id": "f5f11cdb",
   "metadata": {},
   "source": [
    "## 12.  Which function in Numpy can be used to swap the byte order of an array?"
   ]
  },
  {
   "cell_type": "code",
   "execution_count": 66,
   "id": "b00ab401",
   "metadata": {},
   "outputs": [
    {
     "name": "stdout",
     "output_type": "stream",
     "text": [
      "Original array:\n",
      "[    1   256 65536]\n",
      "\n",
      "Swapped array:\n",
      "[16777216    65536      256]\n"
     ]
    }
   ],
   "source": [
    "# np.byteswap() function is used to swap the byte order of an array\n",
    "\n",
    "# Create a NumPy array with integers\n",
    "original_array = np.array([1, 256, 65536], dtype=np.int32)\n",
    "\n",
    "# Swap the byte order using byteswap\n",
    "swapped_array = original_array.byteswap()\n",
    "\n",
    "# Print the original and swapped arrays\n",
    "print(\"Original array:\")\n",
    "print(original_array)\n",
    "\n",
    "print(\"\\nSwapped array:\")\n",
    "print(swapped_array)"
   ]
  },
  {
   "cell_type": "markdown",
   "id": "c9fcbb3b",
   "metadata": {},
   "source": [
    "## 13.  What is the significance of the np.linalg.inv function?"
   ]
  },
  {
   "cell_type": "code",
   "execution_count": 76,
   "id": "97b1578a",
   "metadata": {},
   "outputs": [
    {
     "name": "stdout",
     "output_type": "stream",
     "text": [
      "Original matrix A: \n",
      "[[4 3]\n",
      " [1 2]]\n",
      "\n",
      "Inverse matrix of A:\n",
      "[[ 0.4 -0.6]\n",
      " [-0.2  0.8]]\n",
      "\n",
      "Multiplication of A and A_inv matrix : \n",
      "[[1. 0.]\n",
      " [0. 1.]]\n"
     ]
    }
   ],
   "source": [
    "# np.linalg.inv() function in NumPy is used to compute the inverse of a square matrix.\n",
    "# And it has the property that when it is multiplied by the original matrix , the result is the identity matrix.\n",
    "\n",
    "# Define a square matrix A\n",
    "A = np.array([[4, 3],\n",
    "              [1, 2]])\n",
    "\n",
    "# Compute the inverse of A\n",
    "A_inv = np.linalg.inv(A)\n",
    "\n",
    "# Print the original matrix and its inverse\n",
    "print(f\"Original matrix A: \\n{A}\")\n",
    "\n",
    "print(f\"\\nInverse matrix of A:\\n{A_inv}\")\n",
    "\n",
    "print(f'\\nMultiplication of A and A_inv matrix : \\n{np.dot(A,A_inv)}')"
   ]
  },
  {
   "cell_type": "markdown",
   "id": "fb7144ff",
   "metadata": {},
   "source": [
    "## 14. What does the np.reshape function do, and how is it used?"
   ]
  },
  {
   "cell_type": "code",
   "execution_count": 4,
   "id": "10b6b9cc",
   "metadata": {},
   "outputs": [
    {
     "name": "stdout",
     "output_type": "stream",
     "text": [
      "array1 : \n",
      "[1 2 3 4 5 6]\n",
      "\n",
      "array2 : \n",
      "[[1 2 3]\n",
      " [4 5 6]]\n",
      "\n",
      "array3 : \n",
      "[[1 2]\n",
      " [3 4]\n",
      " [5 6]]\n",
      "\n"
     ]
    }
   ],
   "source": [
    "# np.reshape() function is used to change the shape of an array without changing its data. It allows you to rearrange the elements\n",
    "# of an array into a new shape, provided that the total number of elements remains the same.\n",
    "\n",
    "arr1=np.array([1,2,3,4,5,6])   # creating array aar1\n",
    "\n",
    "arr2=np.reshape(arr1,(2,3))    # changing the shape of array arr1\n",
    "\n",
    "arr3=np.reshape(arr1,(3,-1))   # automatically select the second value of shape by giving -1\n",
    "\n",
    "print(f'array1 : \\n{arr1}\\n')\n",
    "print(f'array2 : \\n{arr2}\\n')\n",
    "print(f'array3 : \\n{arr3}\\n')\n"
   ]
  },
  {
   "cell_type": "markdown",
   "id": "395a21b8",
   "metadata": {},
   "source": [
    "## 15. What is broadcasting in Numpy?"
   ]
  },
  {
   "cell_type": "markdown",
   "id": "46d573f3",
   "metadata": {},
   "source": [
    "Broadcasting in NumPy is a powerful feature that allows you to perform operations on arrays of different shapes and sizes. It is a way of treating arrays with different shapes during arithmetic operations, and it helps to avoid the need for explicit loops to perform element-wise operations on arrays of different shapes.\n",
    "\n",
    "The basic idea behind broadcasting is to extend smaller arrays so that they have compatible shapes for element-wise operations with larger arrays. Broadcasting operates under a set of rules to determine how the dimensions of two arrays should be treated when performing element-wise operations. The smaller array is \"broadcast\" across the larger array so that they have compatible shapes.\n",
    "\n",
    "Here are the broadcasting rules:\n",
    "\n",
    "1. If the arrays have a different number of dimensions, pad the smaller shape with ones on its left side.\n",
    "\n",
    "2. Compare the sizes of corresponding dimensions. If one of the dimensions is 1, it is stretched to match the size of the other dimension.\n",
    "\n",
    "3. If sizes along a dimension don't match and neither dimension is 1, then the operation is not possible, and NumPy will raise a ValueError."
   ]
  },
  {
   "cell_type": "code",
   "execution_count": 9,
   "id": "9d740bd6",
   "metadata": {},
   "outputs": [
    {
     "name": "stdout",
     "output_type": "stream",
     "text": [
      "[6 7 8 9]\n",
      "\n",
      "\n",
      "[11 22 33]\n",
      "\n",
      "\n",
      "[[11 22 33]\n",
      " [14 25 36]]\n"
     ]
    }
   ],
   "source": [
    "# Example 1: Broadcasting with a scalar\n",
    "arr = np.array([1, 2, 3, 4])\n",
    "result = arr + 5  # scalar 5 is broadcasted to each element of arr\n",
    "print(result)\n",
    "print('\\n')\n",
    "\n",
    "# Example 2: Broadcasting with a 1D array\n",
    "arr1 = np.array([1, 2, 3])\n",
    "arr2 = np.array([10, 20, 30])\n",
    "result = arr1 + arr2  # both arrays are broadcasted to the same shape\n",
    "print(result)\n",
    "print('\\n')\n",
    "\n",
    "# Example 3: Broadcasting with a 2D array and a 1D array\n",
    "arr3d = np.array([[1, 2, 3], [4, 5, 6]])\n",
    "arr1d = np.array([10, 20, 30])\n",
    "result = arr3d + arr1d  # arr1d is broadcasted to each row of arr3d\n",
    "print(result)"
   ]
  },
  {
   "cell_type": "code",
   "execution_count": null,
   "id": "b3ac5c4d",
   "metadata": {},
   "outputs": [],
   "source": []
  }
 ],
 "metadata": {
  "kernelspec": {
   "display_name": "Python 3 (ipykernel)",
   "language": "python",
   "name": "python3"
  },
  "language_info": {
   "codemirror_mode": {
    "name": "ipython",
    "version": 3
   },
   "file_extension": ".py",
   "mimetype": "text/x-python",
   "name": "python",
   "nbconvert_exporter": "python",
   "pygments_lexer": "ipython3",
   "version": "3.11.5"
  }
 },
 "nbformat": 4,
 "nbformat_minor": 5
}
