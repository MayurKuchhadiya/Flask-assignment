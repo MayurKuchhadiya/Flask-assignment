{
 "cells": [
  {
   "cell_type": "markdown",
   "id": "2603edeb-d4e4-4031-b233-eb760f20a326",
   "metadata": {},
   "source": [
    "                               For Loop Based Question"
   ]
  },
  {
   "cell_type": "markdown",
   "id": "51f1f7fd-1538-42d3-ab87-edeae4da404d",
   "metadata": {},
   "source": [
    "1. Write a Python program to print numbers from 1 to 10 using a for loop."
   ]
  },
  {
   "cell_type": "code",
   "execution_count": null,
   "id": "d23aa0d2-fa67-4fe0-abd1-1ff22d161d9f",
   "metadata": {},
   "outputs": [],
   "source": [
    "\n",
    "for i in range(11):\n",
    "    print(i,end=' ')"
   ]
  },
  {
   "cell_type": "markdown",
   "id": "b1b2c279-791c-491d-b034-0f6d8578b5ac",
   "metadata": {},
   "source": [
    "2. Explain the difference between a for loop and a while loop in Python.\n"
   ]
  },
  {
   "cell_type": "code",
   "execution_count": 4,
   "id": "6d86349a-d400-4b43-b37e-c5aebf34444b",
   "metadata": {},
   "outputs": [
    {
     "name": "stdout",
     "output_type": "stream",
     "text": [
      "0 1 2 3 4 0 1 2 3 4 "
     ]
    }
   ],
   "source": [
    "# A while loop is based on conditon.it keeps on execute the block of code as long as condition remain true.\n",
    "# example\n",
    "count=0\n",
    "while count<5:\n",
    "    print(count,end=' ')\n",
    "    count+=1\n",
    "        \n",
    "        \n",
    "# A for loop on other hand is used when you know how many times your block of code is execute.\n",
    "\n",
    "for count in range(5):\n",
    "    print(count,end=' ')\n"
   ]
  },
  {
   "cell_type": "markdown",
   "id": "16283851-495d-4e3f-a312-b49c13d2497c",
   "metadata": {},
   "source": [
    "3. Write a Python program to calculate the sum of all numbers from 1 to 100 using a for loop.\n"
   ]
  },
  {
   "cell_type": "code",
   "execution_count": 5,
   "id": "a193fd4d-1865-4ef8-9109-9a270004de22",
   "metadata": {},
   "outputs": [
    {
     "data": {
      "text/plain": [
       "5050"
      ]
     },
     "execution_count": 5,
     "metadata": {},
     "output_type": "execute_result"
    }
   ],
   "source": [
    "def sum_of_number(start,end):\n",
    "    sum=0\n",
    "    for i in range(start,end+1):\n",
    "        sum+=i\n",
    "    return sum\n",
    "sum_of_number(1,100)"
   ]
  },
  {
   "cell_type": "markdown",
   "id": "faabc1ff-61fa-4da5-923f-b7809ecf991f",
   "metadata": {},
   "source": [
    "4. How do you iterate through a list using a for loop in Python?"
   ]
  },
  {
   "cell_type": "code",
   "execution_count": 7,
   "id": "78be81ea-0972-4950-8c92-4fad408f1e4b",
   "metadata": {},
   "outputs": [
    {
     "name": "stdout",
     "output_type": "stream",
     "text": [
      "mercedes , volvo , oddi , tata , ferrari , "
     ]
    }
   ],
   "source": [
    "#first we take a list which to be iterate\n",
    "car=['mercedes','volvo','oddi','tata','ferrari']\n",
    "\n",
    "#now by using for loop we iterate a car list one by one item.\n",
    "\n",
    "for item in car:\n",
    "    print(item,end=' , ')"
   ]
  },
  {
   "cell_type": "markdown",
   "id": "2b60a9b0-0523-405d-8bad-e901afc3a8c2",
   "metadata": {},
   "source": [
    "5. Write a Python program to find the product of all elements in a list using a for loop.\n"
   ]
  },
  {
   "cell_type": "code",
   "execution_count": 8,
   "id": "00f88d97-5a36-4cd6-81e0-9043c8e7c0f4",
   "metadata": {},
   "outputs": [
    {
     "name": "stdout",
     "output_type": "stream",
     "text": [
      "362880\n"
     ]
    }
   ],
   "source": [
    "l=[1,2,3,4,5,6,7,8,9]\n",
    "product=1\n",
    "for i in l:\n",
    "    product*=i\n",
    "print(product)"
   ]
  },
  {
   "cell_type": "markdown",
   "id": "364c031c-a1aa-48d3-864e-89ff923e15ad",
   "metadata": {},
   "source": [
    "6. Create a Python program that prints all even numbers from 1 to 20 using a for loop"
   ]
  },
  {
   "cell_type": "code",
   "execution_count": 13,
   "id": "dee1bf53-44d0-41d7-aac4-a74d58ca3933",
   "metadata": {},
   "outputs": [
    {
     "name": "stdout",
     "output_type": "stream",
     "text": [
      "2 4 6 8 10 12 14 16 18 20 "
     ]
    }
   ],
   "source": [
    "def even_num(start,end):\n",
    "    for i in range(start,end+1):\n",
    "        if i%2==0:\n",
    "            print(i,end=' ')\n",
    "even_num(1,20)"
   ]
  },
  {
   "cell_type": "markdown",
   "id": "0956d32e-70c7-4386-8df4-6e3fdf83785d",
   "metadata": {},
   "source": [
    "7. Write a Python program that calculates the factorial of a number using a for loop."
   ]
  },
  {
   "cell_type": "code",
   "execution_count": 14,
   "id": "c2f0379c-98a3-4e8b-a7e4-2d0ffd67b46c",
   "metadata": {},
   "outputs": [
    {
     "data": {
      "text/plain": [
       "120"
      ]
     },
     "execution_count": 14,
     "metadata": {},
     "output_type": "execute_result"
    }
   ],
   "source": [
    "def factorial(n):\n",
    "    product=1\n",
    "    for i in range(1,n+1):\n",
    "        product*=i\n",
    "    return product\n",
    "\n",
    "factorial(5)        "
   ]
  },
  {
   "cell_type": "markdown",
   "id": "cff609c1-3321-4833-b23c-d840c8f29dfe",
   "metadata": {},
   "source": [
    "8. How can you iterate through the characters of a string using a for loop in Python?"
   ]
  },
  {
   "cell_type": "code",
   "execution_count": 16,
   "id": "ddb32232-8141-4d62-8e61-18a6bacce2c9",
   "metadata": {},
   "outputs": [
    {
     "name": "stdout",
     "output_type": "stream",
     "text": [
      "m\n",
      "a\n",
      "y\n",
      "u\n",
      "r\n"
     ]
    }
   ],
   "source": [
    "def string_iterate(string):\n",
    "    for char in string:\n",
    "        print(char)\n",
    "\n",
    "string_iterate('mayur')"
   ]
  },
  {
   "cell_type": "markdown",
   "id": "21ab92ad-0efe-4fed-89b6-2045b53fb09b",
   "metadata": {},
   "source": [
    "9. Write a Python program to find the largest number in a list using a for loop.\n"
   ]
  },
  {
   "cell_type": "code",
   "execution_count": 20,
   "id": "c32a3a0a-8897-4061-b442-d7a0d76b6a58",
   "metadata": {},
   "outputs": [
    {
     "data": {
      "text/plain": [
       "9"
      ]
     },
     "execution_count": 20,
     "metadata": {},
     "output_type": "execute_result"
    }
   ],
   "source": [
    "def largest_num(l):\n",
    "    j=0\n",
    "    for i in l:\n",
    "        if i>j:\n",
    "            j=i\n",
    "    return j\n",
    "\n",
    "largest_num([1,2,9,8,5,7,6,4])"
   ]
  },
  {
   "cell_type": "markdown",
   "id": "926a7184-c87a-4f82-95d7-aa026729ed65",
   "metadata": {},
   "source": [
    "10. Create a Python program that prints the Fibonacci sequence up to a specified limit using a for\n",
    "loop.\n"
   ]
  },
  {
   "cell_type": "code",
   "execution_count": 22,
   "id": "2f2df258-7ded-4e25-a7e3-bfbc16b4f83f",
   "metadata": {},
   "outputs": [
    {
     "name": "stdout",
     "output_type": "stream",
     "text": [
      "0 1 1 2 3 "
     ]
    }
   ],
   "source": [
    "def fibonacci(n):\n",
    "    x=0\n",
    "    y=1\n",
    "    for i in range(n):\n",
    "        print(x,end=' ')\n",
    "        x,y=y,x+y\n",
    "        \n",
    "fibonacci(5)        "
   ]
  },
  {
   "cell_type": "markdown",
   "id": "01f033dc-a43a-4569-b118-83f6c029df68",
   "metadata": {},
   "source": [
    "11. Write a Python program to count the number of vowels in a given string using a for loop.\n"
   ]
  },
  {
   "cell_type": "code",
   "execution_count": 24,
   "id": "e6b0fb82-03da-434e-b152-d46dfa1317c2",
   "metadata": {},
   "outputs": [
    {
     "data": {
      "text/plain": [
       "2"
      ]
     },
     "execution_count": 24,
     "metadata": {},
     "output_type": "execute_result"
    }
   ],
   "source": [
    "vowel=['a','e','i','o','u']\n",
    "def count_vowel(string):\n",
    "    count=0\n",
    "    for char in string.lower():\n",
    "        if char in vowel:\n",
    "            count+=1\n",
    "    return count\n",
    "\n",
    "count_vowel('mayur')"
   ]
  },
  {
   "cell_type": "markdown",
   "id": "10e66699-8e80-4ac4-b697-fcedf5a7714a",
   "metadata": {},
   "source": [
    "12. Create a Python program that generates a multiplication table for a given number using a for\n",
    "loop.\n"
   ]
  },
  {
   "cell_type": "code",
   "execution_count": 25,
   "id": "b23a3060-b0f8-4d39-bb00-6298cf1ca90c",
   "metadata": {},
   "outputs": [
    {
     "name": "stdout",
     "output_type": "stream",
     "text": [
      "5 * 1 = 5\n",
      "5 * 2 = 10\n",
      "5 * 3 = 15\n",
      "5 * 4 = 20\n",
      "5 * 5 = 25\n",
      "5 * 6 = 30\n",
      "5 * 7 = 35\n",
      "5 * 8 = 40\n",
      "5 * 9 = 45\n",
      "5 * 10 = 50\n"
     ]
    }
   ],
   "source": [
    "def mul_table(n):\n",
    "    for i in range(1,11):\n",
    "        mul=i*n\n",
    "        print(f'{n} * {i} = {mul}')\n",
    "        \n",
    "mul_table(5)        "
   ]
  },
  {
   "cell_type": "markdown",
   "id": "b9111f90-8fda-4746-a254-110c1c740d2a",
   "metadata": {},
   "source": [
    "13. Write a Python program to reverse a list using a for loop.\n"
   ]
  },
  {
   "cell_type": "code",
   "execution_count": 26,
   "id": "94618867-1cab-4821-893f-b1ca11f472ba",
   "metadata": {},
   "outputs": [
    {
     "data": {
      "text/plain": [
       "[9, 8, 7, 6, 5, 4, 3, 2, 1]"
      ]
     },
     "execution_count": 26,
     "metadata": {},
     "output_type": "execute_result"
    }
   ],
   "source": [
    "def reverse_lis(l):\n",
    "    l1=[]\n",
    "    for i in l[::-1]:\n",
    "        l1.append(i)\n",
    "    return l1\n",
    "\n",
    "reverse_lis([1,2,3,4,5,6,7,8,9])"
   ]
  },
  {
   "cell_type": "markdown",
   "id": "fb676ad1-754b-4da4-bf3b-5cf6639b5757",
   "metadata": {},
   "source": [
    "14. Write a Python program to find the common elements between two lists using a for loop"
   ]
  },
  {
   "cell_type": "code",
   "execution_count": 28,
   "id": "9a3689ca-a1ee-4d41-b483-3c42591785d3",
   "metadata": {},
   "outputs": [
    {
     "data": {
      "text/plain": [
       "[1, 2, 9, 5]"
      ]
     },
     "execution_count": 28,
     "metadata": {},
     "output_type": "execute_result"
    }
   ],
   "source": [
    "def find_common(l1,l2):\n",
    "    l3=[]\n",
    "    for i in l1:\n",
    "        if i in l2:\n",
    "            l3.append(i)\n",
    "    return l3\n",
    "\n",
    "l1=[1,2,3,7,8,9,4,5]\n",
    "l2=[1,2,5,9,11,15]\n",
    "find_common(l1,l2)"
   ]
  },
  {
   "cell_type": "markdown",
   "id": "cdb020fc-f03f-4b48-a130-686d2b0d0fc8",
   "metadata": {},
   "source": [
    "15. Explain how to use a for loop to iterate through the keys and values of a dictionary in Python.\n"
   ]
  },
  {
   "cell_type": "code",
   "execution_count": 32,
   "id": "52960701-a106-41f5-bd44-4d6f7196e481",
   "metadata": {},
   "outputs": [
    {
     "name": "stdout",
     "output_type": "stream",
     "text": [
      "key = ['name', 'course', 'fee']\n",
      "value = ['pwskills', 'data science', 20000]\n"
     ]
    }
   ],
   "source": [
    "def iterate_dic(d):\n",
    "    keys=[]\n",
    "    values=[]\n",
    "    for item in d.keys():\n",
    "        keys.append(item)\n",
    "    for item in d.values():\n",
    "        values.append(item)\n",
    "    print('key =',keys)\n",
    "    print('value =',values)\n",
    "\n",
    "d={'name':'pwskills','course':'data science','fee':20000}\n",
    "iterate_dic(d)"
   ]
  },
  {
   "cell_type": "markdown",
   "id": "815c0553-dd38-4d73-93f4-0b5b6214ea9d",
   "metadata": {},
   "source": [
    "16. Write a Python program to find the GCD (Greatest Common Divisor) of two numbers using a for\n",
    "loop."
   ]
  },
  {
   "cell_type": "code",
   "execution_count": 36,
   "id": "0ca4aa96-0f6c-4321-b3a4-5c6c894bb4f8",
   "metadata": {},
   "outputs": [
    {
     "data": {
      "text/plain": [
       "6"
      ]
     },
     "execution_count": 36,
     "metadata": {},
     "output_type": "execute_result"
    }
   ],
   "source": [
    "def gcd(a,b):\n",
    "    gcd=1\n",
    "    for i in range(1,min(a,b)+1):\n",
    "        if a%i==0 and b%i==0:\n",
    "            gcd=i\n",
    "    return gcd\n",
    "\n",
    "gcd(18,24)"
   ]
  },
  {
   "cell_type": "markdown",
   "id": "5831880c-9c8c-4916-92bb-bf422ad2bb1e",
   "metadata": {},
   "source": [
    "17. Create a Python program that checks if a string is a palindrome using a for loop."
   ]
  },
  {
   "cell_type": "code",
   "execution_count": 41,
   "id": "72093129-a8c2-45d8-80f5-f8865b3c82a5",
   "metadata": {},
   "outputs": [
    {
     "name": "stdout",
     "output_type": "stream",
     "text": [
      "this string is palindrome\n"
     ]
    }
   ],
   "source": [
    "def palindrome(string):\n",
    "    str1=''\n",
    "    for char in string:\n",
    "        str1=char+str1\n",
    "    if string==str1:\n",
    "        print('this string is palindrome')\n",
    "    else:\n",
    "        print('this string is not palindrome')\n",
    "                \n",
    "palindrome('mayuruyam')"
   ]
  },
  {
   "cell_type": "markdown",
   "id": "ff20bba1-243e-42da-97ef-fc2af7e43fac",
   "metadata": {},
   "source": [
    "18. Write a Python program to remove duplicates from a list using a for loop.\n"
   ]
  },
  {
   "cell_type": "code",
   "execution_count": 42,
   "id": "28e3dacb-0c93-41f0-bb3a-f04ff6efcdcc",
   "metadata": {},
   "outputs": [
    {
     "data": {
      "text/plain": [
       "[1, 2, 3, 4, 5, 6, 8, 9]"
      ]
     },
     "execution_count": 42,
     "metadata": {},
     "output_type": "execute_result"
    }
   ],
   "source": [
    "def remove_dup(l):\n",
    "    l1=[]\n",
    "    for i in l:\n",
    "        if i not in l1:\n",
    "            l1.append(i)\n",
    "    return l1\n",
    "\n",
    "remove_dup([1,1,2,3,4,4,5,6,4,8,9])"
   ]
  },
  {
   "cell_type": "markdown",
   "id": "6112f8ca-ee74-44c2-9444-40197bfdb127",
   "metadata": {},
   "source": [
    "19. Create a Python program that counts the number of words in a sentence using a for loop."
   ]
  },
  {
   "cell_type": "code",
   "execution_count": 44,
   "id": "9f3dd541-91e4-4e15-ae07-7b51a8fc9826",
   "metadata": {},
   "outputs": [
    {
     "data": {
      "text/plain": [
       "6"
      ]
     },
     "execution_count": 44,
     "metadata": {},
     "output_type": "execute_result"
    }
   ],
   "source": [
    "def count_word(string):\n",
    "    s1=string.split(' ')\n",
    "    count=0\n",
    "    for char in s1:\n",
    "        count+=1\n",
    "        \n",
    "    return count\n",
    "\n",
    "count_word('this is a data science course')"
   ]
  },
  {
   "cell_type": "markdown",
   "id": "68504c74-262e-48b0-867c-5401100841d9",
   "metadata": {},
   "source": [
    "20. Write a Python program to find the sum of all odd numbers from 1 to 50 using a for loop."
   ]
  },
  {
   "cell_type": "code",
   "execution_count": 45,
   "id": "3a646fb2-be2c-4211-9b74-0af64d39f183",
   "metadata": {},
   "outputs": [
    {
     "name": "stdout",
     "output_type": "stream",
     "text": [
      "625\n"
     ]
    }
   ],
   "source": [
    "sum_num=0\n",
    "for i in range(1,51):\n",
    "    if i%2!=0:\n",
    "        sum_num+=i\n",
    "print(sum_num)"
   ]
  },
  {
   "cell_type": "markdown",
   "id": "3bb0ad08-827a-4681-9a2c-7c57a072d88e",
   "metadata": {},
   "source": [
    "21. Write a Python program that checks if a given year is a leap year using a for loop."
   ]
  },
  {
   "cell_type": "code",
   "execution_count": 48,
   "id": "dec236cd-10df-407a-afee-ebc3d456465f",
   "metadata": {},
   "outputs": [
    {
     "data": {
      "text/plain": [
       "False"
      ]
     },
     "execution_count": 48,
     "metadata": {},
     "output_type": "execute_result"
    }
   ],
   "source": [
    "def check_year(year):\n",
    "    for i in range(year,year+1):\n",
    "        if (i%4==0 and i%100!=0) or i%400==0:\n",
    "            return True\n",
    "        else:\n",
    "            return False\n",
    "\n",
    "check_year(2021)"
   ]
  },
  {
   "cell_type": "markdown",
   "id": "e3671817-2ffd-43df-ab42-deebd7bacf45",
   "metadata": {},
   "source": [
    "22. Create a Python program that calculates the square root of a number using a for loop"
   ]
  },
  {
   "cell_type": "code",
   "execution_count": 57,
   "id": "19c9ee95-5b68-4dd0-851e-1032054d5cc7",
   "metadata": {},
   "outputs": [
    {
     "data": {
      "text/plain": [
       "5.0"
      ]
     },
     "execution_count": 57,
     "metadata": {},
     "output_type": "execute_result"
    }
   ],
   "source": [
    "def square_root(n,iterations=100):\n",
    "    guess=number\n",
    "    \n",
    "    for _ in range(iterations):\n",
    "        guess=0.5*(guess+number/guess)\n",
    "    return guess\n",
    "\n",
    "square_root(25)"
   ]
  },
  {
   "cell_type": "markdown",
   "id": "b0f5c761-086b-44d4-a5f1-538e895203aa",
   "metadata": {},
   "source": [
    "23. Write a Python program to find the LCM (Least Common Multiple) of two numbers using a for\n",
    "loop."
   ]
  },
  {
   "cell_type": "code",
   "execution_count": 59,
   "id": "8a382f36-c184-4ba9-9cab-218b0c0d57b1",
   "metadata": {},
   "outputs": [
    {
     "data": {
      "text/plain": [
       "80"
      ]
     },
     "execution_count": 59,
     "metadata": {},
     "output_type": "execute_result"
    }
   ],
   "source": [
    "def lcm(a,b):\n",
    "    for i in range(1,a*b):\n",
    "        if i%a==0 and i%b==0:\n",
    "            return i\n",
    "        \n",
    "lcm(16,20)    "
   ]
  },
  {
   "cell_type": "markdown",
   "id": "bb02dd31-7cdd-4134-8d9c-b8edad474623",
   "metadata": {},
   "source": [
    "                                  if-else based question"
   ]
  },
  {
   "cell_type": "markdown",
   "id": "fe4d88c5-616a-41c4-9003-debd2d39e951",
   "metadata": {},
   "source": [
    "1. Write a Python program to check if a number is positive, negative, or zero using an if-else\n",
    "statement."
   ]
  },
  {
   "cell_type": "code",
   "execution_count": 78,
   "id": "f22288ec-2559-49a0-9263-d1a3b7aca436",
   "metadata": {},
   "outputs": [
    {
     "name": "stdout",
     "output_type": "stream",
     "text": [
      "number is positive\n"
     ]
    }
   ],
   "source": [
    "\n",
    "    def check_num(n):\n",
    "        try:\n",
    "            if n==0:\n",
    "                print('number is zero')\n",
    "            elif n>0:\n",
    "                print('number is positive')\n",
    "            else:\n",
    "                print('number is negative')\n",
    "        except Exception as e:\n",
    "            print(e)\n",
    "\n",
    "        \n",
    "check_num(13.6)"
   ]
  },
  {
   "cell_type": "markdown",
   "id": "6dbad63f-df35-47eb-bc40-788fa289906d",
   "metadata": {},
   "source": [
    "2. Create a Python program that checks if a given number is even or odd using an if-else statement.\n"
   ]
  },
  {
   "cell_type": "code",
   "execution_count": 81,
   "id": "086b057b-5ffc-4e24-bd32-584ec666cb66",
   "metadata": {},
   "outputs": [
    {
     "name": "stdout",
     "output_type": "stream",
     "text": [
      "number is even\n"
     ]
    }
   ],
   "source": [
    "def check_num(n):\n",
    "    try:\n",
    "        if n%2==0:\n",
    "            print('number is even')\n",
    "        else:\n",
    "            print('number is odd')\n",
    "    except Exception as e:\n",
    "        print(e)\n",
    "check_num(22)"
   ]
  },
  {
   "cell_type": "markdown",
   "id": "dedfac04-9748-40a5-83ac-54bcc9c88dad",
   "metadata": {},
   "source": [
    "3. How can you use nested if-else statements in Python, and provide an example?"
   ]
  },
  {
   "cell_type": "code",
   "execution_count": 82,
   "id": "a46eb1b9-0350-48a1-b7c8-979fc9044dfc",
   "metadata": {},
   "outputs": [
    {
     "name": "stdout",
     "output_type": "stream",
     "text": [
      "number is positive\n"
     ]
    }
   ],
   "source": [
    "# In nested if-else statement, if-else statement is used inside a another if-else statement.\n",
    "# Example of checking a number is zero,positive or a negative.\n",
    "\n",
    "def check_num(n):\n",
    "        try:\n",
    "            if n>=0:\n",
    "                if n==0:\n",
    "                    print('number is zero')\n",
    "                else:\n",
    "                    print('number is positive')\n",
    "            else:\n",
    "                print('number is negative')\n",
    "        except Exception as e:\n",
    "            print(e)\n",
    "\n",
    "check_num(24)"
   ]
  },
  {
   "cell_type": "markdown",
   "id": "0bb027f2-0d46-4c1a-9211-c0b2ec34c5f2",
   "metadata": {},
   "source": [
    "4. Write a Python program to determine the largest of three numbers using if-else."
   ]
  },
  {
   "cell_type": "code",
   "execution_count": 88,
   "id": "6ba53f68-ef58-44d8-981d-f68616d9178f",
   "metadata": {},
   "outputs": [
    {
     "name": "stdout",
     "output_type": "stream",
     "text": [
      "50 is largest among three numbers\n"
     ]
    }
   ],
   "source": [
    "def largest_num(a,b,c):\n",
    "    try:\n",
    "        if a>c or b>c:\n",
    "            if a>b:\n",
    "                print(f'{a} is largest among three numbers')\n",
    "            else:\n",
    "                print(f'{b} is largest among three numbers')\n",
    "        else:\n",
    "            print(f'{c} is largest among three numbers')\n",
    "    except Exception as e:\n",
    "        print(e)\n",
    "\n",
    "largest_num(10,30,50)"
   ]
  },
  {
   "cell_type": "markdown",
   "id": "f406906b-7a39-408f-a823-aa2ff150cd04",
   "metadata": {},
   "source": [
    "5. Write a Python program that calculates the absolute value of a number using if-else."
   ]
  },
  {
   "cell_type": "code",
   "execution_count": 1,
   "id": "15dc8b0c-9f00-495b-9db3-2da0a71f4505",
   "metadata": {},
   "outputs": [
    {
     "data": {
      "text/plain": [
       "25"
      ]
     },
     "execution_count": 1,
     "metadata": {},
     "output_type": "execute_result"
    }
   ],
   "source": [
    "def find_absolute(n):\n",
    "    try:\n",
    "        if n>=0:\n",
    "            return n\n",
    "        else:\n",
    "            return -n\n",
    "    except Exception as e:\n",
    "        print(e)\n",
    "\n",
    "find_absolute(-25)"
   ]
  },
  {
   "cell_type": "markdown",
   "id": "ef2598f6-77a2-4a07-8a7e-7fd6acc48b47",
   "metadata": {},
   "source": [
    "6. Create a Python program that checks if a given character is a vowel or consonant using if-else.\n"
   ]
  },
  {
   "cell_type": "code",
   "execution_count": 7,
   "id": "7e4f0285-a033-4d62-8b90-8e47ac36082f",
   "metadata": {},
   "outputs": [
    {
     "name": "stdin",
     "output_type": "stream",
     "text": [
      "enter a character v\n"
     ]
    },
    {
     "data": {
      "text/plain": [
       "'given character is not vowel'"
      ]
     },
     "execution_count": 7,
     "metadata": {},
     "output_type": "execute_result"
    }
   ],
   "source": [
    "vowel=['a','e','i','o','u']\n",
    "def check_char():\n",
    "    try:\n",
    "        s=input('enter a character')\n",
    "        if s.lower() in vowel:\n",
    "            return 'given character is vowel'\n",
    "        else:\n",
    "            return 'given character is not vowel'\n",
    "    except Exception as e:\n",
    "        print(e)\n",
    "check_char()"
   ]
  },
  {
   "cell_type": "markdown",
   "id": "dde059c3-9d71-4a85-b200-e1c6d551c78a",
   "metadata": {},
   "source": [
    "7. Write a Python program to determine if a user is eligible to vote based on their age using if-else."
   ]
  },
  {
   "cell_type": "code",
   "execution_count": 9,
   "id": "f1f62b64-3a8c-48c2-9240-bc5c0c7a1507",
   "metadata": {},
   "outputs": [
    {
     "name": "stdin",
     "output_type": "stream",
     "text": [
      "enter your age 20\n"
     ]
    },
    {
     "data": {
      "text/plain": [
       "'you are eligible to vote'"
      ]
     },
     "execution_count": 9,
     "metadata": {},
     "output_type": "execute_result"
    }
   ],
   "source": [
    "def eligible():\n",
    "    try:\n",
    "        age=int(input('enter your age'))\n",
    "        if age<=18:\n",
    "            return 'you are not eligiblle to vote'\n",
    "        else:\n",
    "            return 'you are eligible to vote'\n",
    "    except Exception as e:\n",
    "        print(e)\n",
    "eligible()"
   ]
  },
  {
   "cell_type": "markdown",
   "id": "a624b411-671c-4797-ac32-9944e60c9432",
   "metadata": {},
   "source": [
    "8. Create a Python program that calculates the discount amount based on the purchase amount\n",
    "using if-else"
   ]
  },
  {
   "cell_type": "code",
   "execution_count": 15,
   "id": "af8808f5-f668-48c9-a910-5e6e3d967fa4",
   "metadata": {},
   "outputs": [
    {
     "name": "stdin",
     "output_type": "stream",
     "text": [
      "enter your total purchase amount 5000\n"
     ]
    },
    {
     "name": "stdout",
     "output_type": "stream",
     "text": [
      "discount amount=1000\n"
     ]
    }
   ],
   "source": [
    "def discount_amount():\n",
    "    try:\n",
    "        purchase_amount=int(input('enter your total purchase amount'))\n",
    "        if purchase_amount<1000:\n",
    "            print('discount amount=0')\n",
    "        elif purchase_amount<3000:\n",
    "            print('discount amount=500')\n",
    "        else:\n",
    "            print('discount amount=1000')\n",
    "            \n",
    "    except Exception as e:\n",
    "        print(e)\n",
    "discount_amount()"
   ]
  },
  {
   "cell_type": "markdown",
   "id": "51000c23-0a6b-49d7-92f0-35502935408b",
   "metadata": {},
   "source": [
    "9. Write a Python program to check if a number is within a specified range using if-else.\n"
   ]
  },
  {
   "cell_type": "code",
   "execution_count": 16,
   "id": "f04e87ae-3d38-4666-bffd-449cbb9a8c59",
   "metadata": {},
   "outputs": [
    {
     "data": {
      "text/plain": [
       "True"
      ]
     },
     "execution_count": 16,
     "metadata": {},
     "output_type": "execute_result"
    }
   ],
   "source": [
    "def check_num(a,b,number):\n",
    "    try:\n",
    "        if number in range(a+1,b):\n",
    "            return True\n",
    "        else:\n",
    "            return False\n",
    "    except Exception as e:\n",
    "        print(e)\n",
    "check_num(1,45,32)"
   ]
  },
  {
   "cell_type": "markdown",
   "id": "26a8ce96-6140-4941-bf75-b403d2d5032e",
   "metadata": {},
   "source": [
    "10. Create a Python program that determines the grade of a student based on their score using\n",
    "if-else"
   ]
  },
  {
   "cell_type": "code",
   "execution_count": 19,
   "id": "23584eca-6bad-457f-858a-510df9c7e652",
   "metadata": {},
   "outputs": [
    {
     "name": "stdout",
     "output_type": "stream",
     "text": [
      "your grade is A\n"
     ]
    }
   ],
   "source": [
    "def grade(score):\n",
    "    try:\n",
    "        if 0<=score<33:\n",
    "            print('your grade is F')\n",
    "        elif 33<=score<50:\n",
    "            print('your grade is c')\n",
    "        elif 50<=score<80:\n",
    "            print('your grade is B')\n",
    "        elif score<=100:\n",
    "            print('your grade is A')\n",
    "    except Exception as e:\n",
    "        print(e)\n",
    "\n",
    "grade(91)"
   ]
  },
  {
   "cell_type": "markdown",
   "id": "5473cc60-39f5-48cb-b564-d0fe5a34997e",
   "metadata": {},
   "source": [
    "11. Write a Python program to check if a string is empty or not using if-else.\n"
   ]
  },
  {
   "cell_type": "code",
   "execution_count": 24,
   "id": "6638756f-c4bb-43fc-9b23-ac177c809743",
   "metadata": {},
   "outputs": [
    {
     "data": {
      "text/plain": [
       "'string is not empty'"
      ]
     },
     "execution_count": 24,
     "metadata": {},
     "output_type": "execute_result"
    }
   ],
   "source": [
    "def check_string(s):\n",
    "    try:\n",
    "        if s=='':\n",
    "            return 'string is empty'\n",
    "        else:\n",
    "            return 'string is not empty'\n",
    "    except Exception as e:\n",
    "        print(e)\n",
    "\n",
    "check_string('mayur')"
   ]
  },
  {
   "cell_type": "markdown",
   "id": "f25e2148-333f-410e-835a-2b7b4e6d7213",
   "metadata": {},
   "source": [
    "12. Create a Python program that identifies the type of a triangle (e.g., equilateral, isosceles, or\n",
    "scalene) based on input values using if-else.\n"
   ]
  },
  {
   "cell_type": "code",
   "execution_count": 25,
   "id": "d30396dd-d741-4b4c-9231-62f88cbe030c",
   "metadata": {},
   "outputs": [
    {
     "name": "stdin",
     "output_type": "stream",
     "text": [
      "enter triangle side 1 = 3\n",
      "enter triangle side 2 = 4\n",
      "enter triangle side 3 = 5\n"
     ]
    },
    {
     "name": "stdout",
     "output_type": "stream",
     "text": [
      "it is scalene triangle\n"
     ]
    }
   ],
   "source": [
    "def type_of_triangle():\n",
    "    try:\n",
    "        triangle_side1=int(input('enter triangle side 1 ='))\n",
    "        triangle_side2=int(input('enter triangle side 2 ='))\n",
    "        triangle_side3=int(input('enter triangle side 3 ='))\n",
    "        if triangle_side1==triangle_side2 or triangle_side1==triangle_side3 or triangle_side2==triangle_side3:\n",
    "            if triangle_side2==triangle_side3==triangle_side1:\n",
    "                print('it is a equilateral triangle')\n",
    "            else:\n",
    "                print('it is a isosceles triangle')\n",
    "        else:\n",
    "            print('it is scalene triangle')\n",
    "    except Exception as e:\n",
    "        print(e)\n",
    "type_of_triangle()"
   ]
  },
  {
   "cell_type": "markdown",
   "id": "4898eb43-6cf9-4c4d-b2f9-de442180dac9",
   "metadata": {},
   "source": [
    "13. Write a Python program to determine the day of the week based on a user-provided number\n",
    "using if-else."
   ]
  },
  {
   "cell_type": "code",
   "execution_count": 36,
   "id": "704fbe98-62da-4f06-96f5-e8d5dbc58fc3",
   "metadata": {},
   "outputs": [
    {
     "name": "stdin",
     "output_type": "stream",
     "text": [
      "enter a number 6\n"
     ]
    },
    {
     "name": "stdout",
     "output_type": "stream",
     "text": [
      "saturday\n"
     ]
    }
   ],
   "source": [
    "def day_of_week():\n",
    "    try:\n",
    "        number=int(input('enter a number'))\n",
    "        day=['monday','tuesday','wednesday','thursday','friday','saturday','sunday']\n",
    "        for i in range(8):\n",
    "            if i==number:\n",
    "                print(day[i-1])\n",
    "    except Exception as e:\n",
    "        print(e)\n",
    "\n",
    "day_of_week()"
   ]
  },
  {
   "cell_type": "markdown",
   "id": "957916f0-be32-478e-bc60-3178da8c0c1e",
   "metadata": {},
   "source": [
    "14. Create a Python program that checks if a given year is a leap year using both if-else and a\n",
    "function."
   ]
  },
  {
   "cell_type": "code",
   "execution_count": 38,
   "id": "7d442e0e-afc7-42ff-987a-4ffe2687d902",
   "metadata": {},
   "outputs": [
    {
     "data": {
      "text/plain": [
       "'this is a leap year'"
      ]
     },
     "execution_count": 38,
     "metadata": {},
     "output_type": "execute_result"
    }
   ],
   "source": [
    "def check_year(year):\n",
    "    try:\n",
    "        if (year%4==0 and year%100!=0) or year%400==0:\n",
    "            return 'this is a leap year'\n",
    "        else:\n",
    "            return 'this is not a leap year'\n",
    "    except Exception as e:\n",
    "        print(e)\n",
    "        \n",
    "check_year(2020)"
   ]
  },
  {
   "cell_type": "markdown",
   "id": "cbaceacf-fb5c-40e9-b411-d450a2bf0618",
   "metadata": {},
   "source": [
    "15. How do you use the \"assert\" statement in Python to add debugging checks within if-else blocks?"
   ]
  },
  {
   "cell_type": "code",
   "execution_count": 40,
   "id": "bee48bff-5f06-4b68-9896-8df5f7c7f452",
   "metadata": {},
   "outputs": [
    {
     "ename": "AssertionError",
     "evalue": "Division by zero is not allowed",
     "output_type": "error",
     "traceback": [
      "\u001b[0;31m---------------------------------------------------------------------------\u001b[0m",
      "\u001b[0;31mAssertionError\u001b[0m                            Traceback (most recent call last)",
      "Cell \u001b[0;32mIn[40], line 5\u001b[0m\n\u001b[1;32m      2\u001b[0m     \u001b[38;5;28;01massert\u001b[39;00m b \u001b[38;5;241m!=\u001b[39m \u001b[38;5;241m0\u001b[39m, \u001b[38;5;124m\"\u001b[39m\u001b[38;5;124mDivision by zero is not allowed\u001b[39m\u001b[38;5;124m\"\u001b[39m\n\u001b[1;32m      3\u001b[0m     \u001b[38;5;28;01mreturn\u001b[39;00m a \u001b[38;5;241m/\u001b[39m b\n\u001b[0;32m----> 5\u001b[0m \u001b[43mdivide\u001b[49m\u001b[43m(\u001b[49m\u001b[38;5;241;43m10\u001b[39;49m\u001b[43m,\u001b[49m\u001b[38;5;241;43m0\u001b[39;49m\u001b[43m)\u001b[49m\n",
      "Cell \u001b[0;32mIn[40], line 2\u001b[0m, in \u001b[0;36mdivide\u001b[0;34m(a, b)\u001b[0m\n\u001b[1;32m      1\u001b[0m \u001b[38;5;28;01mdef\u001b[39;00m \u001b[38;5;21mdivide\u001b[39m(a, b):\n\u001b[0;32m----> 2\u001b[0m     \u001b[38;5;28;01massert\u001b[39;00m b \u001b[38;5;241m!=\u001b[39m \u001b[38;5;241m0\u001b[39m, \u001b[38;5;124m\"\u001b[39m\u001b[38;5;124mDivision by zero is not allowed\u001b[39m\u001b[38;5;124m\"\u001b[39m\n\u001b[1;32m      3\u001b[0m     \u001b[38;5;28;01mreturn\u001b[39;00m a \u001b[38;5;241m/\u001b[39m b\n",
      "\u001b[0;31mAssertionError\u001b[0m: Division by zero is not allowed"
     ]
    }
   ],
   "source": [
    "# assert condition,message\n",
    "def divide(a, b):\n",
    "    assert b != 0, \"Division by zero is not allowed\"\n",
    "    return a / b\n",
    "\n",
    "divide(10,0)"
   ]
  },
  {
   "cell_type": "markdown",
   "id": "5d6fe7d3-085f-4b9f-a1f7-8f200e695f27",
   "metadata": {},
   "source": [
    "16. Create a Python program that determines the eligibility of a person for a senior citizen discount\n",
    "based on age using if-else"
   ]
  },
  {
   "cell_type": "code",
   "execution_count": 41,
   "id": "9536cdda-4be1-48d9-a414-21ba946af29a",
   "metadata": {},
   "outputs": [
    {
     "name": "stdin",
     "output_type": "stream",
     "text": [
      "enter your age 32\n"
     ]
    },
    {
     "name": "stdout",
     "output_type": "stream",
     "text": [
      "you are not eligible for a discount\n"
     ]
    }
   ],
   "source": [
    "try:\n",
    "    age=int(input('enter your age'))\n",
    "    if age>=65:\n",
    "        print('you are eligible for a discount')\n",
    "    else:\n",
    "        print('you are not eligible for a discount')\n",
    "except Exception as e:\n",
    "    print(e)"
   ]
  },
  {
   "cell_type": "markdown",
   "id": "38df6895-5cbd-41a3-9f16-4bcb03bec4c3",
   "metadata": {},
   "source": [
    "17. Write a Python program to categorize a given character as uppercase, lowercase, or neither\n",
    "using if-else.\n"
   ]
  },
  {
   "cell_type": "code",
   "execution_count": 46,
   "id": "dc18fecd-d597-411e-8139-a706af6a3cf1",
   "metadata": {},
   "outputs": [
    {
     "name": "stdout",
     "output_type": "stream",
     "text": [
      "character is in lowercase\n"
     ]
    }
   ],
   "source": [
    "def check_char(char):\n",
    "    try:\n",
    "        if char.islower():\n",
    "            print('character is in lowercase')\n",
    "        elif char.isupper():\n",
    "            print('character is in uppercase')\n",
    "        else:\n",
    "            print('it is neither lowercase nor uppercase')\n",
    "    except Exception as e:\n",
    "        print(e)\n",
    "check_char('m')  "
   ]
  },
  {
   "cell_type": "markdown",
   "id": "2491237b-4b1b-4be1-b4be-bb06b73e7773",
   "metadata": {},
   "source": [
    "18. Write a Python program to determine the roots of a quadratic equation using if-else.\n"
   ]
  },
  {
   "cell_type": "code",
   "execution_count": 47,
   "id": "c38f6a5a-af69-4f44-82ff-917d5f476d57",
   "metadata": {},
   "outputs": [
    {
     "name": "stdin",
     "output_type": "stream",
     "text": [
      "enter the coefficient of x^2 = 5\n",
      "enter the coefficient of x = 2\n",
      "enter the constant = 4\n"
     ]
    },
    {
     "name": "stdout",
     "output_type": "stream",
     "text": [
      "your roots are real and imaginary: -5.0 + i 21.79449471770337      -5.0 - i 21.79449471770337\n"
     ]
    }
   ],
   "source": [
    "from math import sqrt\n",
    "try:\n",
    "    a=int(input('enter the coefficient of x^2 ='))\n",
    "    b=int(input('enter the coefficient of x ='))\n",
    "    c=int(input('enter the constant ='))\n",
    "    d=b**2-4*a*c\n",
    "\n",
    "    if d>0:\n",
    "        print('your roots are real and distinct =',(-b+sqrt(d))/2*a,(-b-sqrt(d))/2*a)\n",
    "    elif d==0:\n",
    "        print('your roots are real and repeated =',-b/2*a,-b/2*a)\n",
    "    else:\n",
    "        print('your roots are real and imaginary:',-b/2*a,'+','i',sqrt(-d)/2*a,'    ',-b/2*a,'-','i',sqrt(-d)/2*a)\n",
    "except Exception as e:\n",
    "    print(e)"
   ]
  },
  {
   "cell_type": "markdown",
   "id": "62bd851f-a2a7-4bd5-be3e-cc9737462b0c",
   "metadata": {},
   "source": [
    "19. Create a Python program that checks if a given year is a century year or not using if-else"
   ]
  },
  {
   "cell_type": "code",
   "execution_count": 49,
   "id": "ca5add03-5a71-4b2c-962f-2013d91f3f38",
   "metadata": {},
   "outputs": [
    {
     "name": "stdout",
     "output_type": "stream",
     "text": [
      "this is a century year\n"
     ]
    }
   ],
   "source": [
    "def century_year(year):\n",
    "    try:\n",
    "        if year%100==0:\n",
    "            print('this is a century year')\n",
    "        else:\n",
    "            print('this is not a century year')\n",
    "    except Exception as e:\n",
    "        print(e)\n",
    "\n",
    "century_year(2000)"
   ]
  },
  {
   "cell_type": "markdown",
   "id": "49416a37-3df3-4914-a4cb-5649776ae923",
   "metadata": {},
   "source": [
    "20. Write a Python program to determine if a given number is a perfect square using if-else."
   ]
  },
  {
   "cell_type": "code",
   "execution_count": 71,
   "id": "f99c4535-623c-4868-a199-92abd69bbd99",
   "metadata": {},
   "outputs": [
    {
     "name": "stdout",
     "output_type": "stream",
     "text": [
      "it is not a perfect square number\n"
     ]
    }
   ],
   "source": [
    "from math import sqrt\n",
    "def perfect_square(n):\n",
    "    try:\n",
    "        a=sqrt(n)\n",
    "        if a.is_integer():\n",
    "            print('it is a perfect square number')\n",
    "        else:\n",
    "            print('it is not a perfect square number')\n",
    "    except Exception as e:\n",
    "        print(e)\n",
    "perfect_square(37)"
   ]
  },
  {
   "cell_type": "markdown",
   "id": "de0ea45f-e8fb-4efa-8c0b-f5b2d063f0b9",
   "metadata": {},
   "source": [
    "21. Explain the purpose of the \"continue\" and \"break\" statements within if-else loops.\n"
   ]
  },
  {
   "cell_type": "code",
   "execution_count": 74,
   "id": "a13f4996-f441-49cd-8fba-b3eda33d7080",
   "metadata": {},
   "outputs": [
    {
     "name": "stdout",
     "output_type": "stream",
     "text": [
      "0 1 2 4 5 6 7 "
     ]
    }
   ],
   "source": [
    "# Continue: in case of continue if condition for continue is satisfied it will bypass that value move to the next value.\n",
    "# Break: in case of break if conditon is satisfied it will break(exit) the loop.\n",
    "# example\n",
    "\n",
    "for i in range(11):\n",
    "    if i==3:\n",
    "        continue\n",
    "    elif i==8:\n",
    "        break\n",
    "    else:\n",
    "        print(i,end=' ')"
   ]
  },
  {
   "cell_type": "markdown",
   "id": "65bc360b-b191-4fd1-8375-bf8cd57de6ba",
   "metadata": {},
   "source": [
    "22. Create a Python program that calculates the BMI (Body Mass Index) of a person based on their\n",
    "weight and height using if-else."
   ]
  },
  {
   "cell_type": "code",
   "execution_count": 7,
   "id": "20daa58f-29be-4544-9d81-7dcc81579b86",
   "metadata": {},
   "outputs": [
    {
     "name": "stdin",
     "output_type": "stream",
     "text": [
      "enter your weight in kg 50\n",
      "enter your height in meter 1.73\n"
     ]
    },
    {
     "name": "stdout",
     "output_type": "stream",
     "text": [
      "your BMI is 16.70620468441979 and your category is Underweight \n"
     ]
    }
   ],
   "source": [
    "def BMI():\n",
    "    try:\n",
    "        weight=float(input('enter your weight in kg'))\n",
    "        height=float(input('enter your height in meter'))\n",
    "        BMI=weight/(height*height)\n",
    "        if bmi < 18.5:\n",
    "            category = \"Underweight\"\n",
    "        elif 18.5 <= bmi < 24.9:\n",
    "            category = \"Normal Weight\"\n",
    "        elif 25 <= bmi < 29.9:\n",
    "            category = \"Overweight\"\n",
    "        else:\n",
    "            category = \"Obese\"\n",
    "        print(f'your BMI is {BMI} and your category is {category} ')\n",
    "    except Exception as e:\n",
    "        print(e)\n",
    "\n",
    "BMI()"
   ]
  },
  {
   "cell_type": "markdown",
   "id": "5f5954c9-edce-49b3-937d-9910c51e57d3",
   "metadata": {},
   "source": [
    "23. How can you use the \"filter()\" function with if-else statements to filter elements from a list?"
   ]
  },
  {
   "cell_type": "code",
   "execution_count": 19,
   "id": "3322bb9e-a252-4880-80e0-3e8e61bb4ee6",
   "metadata": {},
   "outputs": [
    {
     "name": "stdout",
     "output_type": "stream",
     "text": [
      "[2, 4, 6, 8, 10]\n"
     ]
    }
   ],
   "source": [
    "lis=[1,2,3,4,5,6,7,8,9,10]\n",
    "\n",
    "def even_num(x):\n",
    "    if x%2==0:\n",
    "        return True\n",
    "    else:\n",
    "        return False\n",
    "    \n",
    "even_number=list(filter(even_num,lis))\n",
    "print(even_number)"
   ]
  },
  {
   "cell_type": "markdown",
   "id": "0e6cffd9-b2d3-4815-986b-fb1f4ba2f4cf",
   "metadata": {},
   "source": [
    "24. Write a Python program to determine if a given number is prime or not using if-else."
   ]
  },
  {
   "cell_type": "code",
   "execution_count": 40,
   "id": "a796cf27-aeba-44cf-9848-1318cdef3ea8",
   "metadata": {},
   "outputs": [
    {
     "data": {
      "text/plain": [
       "False"
      ]
     },
     "execution_count": 40,
     "metadata": {},
     "output_type": "execute_result"
    }
   ],
   "source": [
    "def prime(n):\n",
    "    try:\n",
    "        if n<=1:\n",
    "            return False\n",
    "        elif n==2:\n",
    "            return True\n",
    "        elif n%2==0:\n",
    "            return False\n",
    "        for i in range(3, int(n**0.5) + 1, 2):\n",
    "            if n % i == 0:\n",
    "                return False\n",
    "        return True\n",
    "    except Exception as e:\n",
    "        print(e)\n",
    "        \n",
    "prime(22)"
   ]
  },
  {
   "cell_type": "markdown",
   "id": "ef925739-8e01-4ef4-b836-d0fa8b9c43a2",
   "metadata": {},
   "source": [
    "                                     Map Based Question"
   ]
  },
  {
   "cell_type": "markdown",
   "id": "9491eb6f-5ae0-44d4-a462-cdbdcf2c30df",
   "metadata": {},
   "source": [
    "1. Explain the purpose of the `map()` function in Python and provide an example of how it can be\n",
    "used to apply a function to each element of an iterable."
   ]
  },
  {
   "cell_type": "code",
   "execution_count": 43,
   "id": "5256f3e0-a5c9-4ffc-9d7b-f58a447a9212",
   "metadata": {},
   "outputs": [
    {
     "name": "stdout",
     "output_type": "stream",
     "text": [
      "[2, 3, 4, 5, 6]\n"
     ]
    }
   ],
   "source": [
    "\"\"\"\n",
    "The map function is used to apply a given function to every item in an iterable (e.g., a list, array, or other data \n",
    "structure) and return a new iterable containing the results.\n",
    "\"\"\"\n",
    "# example of map\n",
    "list1=[1,2,3,4,5]\n",
    "output=list(map(lambda a:a+1,list1))  # here we add 1 to every value in list1 by using map function\n",
    "print(output)"
   ]
  },
  {
   "cell_type": "markdown",
   "id": "8cf24279-4e13-4df7-8d9c-648eae852e0c",
   "metadata": {},
   "source": [
    "2. Write a Python program that uses the `map()` function to square each element of a list of\n",
    "numbers"
   ]
  },
  {
   "cell_type": "code",
   "execution_count": 44,
   "id": "fce44a6c-5538-4802-836d-839dbc17f4a1",
   "metadata": {},
   "outputs": [
    {
     "name": "stdout",
     "output_type": "stream",
     "text": [
      "[1, 4, 9, 16, 25]\n"
     ]
    }
   ],
   "source": [
    "list1=[1,2,3,4,5]\n",
    "output=list(map(lambda a:a*a,list1))\n",
    "print(output)"
   ]
  },
  {
   "cell_type": "markdown",
   "id": "7aca48bf-4fef-48ae-9215-21641dfb9a78",
   "metadata": {},
   "source": [
    "3. How does the `map()` function differ from a list comprehension in Python, and when would you\n",
    "choose one over the other?\n"
   ]
  },
  {
   "cell_type": "markdown",
   "id": "3722b8c7-50e2-4851-a86d-d67630e77361",
   "metadata": {},
   "source": [
    "'''\n",
    "1.  You often need to convert the map object to a list or another data structure to see the results explicitly.\n",
    "    while in list comprehension output is alredy in list form.\n",
    "2.  You can use map() when you already have a function that you want to apply to each element, and you want to avoid writing \n",
    "    a for loop.\n",
    "    List comprehensions are better suited when the transformation is simple and can be expressed as a one-liner without the \n",
    "    need for an explicit function definition.\n",
    "3.  If you have a more complex transformation that requires a multi-line function or if you need to apply different functions \n",
    "    to different elements, map() may be more appropriate.\n",
    "    For simple one-liner transformations, list comprehensions are generally more concise and readable.\n",
    "\n",
    "choose map() when you already have a function and want to apply it to an iterable, and when you're dealing with large datasets\n",
    "where lazy evaluation is beneficial. List comprehensions are typically preferred for simpler, more direct transformations and\n",
    "when readability is a priority\n",
    "'''"
   ]
  },
  {
   "cell_type": "markdown",
   "id": "4363d2b2-34f2-4e00-bdbb-4b631db11448",
   "metadata": {},
   "source": [
    "4. Create a Python program that uses the `map()` function to convert a list of names to uppercase."
   ]
  },
  {
   "cell_type": "code",
   "execution_count": 46,
   "id": "adc471ab-9c90-408b-97c9-a1361fd0ae85",
   "metadata": {},
   "outputs": [
    {
     "name": "stdout",
     "output_type": "stream",
     "text": [
      "['APPLE', 'BANANA', 'PINEPLE', 'GUAVAVA', 'CHERRY']\n"
     ]
    }
   ],
   "source": [
    "lis=['apple','banana','pineple','guavava','cherry']\n",
    "output=list(map(lambda char:char.upper(),lis))\n",
    "print(output)"
   ]
  },
  {
   "cell_type": "markdown",
   "id": "75332e8c-9a0e-4eda-8694-1f5bb5eae901",
   "metadata": {},
   "source": [
    "5. Write a Python program that uses the `map()` function to calculate the length of each word in a\n",
    "list of strings."
   ]
  },
  {
   "cell_type": "code",
   "execution_count": 47,
   "id": "160f88ca-a9e8-4b73-bc6f-1cd413cf2963",
   "metadata": {},
   "outputs": [
    {
     "name": "stdout",
     "output_type": "stream",
     "text": [
      "[5, 6, 7, 7, 6]\n"
     ]
    }
   ],
   "source": [
    "lis=['apple','banana','pineple','guavava','cherry']\n",
    "output=list(map(lambda word:len(word),lis))\n",
    "print(output)"
   ]
  },
  {
   "cell_type": "markdown",
   "id": "3a6d8c60-71d5-4a33-8c58-c20ec42443a3",
   "metadata": {},
   "source": [
    "6. How can you use the `map()` function to apply a custom function to elements of multiple lists\n",
    "simultaneously in Python?"
   ]
  },
  {
   "cell_type": "code",
   "execution_count": 49,
   "id": "3e8215fb-d034-4974-a32c-c6c78c2c12dd",
   "metadata": {},
   "outputs": [
    {
     "name": "stdout",
     "output_type": "stream",
     "text": [
      "[6, 8, 10, 12]\n"
     ]
    }
   ],
   "source": [
    "def add_elements(a,b):\n",
    "    return a+b\n",
    "\n",
    "list1=[1,2,3,4]\n",
    "list2=[5,6,7,8,9]\n",
    "output=list(map(add_elements,list1,list2))\n",
    "print(output)"
   ]
  },
  {
   "cell_type": "markdown",
   "id": "d8e97e63-34ce-4efe-9971-d31c4d388741",
   "metadata": {},
   "source": [
    "7. Create a Python program that uses `map()` to convert a list of temperatures from Celsius to\n",
    "Fahrenheit."
   ]
  },
  {
   "cell_type": "code",
   "execution_count": 1,
   "id": "9e6ca2cd-f099-4685-a1a6-2d89407a66f0",
   "metadata": {},
   "outputs": [
    {
     "name": "stdout",
     "output_type": "stream",
     "text": [
      "[95.0, 104.0, 113.0, 116.60000000000001, 122.0]\n"
     ]
    }
   ],
   "source": [
    "def cel_to_fah(c):\n",
    "    return c*(9/5)+32\n",
    "\n",
    "cel_list=[35,40,45,47,50]\n",
    "output=list(map(cel_to_fah,cel_list))\n",
    "print(output)"
   ]
  },
  {
   "cell_type": "markdown",
   "id": "a6bb2bd9-5639-48a0-a6a2-934639cba0b4",
   "metadata": {},
   "source": [
    "8. Write a Python program that uses the `map()` function to round each element of a list of\n",
    "floating-point numbers to the nearest integer."
   ]
  },
  {
   "cell_type": "code",
   "execution_count": 3,
   "id": "abde08e8-8bb4-48c3-99f7-2a620aaaab86",
   "metadata": {},
   "outputs": [
    {
     "name": "stdout",
     "output_type": "stream",
     "text": [
      "[1, 3, 12, 89, 76]\n"
     ]
    }
   ],
   "source": [
    "lis=[1.33,2.6,11.8,89.123,75.6]\n",
    "output=list(map(lambda a:round(a),lis))\n",
    "print(output)"
   ]
  },
  {
   "cell_type": "markdown",
   "id": "55ba7969-b313-496e-a011-2114c8ebfb28",
   "metadata": {},
   "source": [
    "                                          Reduce based question"
   ]
  },
  {
   "cell_type": "markdown",
   "id": "077e9cc3-c769-4ab6-bb2c-7dcfc6894dc6",
   "metadata": {},
   "source": [
    "1. What is the `reduce()` function in Python, and what module should you import to use it? Provide\n",
    "an example of its basic usage."
   ]
  },
  {
   "cell_type": "code",
   "execution_count": 5,
   "id": "e55ba516-6c9a-4006-89c6-6bc11298d2f6",
   "metadata": {},
   "outputs": [
    {
     "data": {
      "text/plain": [
       "120"
      ]
     },
     "execution_count": 5,
     "metadata": {},
     "output_type": "execute_result"
    }
   ],
   "source": [
    "# The reduce function is used to apply a given function to every item in an iterable (e.g., a list, array, or other data \n",
    "# structure) and return a single value by reducing it.\n",
    "# from functools we import reduce to use it example:\n",
    "\n",
    "from functools import reduce\n",
    "lis=[1,2,3,4,5]\n",
    "reduce(lambda a,b:a*b,lis)           # here we multiply all the element of list"
   ]
  },
  {
   "cell_type": "markdown",
   "id": "795ae05d-6a6e-4dc6-9954-50b0614d3cb3",
   "metadata": {},
   "source": [
    "2. Write a Python program that uses the `reduce()` function to find the product of all elements in a\n",
    "list.\n"
   ]
  },
  {
   "cell_type": "code",
   "execution_count": 6,
   "id": "f97fc50f-d51d-4583-b767-264b4fabb89f",
   "metadata": {},
   "outputs": [
    {
     "data": {
      "text/plain": [
       "120"
      ]
     },
     "execution_count": 6,
     "metadata": {},
     "output_type": "execute_result"
    }
   ],
   "source": [
    "from functools import reduce\n",
    "lis=[1,2,3,4,5]\n",
    "reduce(lambda a,b:a*b,lis)  "
   ]
  },
  {
   "cell_type": "markdown",
   "id": "f73087b6-e383-4853-8134-1b73ba2fef27",
   "metadata": {},
   "source": [
    "3. Create a Python program that uses `reduce()` to find the maximum element in a list of numbers.\n"
   ]
  },
  {
   "cell_type": "code",
   "execution_count": 7,
   "id": "13a2b045-7eeb-47ff-bc5b-4cabe10b29ac",
   "metadata": {},
   "outputs": [
    {
     "data": {
      "text/plain": [
       "45"
      ]
     },
     "execution_count": 7,
     "metadata": {},
     "output_type": "execute_result"
    }
   ],
   "source": [
    "lis=[1,5,7,9,12,4,45,38]\n",
    "reduce(lambda a,b:a if a>b else b,lis)"
   ]
  },
  {
   "cell_type": "markdown",
   "id": "f23a72aa-1617-4d25-8067-a225c073c59d",
   "metadata": {},
   "source": [
    "4. How can you use the `reduce()` function to concatenate a list of strings into a single string?"
   ]
  },
  {
   "cell_type": "code",
   "execution_count": 8,
   "id": "3064e85f-2de1-480e-b69d-ca965ef169c4",
   "metadata": {},
   "outputs": [
    {
     "data": {
      "text/plain": [
       "'mayurpwskills'"
      ]
     },
     "execution_count": 8,
     "metadata": {},
     "output_type": "execute_result"
    }
   ],
   "source": [
    "lis=['mayur','pw','skills']\n",
    "reduce(lambda a,b:a+b,lis)"
   ]
  },
  {
   "cell_type": "markdown",
   "id": "29a74ced-80e6-4452-80ca-f3db7aa24ecb",
   "metadata": {},
   "source": [
    "5. Write a Python program that calculates the factorial of a number using the `reduce()` function."
   ]
  },
  {
   "cell_type": "code",
   "execution_count": 11,
   "id": "cc40063b-6cad-4fff-8fb8-6de3110dd705",
   "metadata": {},
   "outputs": [
    {
     "name": "stdin",
     "output_type": "stream",
     "text": [
      "enter a number  5\n"
     ]
    },
    {
     "data": {
      "text/plain": [
       "120"
      ]
     },
     "execution_count": 11,
     "metadata": {},
     "output_type": "execute_result"
    }
   ],
   "source": [
    "n=int(input('enter a number '))\n",
    "reduce(lambda a,b:a*b,range(1,n+1))"
   ]
  },
  {
   "cell_type": "markdown",
   "id": "7407003a-93a7-4bc8-929b-429bb8cc1387",
   "metadata": {},
   "source": [
    "6. Create a Python program that uses `reduce()` to find the GCD (Greatest Common Divisor) of a list\n",
    "of numbers.\n"
   ]
  },
  {
   "cell_type": "code",
   "execution_count": 14,
   "id": "8c103c48-2171-446a-91a7-2ef96b33a7f4",
   "metadata": {},
   "outputs": [
    {
     "data": {
      "text/plain": [
       "4"
      ]
     },
     "execution_count": 14,
     "metadata": {},
     "output_type": "execute_result"
    }
   ],
   "source": [
    "lis=[12,84,36,56]\n",
    "import math\n",
    "reduce(lambda a,b:math.gcd(a,b),lis)"
   ]
  },
  {
   "cell_type": "markdown",
   "id": "9e5f855a-8839-442b-aa11-a9d74ee8efce",
   "metadata": {},
   "source": [
    "7. Write a Python program that uses the `reduce()` function to find the sum of the digits of a given\n",
    "number."
   ]
  },
  {
   "cell_type": "code",
   "execution_count": 22,
   "id": "95ee5638-f4cb-4966-8dbf-8760d74798fa",
   "metadata": {},
   "outputs": [
    {
     "name": "stdin",
     "output_type": "stream",
     "text": [
      "enter a number 12345\n"
     ]
    },
    {
     "data": {
      "text/plain": [
       "15"
      ]
     },
     "execution_count": 22,
     "metadata": {},
     "output_type": "execute_result"
    }
   ],
   "source": [
    "def add_num(x,y):\n",
    "    return int(x)+int(y)\n",
    "number=input('enter a number')\n",
    "\n",
    "reduce(add_num,number)"
   ]
  },
  {
   "cell_type": "markdown",
   "id": "e7a11e8d-a516-4abf-8366-4708ed62711a",
   "metadata": {},
   "source": [
    "                                    filter based problem"
   ]
  },
  {
   "cell_type": "markdown",
   "id": "18926897-6d5a-417e-b54e-98646d8510f3",
   "metadata": {},
   "source": [
    "1. Explain the purpose of the `filter()` function in Python and provide an example of how it can be\n",
    "used to filter elements from an iterable."
   ]
  },
  {
   "cell_type": "code",
   "execution_count": 2,
   "id": "ce168e6a-71fb-49f3-9ccb-3d5a4e2c53a7",
   "metadata": {},
   "outputs": [
    {
     "data": {
      "text/plain": [
       "[2, 4, 6, 8]"
      ]
     },
     "execution_count": 2,
     "metadata": {},
     "output_type": "execute_result"
    }
   ],
   "source": [
    "# filter(): filter function is used to filter every item in iterable as per the condition given and return a output.\n",
    "# example\n",
    "l=[1,2,3,4,5,6,7,8]\n",
    "list(filter(lambda a:a%2==0,l))  # here we filter the list l by condition to get a even number"
   ]
  },
  {
   "cell_type": "markdown",
   "id": "eeb10da8-c1bf-4c0f-af7d-c43ac780e493",
   "metadata": {},
   "source": [
    "2. Write a Python program that uses the `filter()` function to select even numbers from a list of\n",
    "integers.\n"
   ]
  },
  {
   "cell_type": "code",
   "execution_count": 3,
   "id": "15989fc5-2b5a-42f3-95b5-e15343266632",
   "metadata": {},
   "outputs": [
    {
     "data": {
      "text/plain": [
       "[2, 4, 6, 8]"
      ]
     },
     "execution_count": 3,
     "metadata": {},
     "output_type": "execute_result"
    }
   ],
   "source": [
    "l=[1,2,3,4,5,6,7,8]\n",
    "list(filter(lambda a:a%2==0,l)) "
   ]
  },
  {
   "cell_type": "markdown",
   "id": "a47538b9-9374-4c57-9333-23490f6a22e0",
   "metadata": {},
   "source": [
    "3. Create a Python program that uses the `filter()` function to select names that start with a specific\n",
    "letter from a list of strings."
   ]
  },
  {
   "cell_type": "code",
   "execution_count": 5,
   "id": "65fb2538-6bd3-4af5-a295-a9c21bb53f85",
   "metadata": {},
   "outputs": [
    {
     "name": "stdout",
     "output_type": "stream",
     "text": [
      "list of string: ['dsa', 'pw', 'pwskills', 'data science']\n",
      "Names start with p in my list is: ['pw', 'pwskills']\n"
     ]
    }
   ],
   "source": [
    "my_list=['dsa','pw','pwskills','data science']\n",
    "print('list of string:',my_list)\n",
    "\n",
    "output=list(filter(lambda a:a[0]=='p',my_list))\n",
    "print('Names start with p in my list is:',output)"
   ]
  },
  {
   "cell_type": "markdown",
   "id": "1424a244-998a-45dc-b1dc-8e0382170067",
   "metadata": {},
   "source": [
    "4. Write a Python program that uses the `filter()` function to select prime numbers from a list of\n",
    "integers."
   ]
  },
  {
   "cell_type": "code",
   "execution_count": 10,
   "id": "fbcd0d27-0c57-48eb-aee8-693f9698250c",
   "metadata": {},
   "outputs": [
    {
     "name": "stdout",
     "output_type": "stream",
     "text": [
      "prime number in my list are: [2, 3, 5, 7, 11, 13, 17, 19]\n"
     ]
    }
   ],
   "source": [
    "from math import sqrt\n",
    "\n",
    "def is_prime(num):\n",
    "    if num<2:\n",
    "        return False\n",
    "    if num==2:\n",
    "        return True\n",
    "    if num%2==0:\n",
    "        return False\n",
    "    \n",
    "    for i in range(3,int(sqrt(num))+1,2):\n",
    "        if num%i==0:\n",
    "            return False\n",
    "    return True\n",
    "\n",
    "my_list=[1,2,3,4,5,6,7,8,9,10,11,12,13,14,15,16,17,18,19]\n",
    "\n",
    "output=list(filter(is_prime,my_list))\n",
    "print('prime number in my list are:',output)"
   ]
  },
  {
   "cell_type": "markdown",
   "id": "7a6fa156-7fa7-43a7-96ca-cecc0ecc48c4",
   "metadata": {},
   "source": [
    "5. How can you use the `filter()` function to remove None values from a list in Python?"
   ]
  },
  {
   "cell_type": "code",
   "execution_count": 11,
   "id": "b6fb9abb-27a4-4481-9a0d-2b48e3e681e2",
   "metadata": {},
   "outputs": [
    {
     "name": "stdout",
     "output_type": "stream",
     "text": [
      "my list: [1, 2, None, 3, None, 4, 5]\n",
      "my list after removing none value: [1, 2, 3, 4, 5]\n"
     ]
    }
   ],
   "source": [
    "my_list=[1,2,None,3,None,4,5]\n",
    "print('my list:',my_list)\n",
    "\n",
    "output=list(filter(lambda a:a!=None,my_list))\n",
    "print('my list after removing none value:',output)"
   ]
  },
  {
   "cell_type": "markdown",
   "id": "7667cf2f-3655-4535-bebc-7d7f6f816356",
   "metadata": {},
   "source": [
    "6. Create a Python program that uses `filter()` to select words longer than a certain length from a\n",
    "list of strings."
   ]
  },
  {
   "cell_type": "code",
   "execution_count": 12,
   "id": "ecd54412-0af7-471a-97d4-173b87d6d6ad",
   "metadata": {},
   "outputs": [
    {
     "name": "stdout",
     "output_type": "stream",
     "text": [
      "my list: ['pw', 'pwskills', 'dsa', 'data science', 'mayur']\n",
      "words whose length greater than 4 in my list are: ['pwskills', 'data science', 'mayur']\n"
     ]
    }
   ],
   "source": [
    "my_list=['pw','pwskills','dsa','data science','mayur']\n",
    "print('my list:',my_list)\n",
    "\n",
    "output=list(filter(lambda a:len(a)>4,my_list))\n",
    "print('words whose length greater than 4 in my list are:',output)"
   ]
  },
  {
   "cell_type": "markdown",
   "id": "ec745601-1d7b-47dc-822c-59d1401f5349",
   "metadata": {},
   "source": [
    "7. Write a Python program that uses the `filter()` function to select elements greater than a\n",
    "specified threshold from a list of values."
   ]
  },
  {
   "cell_type": "code",
   "execution_count": 13,
   "id": "ad780537-e802-4c1e-b35d-0d3228c3edb1",
   "metadata": {},
   "outputs": [
    {
     "name": "stdout",
     "output_type": "stream",
     "text": [
      "values greather than 10 is [13, 17, 21, 26]\n"
     ]
    }
   ],
   "source": [
    "my_list=[1,5,6,10,13,17,6,21,26,9]\n",
    "threshold=10\n",
    "\n",
    "output=list(filter(lambda a:a>threshold,my_list))\n",
    "print('values greather than',threshold,'is',output)"
   ]
  },
  {
   "cell_type": "markdown",
   "id": "ee413cd3-abd2-425f-a0f5-b62fb6eff136",
   "metadata": {},
   "source": [
    "                                         Recursion Based Problem"
   ]
  },
  {
   "cell_type": "markdown",
   "id": "9578dafc-8cbb-4c66-ba08-f2063995fc7e",
   "metadata": {},
   "source": [
    "1. Explain the concept of recursion in Python. How does it differ from iteration?"
   ]
  },
  {
   "cell_type": "markdown",
   "id": "147c4d53-8fa5-43d8-8f88-fd670b4aff18",
   "metadata": {},
   "source": [
    "Recusion is a programming concept in which function calls itself to solve a task or a problem.\n",
    "\n",
    "Difference in Recursion and iteration:\n",
    "\n",
    "    > In recursion, a function divides a problem into smaller sub-problems and calls itself to solve these sub-problems. \n",
    "    The function continues to call itself until it reaches a base case, at which point it starts returning results to the\n",
    "    previous calls in a stack-like fashion.\n",
    "    \n",
    "    > In iteration, a loop structure, such as a for or while loop, is used to repeatedly execute a set of instructions. \n",
    "    The flow of control is explicit and sequential.\n",
    "    \n",
    "    > Recursion: Recursive function calls are managed using the call stack. Each recursive call pushes a new frame onto \n",
    "    the stack. When a base case is reached, the stack unwinds, and results are returned to the caller.\n",
    "    \n",
    "    > Iteration: Loops use a fixed amount of memory to store loop control variables, and the control flow is managed more\n",
    "    directly without the need for a call stack. Iteration typically consumes less memory than deep recursion."
   ]
  },
  {
   "cell_type": "markdown",
   "id": "64727188-381f-4aee-9035-0b309e9bec18",
   "metadata": {},
   "source": [
    "2. Write a Python program to calculate the factorial of a number using recursion."
   ]
  },
  {
   "cell_type": "code",
   "execution_count": 16,
   "id": "cc9d7bcb-8623-488c-89ba-418e4c441576",
   "metadata": {},
   "outputs": [
    {
     "name": "stdout",
     "output_type": "stream",
     "text": [
      "factorial of number 5 is: 120\n"
     ]
    }
   ],
   "source": [
    "def factorial(n):\n",
    "    if n==0:\n",
    "        return 1\n",
    "    else:\n",
    "        return n*factorial(n-1)\n",
    "\n",
    "print('factorial of number 5 is:',factorial(5))"
   ]
  },
  {
   "cell_type": "markdown",
   "id": "db999ac9-2191-4634-95ce-c9538a02d064",
   "metadata": {},
   "source": [
    "3. Create a recursive Python function to find the nth Fibonacci number"
   ]
  },
  {
   "cell_type": "code",
   "execution_count": 18,
   "id": "bf6cfd45-aa60-4be6-b656-c10fe8246f0e",
   "metadata": {},
   "outputs": [
    {
     "name": "stdout",
     "output_type": "stream",
     "text": [
      "the 10th fibonacci number is: 55\n"
     ]
    }
   ],
   "source": [
    "def fibonacci(n):\n",
    "    if n<=0:\n",
    "        return 0\n",
    "    elif n==1:\n",
    "        return 1\n",
    "    else:\n",
    "        return fibonacci(n-1)+fibonacci(n-2)\n",
    "    \n",
    "print('the 10th fibonacci number is:',fibonacci(10))"
   ]
  },
  {
   "cell_type": "markdown",
   "id": "05f8313c-b0f1-4ba6-befe-51e0ce47e451",
   "metadata": {},
   "source": [
    "4. Write a recursive Python function to calculate the sum of all elements in a list.\n"
   ]
  },
  {
   "cell_type": "code",
   "execution_count": 22,
   "id": "d7bdc538-a415-4eab-9f8d-6e95211e41a0",
   "metadata": {},
   "outputs": [
    {
     "name": "stdout",
     "output_type": "stream",
     "text": [
      "sum of list [1, 2, 3, 4, 5, 6] is = 21\n"
     ]
    }
   ],
   "source": [
    "def sum_list(my_list):\n",
    "    if not my_list:\n",
    "        return 0\n",
    "    else:\n",
    "        return my_list[0]+sum_list(my_list[1:])\n",
    "  \n",
    "my_list=[1,2,3,4,5,6]\n",
    "\n",
    "print(f'sum of list {my_list} is = {sum_list(my_list)}')"
   ]
  },
  {
   "cell_type": "markdown",
   "id": "e857e169-1955-4e5f-be90-bee353867a79",
   "metadata": {},
   "source": [
    "5. How can you prevent a recursive function from running indefinitely, causing a stack overflow\n",
    "error?\n"
   ]
  },
  {
   "cell_type": "code",
   "execution_count": 23,
   "id": "a792b5e5-39b1-4736-bef3-1758360effdc",
   "metadata": {},
   "outputs": [],
   "source": [
    "# To prevent a recursive function from running indefinitelt, causing a stack overflow error always define a one or more\n",
    "#  more than one base case which is a condition where a recursion stops.\n",
    "\n",
    "# Example\n",
    "def fibonacci(n):\n",
    "    if n<=0:         # Base case 1\n",
    "        return 0\n",
    "    elif n==1:       # Base case 2\n",
    "        return 1\n",
    "    else:\n",
    "        return fibonacci(n-1)+fibonacci(n-2)\n",
    "\n",
    "# here we define two base case to stop a recursion and prevent from running infinite times."
   ]
  },
  {
   "cell_type": "markdown",
   "id": "f01408f5-8c4c-4b50-afbe-02a41611e310",
   "metadata": {},
   "source": [
    "6. Create a recursive Python function to find the greatest common divisor (GCD) of two numbers\n",
    "using the Euclidean algorithm"
   ]
  },
  {
   "cell_type": "code",
   "execution_count": 24,
   "id": "4fab95f0-5166-4a8e-ada0-4dc8b85345f7",
   "metadata": {},
   "outputs": [
    {
     "name": "stdout",
     "output_type": "stream",
     "text": [
      "GCD of 48 and 84 is: 12\n"
     ]
    }
   ],
   "source": [
    "def gcd(a,b):\n",
    "    if b==0:          # Base condition\n",
    "        return a\n",
    "    else:\n",
    "        return gcd(b,a%b)\n",
    "    \n",
    "print('GCD of 48 and 84 is:',gcd(48,84))"
   ]
  },
  {
   "cell_type": "markdown",
   "id": "64b4b6e7-91fe-4373-a319-5826e6a88cac",
   "metadata": {},
   "source": [
    "7. Write a recursive Python function to reverse a string.\n"
   ]
  },
  {
   "cell_type": "code",
   "execution_count": 35,
   "id": "a16736bf-bf85-41ea-a73a-e0658416c8d6",
   "metadata": {},
   "outputs": [
    {
     "name": "stdout",
     "output_type": "stream",
     "text": [
      "reverse of string mayur is : ruyam\n"
     ]
    }
   ],
   "source": [
    "def reverse_str(string):\n",
    "    if len(string)<1:\n",
    "        return string\n",
    "    else:\n",
    "        return reverse_str(string[1:])+string[0]\n",
    "    \n",
    "output=reverse_str('mayur')\n",
    "print('reverse of string mayur is :',output)"
   ]
  },
  {
   "cell_type": "markdown",
   "id": "4f03ba8f-1a9a-4a65-8d67-4868d8238ffe",
   "metadata": {},
   "source": [
    "8. Create a recursive Python function to calculate the power of a number (x^n)."
   ]
  },
  {
   "cell_type": "code",
   "execution_count": 41,
   "id": "5fe384e6-dd21-41bf-ab06-0d510680a3bd",
   "metadata": {},
   "outputs": [
    {
     "data": {
      "text/plain": [
       "81"
      ]
     },
     "execution_count": 41,
     "metadata": {},
     "output_type": "execute_result"
    }
   ],
   "source": [
    "def power_number(num,n):\n",
    "    if n==0:\n",
    "        return 1\n",
    "    else:\n",
    "        return num*power_number(num,n-1)\n",
    "\n",
    "power_number(3,4)"
   ]
  },
  {
   "cell_type": "markdown",
   "id": "fe3e4191-22ee-4964-a42e-e389350560ee",
   "metadata": {},
   "source": [
    "9. Write a recursive Python function to find all permutations of a given string."
   ]
  },
  {
   "cell_type": "code",
   "execution_count": 53,
   "id": "afad3939-2df1-494a-a6ea-f8722389531d",
   "metadata": {},
   "outputs": [
    {
     "name": "stdout",
     "output_type": "stream",
     "text": [
      "all permutation of string mayur is: ['DSA', 'DAS', 'SDA', 'SAD', 'ADS', 'ASD']\n"
     ]
    }
   ],
   "source": [
    "def permutations(string):\n",
    "    if len(string)<=1:\n",
    "        return [string]\n",
    "    \n",
    "    all_permutations = []\n",
    "    for i, char in enumerate(string):\n",
    "        rest_of_string = string[:i] + string[i + 1:]\n",
    "        partial_permutations = permutations(rest_of_string)\n",
    "        for perm in partial_permutations:\n",
    "            all_permutations.append(char + perm)\n",
    "\n",
    "    return all_permutations\n",
    "\n",
    "print('all permutation of string mayur is:',permutations('DSA'))"
   ]
  },
  {
   "cell_type": "markdown",
   "id": "9911ec4e-4834-47d6-9826-e1e49921bebc",
   "metadata": {},
   "source": [
    "10. Write a recursive Python function to check if a string is a palindrome."
   ]
  },
  {
   "cell_type": "code",
   "execution_count": 55,
   "id": "1228b691-acab-4f3e-acc1-6372aca9a30e",
   "metadata": {},
   "outputs": [
    {
     "name": "stdout",
     "output_type": "stream",
     "text": [
      "mayuruyam is a palindrome\n"
     ]
    }
   ],
   "source": [
    "def check_string(string):\n",
    "    if len(string)<=1:\n",
    "        return True\n",
    "    else:\n",
    "        if string[0]==string[-1]:\n",
    "            return check_string(string[1:-1])\n",
    "        else:\n",
    "            return False\n",
    "string='mayuruyam'        \n",
    "if check_string(string):\n",
    "    print(f'{string} is a palindrome')\n",
    "else:\n",
    "    print(f'{string} is not a palindrome')"
   ]
  },
  {
   "cell_type": "markdown",
   "id": "2c3b73df-6f6a-4726-b262-4e1e50cb6bed",
   "metadata": {},
   "source": [
    "11. Create a recursive Python function to generate all possible combinations of a list of elements.\n"
   ]
  },
  {
   "cell_type": "code",
   "execution_count": 59,
   "id": "5dc6cbf6-517a-43d3-87ef-ccc6461cd631",
   "metadata": {},
   "outputs": [
    {
     "name": "stdout",
     "output_type": "stream",
     "text": [
      "all the combination of [1, 5, 8] is: [[1, 5, 8], [1, 5], [1, 8], [1], [5, 8], [5], [8], []]\n"
     ]
    }
   ],
   "source": [
    "def generate_combinations(elements):\n",
    "    def generate_combinations_recursive(current_combination,remaining_elements,all_combinations):\n",
    "        if not remaining_elements:\n",
    "            all_combinations.append(current_combination)\n",
    "            return\n",
    "        \n",
    "        include_first=current_combination+[remaining_elements[0]]\n",
    "        generate_combinations_recursive(include_first,remaining_elements[1:],all_combinations)\n",
    "        \n",
    "        exclude_first=current_combination\n",
    "        generate_combinations_recursive(exclude_first,remaining_elements[1:],all_combinations)\n",
    "        \n",
    "    all_combinations=[]\n",
    "    generate_combinations_recursive([],elements,all_combinations)\n",
    "    return all_combinations\n",
    "\n",
    "my_list=[1,5,8]\n",
    "print(f'all the combination of {my_list} is: {generate_combinations(my_list)}')"
   ]
  },
  {
   "cell_type": "markdown",
   "id": "ba2c5aff-7ccd-472c-ab83-007213b9887a",
   "metadata": {},
   "source": [
    "                                           Basics of function"
   ]
  },
  {
   "cell_type": "markdown",
   "id": "8eed31ae-02f4-4b28-8fd8-360a9b3cbc06",
   "metadata": {},
   "source": [
    "1. What is a function in Python, and why is it used?\n"
   ]
  },
  {
   "cell_type": "markdown",
   "id": "9ee13122-44b3-446c-947a-9a7a3290ed7c",
   "metadata": {},
   "source": [
    "A function is a block of code which only runs when it is called.\n",
    "\n",
    "You can pass data, known as parameters, into a function.\n",
    "\n",
    "A function can return data as a result.\n",
    "\n"
   ]
  },
  {
   "cell_type": "markdown",
   "id": "f0c2cccb-f89d-4851-87f0-83cd7439e3f4",
   "metadata": {},
   "source": [
    "2. How do you define a function in Python? Provide an example."
   ]
  },
  {
   "cell_type": "code",
   "execution_count": 60,
   "id": "57b01b30-32f3-4088-9de6-d069922a3a3c",
   "metadata": {},
   "outputs": [
    {
     "name": "stdout",
     "output_type": "stream",
     "text": [
      "hello pwskills\n"
     ]
    }
   ],
   "source": [
    "# a function is defined using def keyword eg:\n",
    "def function():\n",
    "    print('hello pwskills')\n",
    "function()"
   ]
  },
  {
   "cell_type": "markdown",
   "id": "c9aae392-2833-42a6-804f-56c62f354f1c",
   "metadata": {},
   "source": [
    "3. Explain the difference between a function definition and a function call."
   ]
  },
  {
   "cell_type": "markdown",
   "id": "93dce428-e024-451e-8143-9d1f8fe98dd1",
   "metadata": {},
   "source": [
    "A function definition is a block of code in which passing a data a result can be obtain.\n",
    "\n",
    "function call is known as to use a specific function by a keyword function()"
   ]
  },
  {
   "cell_type": "markdown",
   "id": "2c4170bf-7b08-41ad-a751-bb995d090c33",
   "metadata": {},
   "source": [
    "4. Write a Python program that defines a function to calculate the sum of two numbers and then\n",
    "calls the function.\n"
   ]
  },
  {
   "cell_type": "code",
   "execution_count": 61,
   "id": "8b20d13a-32b5-4b48-b9d6-6ab8eb8b3711",
   "metadata": {},
   "outputs": [
    {
     "data": {
      "text/plain": [
       "15"
      ]
     },
     "execution_count": 61,
     "metadata": {},
     "output_type": "execute_result"
    }
   ],
   "source": [
    "def sum_num(a,b):\n",
    "    return a+b\n",
    "\n",
    "sum_num(10,5)"
   ]
  },
  {
   "cell_type": "markdown",
   "id": "de185900-05f1-462d-a5aa-11677e477206",
   "metadata": {},
   "source": [
    "5. What is a function signature, and what information does it typically include?"
   ]
  },
  {
   "cell_type": "markdown",
   "id": "e5bea6c2-b8c9-43ac-b401-f371f81c50b0",
   "metadata": {},
   "source": [
    "A function signature, also known as a function prototype or function declaration, is a crucial part of defining a function\n",
    "in programming. It specifies the function's essential characteristics, such as its name, return type, and parameters."
   ]
  },
  {
   "cell_type": "markdown",
   "id": "740113d0-634d-43e2-bd7a-e3110f28cd7c",
   "metadata": {},
   "source": [
    "6. Create a Python function that takes two arguments and returns their product."
   ]
  },
  {
   "cell_type": "code",
   "execution_count": 62,
   "id": "56d9d7aa-0410-4bbd-86f2-a267847fe820",
   "metadata": {},
   "outputs": [
    {
     "data": {
      "text/plain": [
       "15"
      ]
     },
     "execution_count": 62,
     "metadata": {},
     "output_type": "execute_result"
    }
   ],
   "source": [
    "def product(a,b):\n",
    "    return a*b\n",
    "\n",
    "product(5,3)"
   ]
  },
  {
   "cell_type": "markdown",
   "id": "eb20c7a9-7548-428d-9d26-a57006e993d8",
   "metadata": {},
   "source": [
    "                              Function Parameters and Arguments:"
   ]
  },
  {
   "cell_type": "markdown",
   "id": "51f60457-6115-4319-aa19-66dba4d33b60",
   "metadata": {},
   "source": [
    "1. Explain the concepts of formal parameters and actual arguments in Python functions."
   ]
  },
  {
   "cell_type": "markdown",
   "id": "23290c13-f837-4a9a-8b75-98284363bedb",
   "metadata": {},
   "source": [
    "A parameter is the variable listed inside the parentheses in the function definition.\n",
    "\n",
    "An argument is the value that is sent to the function when it is called."
   ]
  },
  {
   "cell_type": "markdown",
   "id": "4c5f5a91-2047-436a-ad16-621f2c0b2afe",
   "metadata": {},
   "source": [
    "2. Write a Python program that defines a function with default argument values."
   ]
  },
  {
   "cell_type": "code",
   "execution_count": 2,
   "id": "d53e6cf0-a105-45eb-a954-49e85f94ca3b",
   "metadata": {},
   "outputs": [
    {
     "name": "stdout",
     "output_type": "stream",
     "text": [
      "india\n",
      "australia\n"
     ]
    }
   ],
   "source": [
    "def print_country(country='india'):\n",
    "    print(country)\n",
    "\n",
    "# here india is a default value\n",
    "print_country()\n",
    "print_country('australia')"
   ]
  },
  {
   "cell_type": "markdown",
   "id": "2542e1da-0c61-4cc1-8f88-d713ec83ceb2",
   "metadata": {},
   "source": [
    "3. How do you use keyword arguments in Python function calls? Provide an example"
   ]
  },
  {
   "cell_type": "code",
   "execution_count": 3,
   "id": "2cc6497c-66a6-47ef-87f2-e881f15fb1fc",
   "metadata": {},
   "outputs": [
    {
     "name": "stdout",
     "output_type": "stream",
     "text": [
      "the youngest child is  ram\n"
     ]
    }
   ],
   "source": [
    "# In keyword arguments you can send arguments with the key = value syntax.\n",
    "# This way the order of the arguments does not matter.\n",
    "\n",
    "def function(child1,child2,child3):\n",
    "    print('the youngest child is ',child3)\n",
    "\n",
    "function(child1='raj',child2='ravi',child3='ram')"
   ]
  },
  {
   "cell_type": "markdown",
   "id": "6b7c7ae6-e503-45e7-bb6b-d0506bb54ecb",
   "metadata": {},
   "source": [
    "4. Create a Python function that accepts a variable number of arguments and calculates their sum."
   ]
  },
  {
   "cell_type": "code",
   "execution_count": 4,
   "id": "dd2774fd-7cf5-4515-9b14-ac697d2aadec",
   "metadata": {},
   "outputs": [
    {
     "data": {
      "text/plain": [
       "10"
      ]
     },
     "execution_count": 4,
     "metadata": {},
     "output_type": "execute_result"
    }
   ],
   "source": [
    "# by using *args we can pass variable number of arguments\n",
    "\n",
    "def sum_num(*num):\n",
    "    return sum(num)\n",
    "\n",
    "sum_num(1,2,3,4)"
   ]
  },
  {
   "cell_type": "markdown",
   "id": "0117ac11-6d2e-4462-a141-990d6c9ea8d7",
   "metadata": {},
   "source": [
    "5. What is the purpose of the `*args` and `**kwargs` syntax in function parameter lists?"
   ]
  },
  {
   "cell_type": "markdown",
   "id": "5855c672-73fe-41e6-8309-6b1140273f5f",
   "metadata": {},
   "source": [
    "If you do not know how many arguments that will be passed into your function, add a * before the parameter name in the function definition.\n",
    "This way the function will receive a tuple of arguments, and can access the items accordingly:\n",
    "\n",
    "    \n",
    "If you do not know how many keyword arguments that will be passed into your function, add two asterisk: ** before the parameter name in the function definition.\n",
    "This way the function will receive a dictionary of arguments, and can access the items accordingly:"
   ]
  },
  {
   "cell_type": "markdown",
   "id": "37b5530d-1866-49dd-bcc3-c23be7a1b639",
   "metadata": {},
   "source": [
    "                                   Return Values and Scoping:\n"
   ]
  },
  {
   "cell_type": "markdown",
   "id": "d7c531f2-8fb9-4d4a-873f-e8e015c41d8c",
   "metadata": {},
   "source": [
    "1. Describe the role of the `return` statement in Python functions and provide examples"
   ]
  },
  {
   "cell_type": "code",
   "execution_count": 5,
   "id": "6974eb06-ed77-4fad-ade8-af177c2e8f71",
   "metadata": {},
   "outputs": [
    {
     "data": {
      "text/plain": [
       "25"
      ]
     },
     "execution_count": 5,
     "metadata": {},
     "output_type": "execute_result"
    }
   ],
   "source": [
    "# To let a function return a value,we use the return statement:\n",
    "\n",
    "def function(a):\n",
    "    return 5*a\n",
    "\n",
    "function(5)"
   ]
  },
  {
   "cell_type": "markdown",
   "id": "3430e104-e987-4900-aac1-b56ed09386bf",
   "metadata": {},
   "source": [
    "2. Explain the concept of variable scope in Python, including local and global variables."
   ]
  },
  {
   "cell_type": "code",
   "execution_count": 6,
   "id": "c623a119-74fc-40a9-a495-81b8d8d12989",
   "metadata": {},
   "outputs": [
    {
     "name": "stdout",
     "output_type": "stream",
     "text": [
      "my mentor is  sudhanshu kumar\n",
      "my subject is  Data science\n"
     ]
    }
   ],
   "source": [
    "'''Variables are containers for storing data values.\n",
    "   Variables that are created outside of a function (as in all of the examples above) are known as global variables.\n",
    "   Global variables can be used by everyone, both inside of functions and outside.'''\n",
    "\n",
    "#example\n",
    "x='sudhanshu kumar'\n",
    "def function():\n",
    "    print('my mentor is ',x)\n",
    "\n",
    "function()\n",
    "\n",
    "'''\n",
    "If you create a variable with the same name inside a function, this variable will be local, and can only be used inside the\n",
    "function.\n",
    "'''\n",
    "#example\n",
    "y='DSA'\n",
    "\n",
    "def my_function():\n",
    "    y='Data science'\n",
    "    print('my subject is ',y)\n",
    "\n",
    "my_function()"
   ]
  },
  {
   "cell_type": "markdown",
   "id": "68dca717-0f16-4b3b-afab-ed11fe85d018",
   "metadata": {},
   "source": [
    "3. Write a Python program that demonstrates the use of global variables within functions."
   ]
  },
  {
   "cell_type": "code",
   "execution_count": 7,
   "id": "724f09df-472d-4913-bea1-a2d8208e176b",
   "metadata": {},
   "outputs": [
    {
     "name": "stdout",
     "output_type": "stream",
     "text": [
      "my subject is  Data science\n"
     ]
    }
   ],
   "source": [
    "y='DSA'\n",
    "\n",
    "def my_function():\n",
    "    y='Data science'\n",
    "    print('my subject is ',y)\n",
    "my_function()"
   ]
  },
  {
   "cell_type": "markdown",
   "id": "6934d77d-b23b-496e-bef6-fcfa730b35a8",
   "metadata": {},
   "source": [
    "4. Create a Python function that calculates the factorial of a number and returns it.\n"
   ]
  },
  {
   "cell_type": "code",
   "execution_count": 8,
   "id": "97bfe9a8-b492-4ec7-890a-d54dda350e0b",
   "metadata": {},
   "outputs": [
    {
     "data": {
      "text/plain": [
       "120"
      ]
     },
     "execution_count": 8,
     "metadata": {},
     "output_type": "execute_result"
    }
   ],
   "source": [
    "def factorial(n):\n",
    "    if n==0:\n",
    "        return 1\n",
    "    else:\n",
    "        return n*factorial(n-1)\n",
    "    \n",
    "factorial(5)"
   ]
  },
  {
   "cell_type": "markdown",
   "id": "16b4c38e-af34-4d04-b631-d91f841c61a2",
   "metadata": {},
   "source": [
    "5. How can you access variables defined outside a function from within the function?"
   ]
  },
  {
   "cell_type": "code",
   "execution_count": 9,
   "id": "62b1fbc3-70ea-4c07-9294-df8b3d3449c5",
   "metadata": {},
   "outputs": [
    {
     "name": "stdout",
     "output_type": "stream",
     "text": [
      "my name is  mayur\n"
     ]
    }
   ],
   "source": [
    "name='mayur'\n",
    "\n",
    "def function():\n",
    "    print('my name is ',name)\n",
    "\n",
    "# here we can access the variable name from outside to inside of function\n",
    "function()"
   ]
  },
  {
   "cell_type": "markdown",
   "id": "942ac74b-4674-4f7a-ba99-7dec8f4d4f8b",
   "metadata": {},
   "source": [
    "                            Lambda Functions and Higher-Order Functions:"
   ]
  },
  {
   "cell_type": "markdown",
   "id": "8bcb8c3c-a640-4e4d-a7ae-93cc99d567c1",
   "metadata": {},
   "source": [
    "1. What are lambda functions in Python, and when are they typically used?"
   ]
  },
  {
   "cell_type": "markdown",
   "id": "29e0cecb-00ea-4f23-9652-84f25ac53e1a",
   "metadata": {},
   "source": [
    "'''\n",
    "A lambda function is a small anonymous function.\n",
    "A lambda function can take any number of arguments, but can only have one expression.\n",
    "\n",
    "The power of lambda is better shown when you use them as an anonymous function inside another function.\n",
    "'''"
   ]
  },
  {
   "cell_type": "markdown",
   "id": "5cd8c32a-66ab-4df9-ba26-0f631a829cd1",
   "metadata": {},
   "source": [
    "2. Write a Python program that uses lambda functions to sort a list of tuples based on the second element."
   ]
  },
  {
   "cell_type": "code",
   "execution_count": 17,
   "id": "fac793ae-af9e-47f2-8f20-dd259e02b767",
   "metadata": {},
   "outputs": [
    {
     "name": "stdout",
     "output_type": "stream",
     "text": [
      "my list: [(4, 6), (3, 1), (5, 3)]\n",
      "[(3, 1), (5, 3), (4, 6)]\n"
     ]
    }
   ],
   "source": [
    "my_list=[(4,6),(3,1),(5,3)]\n",
    "print('my list:',my_list)\n",
    "\n",
    "sorted_list=sorted(my_list,key=lambda a:a[1])\n",
    "\n",
    "print(sorted_list)"
   ]
  },
  {
   "cell_type": "markdown",
   "id": "4f79d3b7-42a2-4bdc-a228-5156bd9ecbd1",
   "metadata": {},
   "source": [
    "3. Explain the concept of higher-order functions in Python, and provide an example."
   ]
  },
  {
   "cell_type": "code",
   "execution_count": 22,
   "id": "3d3d6d99-456e-4805-878a-971256ea9e27",
   "metadata": {},
   "outputs": [
    {
     "data": {
      "text/plain": [
       "12"
      ]
     },
     "execution_count": 22,
     "metadata": {},
     "output_type": "execute_result"
    }
   ],
   "source": [
    "'''\n",
    "Higher-order functions are functions that can take other functions as arguments or return them as results. In Python, functions\n",
    "are first-class citizens, which means they can be treated like any other object, such as integers or strings. This enables \n",
    "Python to support higher-order functions.\n",
    "'''\n",
    "# example\n",
    "def apply_operation(operation,x,y):\n",
    "    return operation(x,y)\n",
    "\n",
    "def add(x,y):\n",
    "    return x+y\n",
    "\n",
    "apply_operation(add,5,7)"
   ]
  },
  {
   "cell_type": "markdown",
   "id": "164af907-fa23-4152-a602-97046813f223",
   "metadata": {},
   "source": [
    "4. Create a Python function that takes a list of numbers and a function as arguments, applying the\n",
    "function to each element in the list."
   ]
  },
  {
   "cell_type": "code",
   "execution_count": 24,
   "id": "dd8dcad1-aace-481f-9812-f329ca08d052",
   "metadata": {},
   "outputs": [
    {
     "data": {
      "text/plain": [
       "[2, 4, 6, 8, 10]"
      ]
     },
     "execution_count": 24,
     "metadata": {},
     "output_type": "execute_result"
    }
   ],
   "source": [
    "my_list=[1,2,3,4,5]\n",
    "\n",
    "def my_function(operation,my_list):\n",
    "    result=[]\n",
    "    for number in my_list:\n",
    "        result.append(operation(number))\n",
    "    return result\n",
    "\n",
    "def multiply(a):\n",
    "    return a*2\n",
    "\n",
    "my_function(multiply,my_list)"
   ]
  },
  {
   "cell_type": "markdown",
   "id": "4ec84dc1-8b18-4d0e-af84-914bd03c04e3",
   "metadata": {},
   "source": [
    "                                              Built-in Functions:"
   ]
  },
  {
   "cell_type": "markdown",
   "id": "a78e9a90-f81f-433f-a02e-715c6a448cbb",
   "metadata": {},
   "source": [
    "1. Describe the role of built-in functions like `len()`, `max()`, and `min()` in Python.\n"
   ]
  },
  {
   "cell_type": "code",
   "execution_count": 25,
   "id": "8b3e507b-39f1-4177-8bd2-323a7924aa4b",
   "metadata": {},
   "outputs": [
    {
     "name": "stdout",
     "output_type": "stream",
     "text": [
      "length of my list is: 5\n",
      "maximum number in my list is: 5\n",
      "minimum number in my list is: 1\n"
     ]
    }
   ],
   "source": [
    "my_list=[1,2,3,4,5]\n",
    "\n",
    "# 1.len() function is used to measure total length of a variable or total elements in a variable\n",
    "print('length of my list is:',len(my_list))\n",
    "\n",
    "# 2.max() function is used to maximum or a bigger value from all variable\n",
    "print('maximum number in my list is:',max(my_list))\n",
    "\n",
    "# 3.min() function is used to minimum or a smaller value from all variable\n",
    "print('minimum number in my list is:',min(my_list))"
   ]
  },
  {
   "cell_type": "markdown",
   "id": "acc9f143-3fa7-4868-8ba5-58a60adf5ab7",
   "metadata": {},
   "source": [
    "2. Write a Python program that uses the `map()` function to apply a function to each element of a\n",
    "list."
   ]
  },
  {
   "cell_type": "code",
   "execution_count": 30,
   "id": "e1ee685c-1fff-4fed-a5f6-48068dccfb47",
   "metadata": {},
   "outputs": [
    {
     "name": "stdout",
     "output_type": "stream",
     "text": [
      "my list after multiply 2  [2, 4, 6, 8, 10, 12]\n"
     ]
    }
   ],
   "source": [
    "my_list=[1,2,3,4,5,6]\n",
    "x=list(map(lambda a:a*2,my_list))\n",
    "print('my list after multiply 2 ',x)"
   ]
  },
  {
   "cell_type": "markdown",
   "id": "6669a539-c13b-407c-b313-0477e64525c6",
   "metadata": {},
   "source": [
    "3. How does the `filter()` function work in Python, and when would you use it?"
   ]
  },
  {
   "cell_type": "code",
   "execution_count": 34,
   "id": "85bff189-a079-4139-bbb8-a50497aaf48d",
   "metadata": {},
   "outputs": [
    {
     "name": "stdout",
     "output_type": "stream",
     "text": [
      "my list after filtering even number: [2, 4, 6]\n"
     ]
    }
   ],
   "source": [
    "'''\n",
    "The filter() function in Python is a built-in function that is used to filter elements from an iterable \n",
    "(e.g., a list, tuple, or string) based on a specified function or condition. It returns a new iterable containing only the \n",
    "elements that satisfy the given condition.\n",
    "'''\n",
    "# example\n",
    "\n",
    "my_list=[1,2,3,4,5,6]\n",
    "x=list(filter(lambda a:a%2==0,my_list))\n",
    "print('my list after filtering even number:',x)"
   ]
  },
  {
   "cell_type": "markdown",
   "id": "f4685ee4-8ebf-4b62-abe0-5bdaceb19b76",
   "metadata": {},
   "source": [
    "4. Create a Python program that uses the `reduce()` function to find the product of all elements in\n",
    "a list.\n"
   ]
  },
  {
   "cell_type": "code",
   "execution_count": 36,
   "id": "e8355e7c-fd23-43cf-9d9d-4d9af0ffb3ac",
   "metadata": {},
   "outputs": [
    {
     "name": "stdout",
     "output_type": "stream",
     "text": [
      "after a product of all number: 720\n"
     ]
    }
   ],
   "source": [
    "from functools import reduce\n",
    "\n",
    "my_list=[1,2,3,4,5,6]\n",
    "x=reduce(lambda a,b:a*b,my_list)\n",
    "print('after a product of all number:',x)"
   ]
  },
  {
   "cell_type": "markdown",
   "id": "69f3c973-b812-4362-be02-1b34894db9fe",
   "metadata": {},
   "source": [
    "                                 Function Documentation and Best Practices:"
   ]
  },
  {
   "cell_type": "markdown",
   "id": "67b8ac31-4ee9-4604-b53d-bdb1db2fab52",
   "metadata": {},
   "source": [
    "1. Explain the purpose of docstrings in Python functions and how to write them"
   ]
  },
  {
   "cell_type": "code",
   "execution_count": 39,
   "id": "cde32115-39de-4a62-9b6d-96916a724499",
   "metadata": {},
   "outputs": [
    {
     "name": "stdout",
     "output_type": "stream",
     "text": [
      "\n",
      "    Adds two numbers together.\n",
      "\n",
      "    Parameters:\n",
      "    a (int or float): The first number.\n",
      "    b (int or float): The second number.\n",
      "\n",
      "    Returns:\n",
      "    int or float: The sum of a and b.\n",
      "    \n"
     ]
    }
   ],
   "source": [
    "'''\n",
    "In Python, a docstring is a string literal that is used to provide documentation for a function, module, class, or method. \n",
    "Docstrings are essential for documenting your code and making it more understandable for both developers and users of your code\n",
    "The purpose of docstrings is to describe what the code does, provide information about its usage, and offer a quick reference \n",
    "for the function's or module's API.\n",
    "'''\n",
    "\n",
    "def add(a, b):\n",
    "    \"\"\"\n",
    "    Adds two numbers together.\n",
    "\n",
    "    Parameters:\n",
    "    a (int or float): The first number.\n",
    "    b (int or float): The second number.\n",
    "\n",
    "    Returns:\n",
    "    int or float: The sum of a and b.\n",
    "    \"\"\"\n",
    "    return a + b\n",
    "\n",
    "print(add.__doc__)"
   ]
  },
  {
   "cell_type": "markdown",
   "id": "8b5fee4e-cf88-4b17-954e-5b1a4e6283a0",
   "metadata": {},
   "source": [
    "2.Describes some best practices for naming functions and variables in Python, using naming conventions and \n",
    "guidelines.\n",
    "\n"
   ]
  },
  {
   "cell_type": "markdown",
   "id": "6c1036d4-c4ad-4f17-b6b7-e13b9c1aae15",
   "metadata": {},
   "source": [
    "Function naming:\n",
    "\n",
    "1.Use Descriptive Names: Choose meaningful and descriptive names for your functions. This makes the code more readable and \n",
    " understandable.  \n",
    " Example\n",
    "\n",
    " Good: calculate_average_score\n",
    " Bad: avg\n",
    "\n",
    "2.Use Snake Case: Follow the convention of using lowercase letters and underscores to separate words in function names.\n",
    " Example\n",
    "    \n",
    " Good: calculate_average_score\n",
    " Bad: calculateAverageScore, CalculateAverageScore\n",
    "\n",
    "Variable naming:\n",
    "\n",
    "1.Use Descriptive Names: Similar to functions, choose meaningful and descriptive names for variables.\n",
    "Example\n",
    "\n",
    " Good: student_name\n",
    " Bad: s\n",
    "\n",
    "2.Use Camel Case: Use lowercase letters for the first word and capitalize the first letter of subsequent words in variable names.\n",
    "Example\n",
    "\n",
    " Good: studentName\n",
    " Bad: student_name, Student_Name\n",
    "\n",
    "3.Avoid Single-Character Names: Use names that provide context and meaning. Avoid single-character variable names except in specific cases (e.g., loop iterators).\n",
    "Example\n",
    "\n",
    " Good: i (for loop iterator)\n",
    " Bad: x, a, v\n"
   ]
  },
  {
   "cell_type": "code",
   "execution_count": null,
   "id": "96ee81e3-238d-4d3f-87df-63eedc5e9809",
   "metadata": {},
   "outputs": [],
   "source": []
  }
 ],
 "metadata": {
  "kernelspec": {
   "display_name": "Python 3 (ipykernel)",
   "language": "python",
   "name": "python3"
  },
  "language_info": {
   "codemirror_mode": {
    "name": "ipython",
    "version": 3
   },
   "file_extension": ".py",
   "mimetype": "text/x-python",
   "name": "python",
   "nbconvert_exporter": "python",
   "pygments_lexer": "ipython3",
   "version": "3.10.8"
  }
 },
 "nbformat": 4,
 "nbformat_minor": 5
}
