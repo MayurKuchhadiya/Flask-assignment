{
 "cells": [
  {
   "cell_type": "markdown",
   "id": "ad8d25d2-c96a-4fe9-9719-2106186f0b7f",
   "metadata": {},
   "source": [
    "### Q.1. Can you explain the logic and working of the Tower of Hanoi algorithm by writing a Java program?   How does the recursion work, and how are the movements of disks between rods accomplished?"
   ]
  },
  {
   "cell_type": "code",
   "execution_count": 5,
   "id": "730ab7aa-f9d3-4d5c-987d-1ecd5110f5a7",
   "metadata": {},
   "outputs": [
    {
     "name": "stdout",
     "output_type": "stream",
     "text": [
      "Move disc 1 from A to c\n",
      "Move disc 2 from A to B\n",
      "Move disc 1 from B to c\n",
      "Move disc 3 from A to c\n",
      "Move disc 1 from c to A\n",
      "Move disc 2 from c to B\n",
      "Move disc 1 from B to A\n"
     ]
    }
   ],
   "source": [
    "def tower_of_hanoi(number_of_disc,source_rod,target_rod,auxillary_rod):\n",
    "    if number_of_disc==1:\n",
    "        print(f'Move disc 1 from {source_rod} to {target_rod}')\n",
    "        return \n",
    "    tower_of_hanoi(number_of_disc-1,source_rod,auxillary_rod,target_rod)\n",
    "    print(f'Move disc {number_of_disc} from {source_rod} to {target_rod}')\n",
    "    tower_of_hanoi(number_of_disc-1,target_rod,auxillary_rod,source_rod)\n",
    "    \n",
    "tower_of_hanoi(3,'A','c','B')"
   ]
  },
  {
   "cell_type": "markdown",
   "id": "be74320c-df36-4f6e-9502-17695954458d",
   "metadata": {},
   "source": [
    "1.The solveTowerOfHanoi method is a recursive function that takes four parameters:\n",
    "\n",
    "  n: the number of disks to be moved.\n",
    "  source: the rod from which disks are to be moved.\n",
    "  destination: the rod to which disks are to be moved.\n",
    "  auxiliary: the auxiliary rod.\n",
    "  \n",
    "2.The base case of the recursion is when there is only one disk (n == 1). In this case, the program prints a statement      indicating the movement of the disk from the source rod to the destination rod.\n",
    "\n",
    "3.In the recursive case (n > 1), the algorithm follows these steps:\n",
    "\n",
    "Move the top n-1 disks from the source rod to the auxiliary rod using the destination rod as an auxiliary rod.\n",
    "Move the nth disk from the source rod to the destination rod.\n",
    "Move the n-1 disks from the auxiliary rod to the destination rod using the source rod as an auxiliary rod.\n"
   ]
  },
  {
   "cell_type": "markdown",
   "id": "f913b33a-d30c-4b89-a4b7-20683c6f7ea8",
   "metadata": {},
   "source": [
    "### Q.2 Given two strings word1 and word2, return the minimum number of operations required to convert word1 to word2."
   ]
  },
  {
   "cell_type": "code",
   "execution_count": 38,
   "id": "9447b41e-e40d-4105-9af8-4cdadd6b3b54",
   "metadata": {},
   "outputs": [
    {
     "name": "stdout",
     "output_type": "stream",
     "text": [
      "3\n",
      "5\n"
     ]
    }
   ],
   "source": [
    "def minDistance(word1, word2):\n",
    "    m, n = len(word1), len(word2)\n",
    "\n",
    "    # Initialize a 2D array with dimensions (m+1) x (n+1)\n",
    "    dp = [[0] * (n + 1) for _ in range(m + 1)]\n",
    "\n",
    "    # Initialize the base cases\n",
    "    for i in range(m + 1):\n",
    "        dp[i][0] = i\n",
    "    for j in range(n + 1):\n",
    "        dp[0][j] = j\n",
    "\n",
    "    # Fill in the DP array\n",
    "    for i in range(1, m + 1):\n",
    "        for j in range(1, n + 1):\n",
    "            if word1[i - 1] == word2[j - 1]:\n",
    "                dp[i][j] = dp[i - 1][j - 1]\n",
    "            else:\n",
    "                dp[i][j] = 1 + min(dp[i - 1][j], dp[i][j - 1], dp[i - 1][j - 1])\n",
    "\n",
    "    # The bottom-right cell contains the minimum number of operations\n",
    "    return dp[m][n]\n",
    "\n",
    "# Example usage\n",
    "word1 = \"horse\"\n",
    "word2 = \"ros\"\n",
    "result = minDistance(word1, word2)\n",
    "print(result)\n",
    "word3='intention'\n",
    "word4='execution'\n",
    "result1=minDistance(word3,word4)\n",
    "print(result1)"
   ]
  },
  {
   "cell_type": "markdown",
   "id": "893a1a7b-0cdd-4436-bdcf-f2c17a152a07",
   "metadata": {},
   "source": [
    "### Q. 3 Print the max value of the array [ 13, 1, -3, 22, 5]."
   ]
  },
  {
   "cell_type": "code",
   "execution_count": 58,
   "id": "4c67887b-f943-4636-815e-c7d0b065fecc",
   "metadata": {},
   "outputs": [
    {
     "name": "stdout",
     "output_type": "stream",
     "text": [
      "22\n"
     ]
    }
   ],
   "source": [
    "array=[13,1,-3,22,5]\n",
    "print('Maximum of array max(array))"
   ]
  },
  {
   "cell_type": "markdown",
   "id": "81a42943-fe6e-4509-bf22-7b47427056f3",
   "metadata": {},
   "source": [
    "### Q.4 Find the sum of the values of the array [92, 23, 15, -20, 10]."
   ]
  },
  {
   "cell_type": "code",
   "execution_count": 60,
   "id": "361d2ed9-fbae-4561-91e5-7d75172b3266",
   "metadata": {},
   "outputs": [
    {
     "name": "stdout",
     "output_type": "stream",
     "text": [
      "120\n"
     ]
    }
   ],
   "source": [
    "array=[92,23,15,-20,10]\n",
    "result=sum(array)\n",
    "print(result)"
   ]
  },
  {
   "cell_type": "markdown",
   "id": "761af673-a4b9-4234-93a4-0a3b254c854e",
   "metadata": {},
   "source": [
    "### Q.5 Given a number n. Print if it is an armstrong number or not.An armstrong number is a number if the sum of every digit in that number raised to the power of total digits in that number is equal to the number."
   ]
  },
  {
   "cell_type": "code",
   "execution_count": 67,
   "id": "e6d24499-74ba-402c-8eef-c824228058e6",
   "metadata": {},
   "outputs": [
    {
     "name": "stdout",
     "output_type": "stream",
     "text": [
      "153 is a armstrong number\n"
     ]
    }
   ],
   "source": [
    "def armstrong(n):\n",
    "    summ=0\n",
    "    for i in str(n):\n",
    "        summ+=(int(i)**len(str(n)))\n",
    "    if summ==n:\n",
    "        print(f'{n} is a armstrong number')\n",
    "    else:\n",
    "        print(f'{n} is not a armstrong number')\n",
    "    \n",
    "armstrong(153)"
   ]
  },
  {
   "cell_type": "code",
   "execution_count": null,
   "id": "45256cea-a8a9-4a54-9f8e-9d90ca0df999",
   "metadata": {},
   "outputs": [],
   "source": []
  }
 ],
 "metadata": {
  "kernelspec": {
   "display_name": "Python 3 (ipykernel)",
   "language": "python",
   "name": "python3"
  },
  "language_info": {
   "codemirror_mode": {
    "name": "ipython",
    "version": 3
   },
   "file_extension": ".py",
   "mimetype": "text/x-python",
   "name": "python",
   "nbconvert_exporter": "python",
   "pygments_lexer": "ipython3",
   "version": "3.10.8"
  }
 },
 "nbformat": 4,
 "nbformat_minor": 5
}
